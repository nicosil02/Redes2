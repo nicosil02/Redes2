{
  "cells": [
    {
      "cell_type": "code",
      "execution_count": 57,
      "id": "a31450dc",
      "metadata": {
        "id": "a31450dc",
        "outputId": "6232cb2b-7f1b-45a4-ec33-bb5e85456008"
      },
      "outputs": [
        {
          "name": "stderr",
          "output_type": "stream",
          "text": [
            "INFO patool: Extracting C:/Users/Nicolas Silva/Documents/GitHub/Redes2/positivos_covid.rar ...\n",
            "INFO patool: running \"C:\\Program Files\\WinRAR\\rar.EXE\" x -- \"C:\\Users\\Nicolas Silva\\Documents\\GitHub\\Redes2\\positivos_covid.rar\"\n",
            "INFO patool:     with cwd=C:\\Users\\NICOLA~1\\AppData\\Local\\Temp\\tmp5leu52ye, input=\n",
            "INFO patool: ... C:/Users/Nicolas Silva/Documents/GitHub/Redes2/positivos_covid.rar extracted to `C:\\Users\\NICOLA~1\\AppData\\Local\\Temp\\tmp5leu52ye'.\n"
          ]
        },
        {
          "name": "stdout",
          "output_type": "stream",
          "text": [
            "         FECHA_CORTE DEPARTAMENTO  PROVINCIA              DISTRITO METODODX  \\\n",
            "0           20241203       TUMBES     TUMBES                TUMBES       AG   \n",
            "1           20241203         LIMA       LIMA           JESUS MARIA       AG   \n",
            "2           20241203   SAN MARTIN  MOYOBAMBA             MOYOBAMBA       AG   \n",
            "3           20241203     AREQUIPA   CAYLLOMA             COPORAQUE       AG   \n",
            "4           20241203         LIMA       LIMA           JESUS MARIA       AG   \n",
            "...              ...          ...        ...                   ...      ...   \n",
            "4585355     20241203         LIMA       LIMA           JESUS MARIA       AG   \n",
            "4585356     20241203         LIMA       LIMA           EL AGUSTINO       AG   \n",
            "4585357     20241203         LIMA       LIMA                   ATE       AG   \n",
            "4585358     20241203         LIMA       LIMA  SAN MARTIN DE PORRES       AG   \n",
            "4585359     20241203         LIMA       LIMA            CARABAYLLO       AG   \n",
            "\n",
            "         EDAD       SEXO  FECHA_RESULTADO    UBIGEO  id_persona  \n",
            "0        46.0   FEMENINO       20221207.0  240101.0    203499.0  \n",
            "1        69.0   FEMENINO       20230822.0  150113.0    221397.0  \n",
            "2        55.0   FEMENINO       20240108.0  220101.0    295651.0  \n",
            "3        50.0  MASCULINO       20230824.0   40506.0    851625.0  \n",
            "4        58.0  MASCULINO       20221217.0  150113.0    287786.0  \n",
            "...       ...        ...              ...       ...         ...  \n",
            "4585355  21.0  MASCULINO       20220105.0  150113.0         NaN  \n",
            "4585356  22.0  MASCULINO       20220107.0  150111.0         NaN  \n",
            "4585357  22.0  MASCULINO       20220107.0  150103.0         NaN  \n",
            "4585358  22.0  MASCULINO       20220107.0  150135.0         NaN  \n",
            "4585359  22.0  MASCULINO       20220107.0  150106.0         NaN  \n",
            "\n",
            "[4585360 rows x 10 columns]\n"
          ]
        }
      ],
      "source": [
        "#Data casos positivos\n",
        "\n",
        "import pandas as pd\n",
        "#!pip install patool pandas\n",
        "import patoolib\n",
        "import pandas as pd\n",
        "import os\n",
        "from tempfile import TemporaryDirectory\n",
        "\n",
        "\n",
        "rar_path = \"C:/Users/Nicolas Silva/Documents/GitHub/Redes2/positivos_covid.rar\"\n",
        "with TemporaryDirectory() as tmpdir:\n",
        "    patoolib.extract_archive(rar_path, outdir=tmpdir)\n",
        "    \n",
        "    csv_filename = [f for f in os.listdir(tmpdir) if f.endswith('.csv')][0]\n",
        "    csv_path = os.path.join(tmpdir, csv_filename)\n",
        "\n",
        "    contagiados = pd.read_csv(csv_path, delimiter=';')\n",
        "\n",
        "print(contagiados)\n",
        "\n"
      ]
    },
    {
      "cell_type": "code",
      "execution_count": 58,
      "id": "e0a4a89d-8f54-46b3-891f-0b9f391a5719",
      "metadata": {
        "id": "e0a4a89d-8f54-46b3-891f-0b9f391a5719",
        "outputId": "22e4ea73-ba89-44ca-91fc-6d5ce85443a5"
      },
      "outputs": [
        {
          "data": {
            "text/html": [
              "<div>\n",
              "<style scoped>\n",
              "    .dataframe tbody tr th:only-of-type {\n",
              "        vertical-align: middle;\n",
              "    }\n",
              "\n",
              "    .dataframe tbody tr th {\n",
              "        vertical-align: top;\n",
              "    }\n",
              "\n",
              "    .dataframe thead th {\n",
              "        text-align: right;\n",
              "    }\n",
              "</style>\n",
              "<table border=\"1\" class=\"dataframe\">\n",
              "  <thead>\n",
              "    <tr style=\"text-align: right;\">\n",
              "      <th></th>\n",
              "      <th>FECHA_CORTE</th>\n",
              "      <th>FECHA_FALLECIMIENTO</th>\n",
              "      <th>EDAD_DECLARADA</th>\n",
              "      <th>SEXO</th>\n",
              "      <th>CLASIFICACION_DEF</th>\n",
              "      <th>DEPARTAMENTO</th>\n",
              "      <th>PROVINCIA</th>\n",
              "      <th>DISTRITO</th>\n",
              "      <th>UBIGEO</th>\n",
              "      <th>UUID</th>\n",
              "    </tr>\n",
              "  </thead>\n",
              "  <tbody>\n",
              "    <tr>\n",
              "      <th>0</th>\n",
              "      <td>20240317</td>\n",
              "      <td>20220219</td>\n",
              "      <td>63</td>\n",
              "      <td>MASCULINO</td>\n",
              "      <td>Criterio virológico</td>\n",
              "      <td>TUMBES</td>\n",
              "      <td>TUMBES</td>\n",
              "      <td>TUMBES</td>\n",
              "      <td>240101.0</td>\n",
              "      <td>203506.0</td>\n",
              "    </tr>\n",
              "    <tr>\n",
              "      <th>1</th>\n",
              "      <td>20240317</td>\n",
              "      <td>20210529</td>\n",
              "      <td>74</td>\n",
              "      <td>MASCULINO</td>\n",
              "      <td>Criterio virológico</td>\n",
              "      <td>TUMBES</td>\n",
              "      <td>TUMBES</td>\n",
              "      <td>TUMBES</td>\n",
              "      <td>240101.0</td>\n",
              "      <td>203532.0</td>\n",
              "    </tr>\n",
              "    <tr>\n",
              "      <th>2</th>\n",
              "      <td>20240317</td>\n",
              "      <td>20210623</td>\n",
              "      <td>72</td>\n",
              "      <td>FEMENINO</td>\n",
              "      <td>Criterio SINADEF</td>\n",
              "      <td>TACNA</td>\n",
              "      <td>TACNA</td>\n",
              "      <td>ALTO DE LA ALIANZA</td>\n",
              "      <td>230102.0</td>\n",
              "      <td>203584.0</td>\n",
              "    </tr>\n",
              "    <tr>\n",
              "      <th>3</th>\n",
              "      <td>20240317</td>\n",
              "      <td>20210824</td>\n",
              "      <td>85</td>\n",
              "      <td>MASCULINO</td>\n",
              "      <td>Criterio investigación Epidemiológica</td>\n",
              "      <td>TUMBES</td>\n",
              "      <td>TUMBES</td>\n",
              "      <td>TUMBES</td>\n",
              "      <td>240101.0</td>\n",
              "      <td>212541.0</td>\n",
              "    </tr>\n",
              "    <tr>\n",
              "      <th>4</th>\n",
              "      <td>20240317</td>\n",
              "      <td>20210627</td>\n",
              "      <td>46</td>\n",
              "      <td>MASCULINO</td>\n",
              "      <td>Criterio virológico</td>\n",
              "      <td>TACNA</td>\n",
              "      <td>TACNA</td>\n",
              "      <td>ALTO DE LA ALIANZA</td>\n",
              "      <td>230102.0</td>\n",
              "      <td>203665.0</td>\n",
              "    </tr>\n",
              "  </tbody>\n",
              "</table>\n",
              "</div>"
            ],
            "text/plain": [
              "   FECHA_CORTE  FECHA_FALLECIMIENTO  EDAD_DECLARADA       SEXO  \\\n",
              "0     20240317             20220219              63  MASCULINO   \n",
              "1     20240317             20210529              74  MASCULINO   \n",
              "2     20240317             20210623              72   FEMENINO   \n",
              "3     20240317             20210824              85  MASCULINO   \n",
              "4     20240317             20210627              46  MASCULINO   \n",
              "\n",
              "                       CLASIFICACION_DEF DEPARTAMENTO PROVINCIA  \\\n",
              "0                    Criterio virológico       TUMBES    TUMBES   \n",
              "1                    Criterio virológico       TUMBES    TUMBES   \n",
              "2                       Criterio SINADEF        TACNA     TACNA   \n",
              "3  Criterio investigación Epidemiológica       TUMBES    TUMBES   \n",
              "4                    Criterio virológico        TACNA     TACNA   \n",
              "\n",
              "             DISTRITO    UBIGEO      UUID  \n",
              "0              TUMBES  240101.0  203506.0  \n",
              "1              TUMBES  240101.0  203532.0  \n",
              "2  ALTO DE LA ALIANZA  230102.0  203584.0  \n",
              "3              TUMBES  240101.0  212541.0  \n",
              "4  ALTO DE LA ALIANZA  230102.0  203665.0  "
            ]
          },
          "execution_count": 58,
          "metadata": {},
          "output_type": "execute_result"
        }
      ],
      "source": [
        "#data fallecidos\n",
        "fallecidos = pd.read_csv(\"fallecidos_covid.csv\",delimiter=';')\n",
        "fallecidos.head()\n"
      ]
    },
    {
      "cell_type": "code",
      "execution_count": 59,
      "id": "59f7b7e4",
      "metadata": {},
      "outputs": [],
      "source": [
        "fallecidos[\"FECHA_FALLECIMIENTO\"] = fallecidos[\"FECHA_FALLECIMIENTO\"].astype(str)\n",
        "fallecidos[\"year\"] = fallecidos[\"FECHA_FALLECIMIENTO\"].str[:4]\n",
        "fallecidos = fallecidos.drop(columns=[\"FECHA_FALLECIMIENTO\"])"
      ]
    },
    {
      "cell_type": "markdown",
      "id": "00eca694",
      "metadata": {},
      "source": [
        "## Contagiados"
      ]
    },
    {
      "cell_type": "markdown",
      "id": "5332de91",
      "metadata": {},
      "source": [
        "### Exploramos la data"
      ]
    },
    {
      "cell_type": "code",
      "execution_count": 60,
      "id": "a5999da7-6fbb-44c7-9b81-4f50f2adebd0",
      "metadata": {
        "id": "a5999da7-6fbb-44c7-9b81-4f50f2adebd0",
        "outputId": "8cae5095-cd71-4cb8-d510-0d5fa3b55862"
      },
      "outputs": [
        {
          "data": {
            "text/html": [
              "<div>\n",
              "<style scoped>\n",
              "    .dataframe tbody tr th:only-of-type {\n",
              "        vertical-align: middle;\n",
              "    }\n",
              "\n",
              "    .dataframe tbody tr th {\n",
              "        vertical-align: top;\n",
              "    }\n",
              "\n",
              "    .dataframe thead th {\n",
              "        text-align: right;\n",
              "    }\n",
              "</style>\n",
              "<table border=\"1\" class=\"dataframe\">\n",
              "  <thead>\n",
              "    <tr style=\"text-align: right;\">\n",
              "      <th></th>\n",
              "      <th>FECHA_CORTE</th>\n",
              "      <th>DEPARTAMENTO</th>\n",
              "      <th>PROVINCIA</th>\n",
              "      <th>DISTRITO</th>\n",
              "      <th>METODODX</th>\n",
              "      <th>EDAD</th>\n",
              "      <th>SEXO</th>\n",
              "      <th>FECHA_RESULTADO</th>\n",
              "      <th>UBIGEO</th>\n",
              "      <th>id_persona</th>\n",
              "    </tr>\n",
              "  </thead>\n",
              "  <tbody>\n",
              "    <tr>\n",
              "      <th>0</th>\n",
              "      <td>20241203</td>\n",
              "      <td>TUMBES</td>\n",
              "      <td>TUMBES</td>\n",
              "      <td>TUMBES</td>\n",
              "      <td>AG</td>\n",
              "      <td>46.0</td>\n",
              "      <td>FEMENINO</td>\n",
              "      <td>20221207.0</td>\n",
              "      <td>240101.0</td>\n",
              "      <td>203499.0</td>\n",
              "    </tr>\n",
              "    <tr>\n",
              "      <th>1</th>\n",
              "      <td>20241203</td>\n",
              "      <td>LIMA</td>\n",
              "      <td>LIMA</td>\n",
              "      <td>JESUS MARIA</td>\n",
              "      <td>AG</td>\n",
              "      <td>69.0</td>\n",
              "      <td>FEMENINO</td>\n",
              "      <td>20230822.0</td>\n",
              "      <td>150113.0</td>\n",
              "      <td>221397.0</td>\n",
              "    </tr>\n",
              "    <tr>\n",
              "      <th>2</th>\n",
              "      <td>20241203</td>\n",
              "      <td>SAN MARTIN</td>\n",
              "      <td>MOYOBAMBA</td>\n",
              "      <td>MOYOBAMBA</td>\n",
              "      <td>AG</td>\n",
              "      <td>55.0</td>\n",
              "      <td>FEMENINO</td>\n",
              "      <td>20240108.0</td>\n",
              "      <td>220101.0</td>\n",
              "      <td>295651.0</td>\n",
              "    </tr>\n",
              "    <tr>\n",
              "      <th>3</th>\n",
              "      <td>20241203</td>\n",
              "      <td>AREQUIPA</td>\n",
              "      <td>CAYLLOMA</td>\n",
              "      <td>COPORAQUE</td>\n",
              "      <td>AG</td>\n",
              "      <td>50.0</td>\n",
              "      <td>MASCULINO</td>\n",
              "      <td>20230824.0</td>\n",
              "      <td>40506.0</td>\n",
              "      <td>851625.0</td>\n",
              "    </tr>\n",
              "    <tr>\n",
              "      <th>4</th>\n",
              "      <td>20241203</td>\n",
              "      <td>LIMA</td>\n",
              "      <td>LIMA</td>\n",
              "      <td>JESUS MARIA</td>\n",
              "      <td>AG</td>\n",
              "      <td>58.0</td>\n",
              "      <td>MASCULINO</td>\n",
              "      <td>20221217.0</td>\n",
              "      <td>150113.0</td>\n",
              "      <td>287786.0</td>\n",
              "    </tr>\n",
              "  </tbody>\n",
              "</table>\n",
              "</div>"
            ],
            "text/plain": [
              "   FECHA_CORTE DEPARTAMENTO  PROVINCIA     DISTRITO METODODX  EDAD       SEXO  \\\n",
              "0     20241203       TUMBES     TUMBES       TUMBES       AG  46.0   FEMENINO   \n",
              "1     20241203         LIMA       LIMA  JESUS MARIA       AG  69.0   FEMENINO   \n",
              "2     20241203   SAN MARTIN  MOYOBAMBA    MOYOBAMBA       AG  55.0   FEMENINO   \n",
              "3     20241203     AREQUIPA   CAYLLOMA    COPORAQUE       AG  50.0  MASCULINO   \n",
              "4     20241203         LIMA       LIMA  JESUS MARIA       AG  58.0  MASCULINO   \n",
              "\n",
              "   FECHA_RESULTADO    UBIGEO  id_persona  \n",
              "0       20221207.0  240101.0    203499.0  \n",
              "1       20230822.0  150113.0    221397.0  \n",
              "2       20240108.0  220101.0    295651.0  \n",
              "3       20230824.0   40506.0    851625.0  \n",
              "4       20221217.0  150113.0    287786.0  "
            ]
          },
          "execution_count": 60,
          "metadata": {},
          "output_type": "execute_result"
        }
      ],
      "source": [
        "contagiados.head()\n"
      ]
    },
    {
      "cell_type": "code",
      "execution_count": 61,
      "id": "8f63bcae",
      "metadata": {},
      "outputs": [],
      "source": [
        "contagiados[\"FECHA_RESULTADO\"] = contagiados[\"FECHA_RESULTADO\"].astype(str)\n",
        "contagiados[\"year\"] = contagiados[\"FECHA_RESULTADO\"].str[:4]\n",
        "contagiados = contagiados.drop(columns=[\"FECHA_RESULTADO\"])"
      ]
    },
    {
      "cell_type": "code",
      "execution_count": 62,
      "id": "93e3e753",
      "metadata": {},
      "outputs": [],
      "source": [
        "#Limpiamos la variable year\n",
        "contagiados[\"year\"].unique()\n",
        "contagiados = contagiados[~contagiados[\"year\"].isin(['nan', '1899'])]\n",
        "contagiados = contagiados[contagiados[\"year\"].notna()]"
      ]
    },
    {
      "cell_type": "code",
      "execution_count": 63,
      "id": "95731345",
      "metadata": {},
      "outputs": [],
      "source": [
        "fallecidos['CATEGORIA'] = 'FALLECIDO'\n",
        "contagiados['CATEGORIA'] = 'CONTAGIADO'\n",
        "fallecidos = fallecidos.rename(columns={'EDAD_DECLARADA': 'EDAD'})"
      ]
    },
    {
      "cell_type": "code",
      "execution_count": 64,
      "id": "0b0305a6",
      "metadata": {},
      "outputs": [
        {
          "name": "stdout",
          "output_type": "stream",
          "text": [
            "         year       SEXO  EDAD DEPARTAMENTO PROVINCIA              DISTRITO  \\\n",
            "0        2022  MASCULINO  63.0       TUMBES    TUMBES                TUMBES   \n",
            "1        2021  MASCULINO  74.0       TUMBES    TUMBES                TUMBES   \n",
            "2        2021   FEMENINO  72.0        TACNA     TACNA    ALTO DE LA ALIANZA   \n",
            "3        2021  MASCULINO  85.0       TUMBES    TUMBES                TUMBES   \n",
            "4        2021  MASCULINO  46.0        TACNA     TACNA    ALTO DE LA ALIANZA   \n",
            "...       ...        ...   ...          ...       ...                   ...   \n",
            "4803856  2022  MASCULINO  21.0         LIMA      LIMA           JESUS MARIA   \n",
            "4803857  2022  MASCULINO  22.0         LIMA      LIMA           EL AGUSTINO   \n",
            "4803858  2022  MASCULINO  22.0         LIMA      LIMA                   ATE   \n",
            "4803859  2022  MASCULINO  22.0         LIMA      LIMA  SAN MARTIN DE PORRES   \n",
            "4803860  2022  MASCULINO  22.0         LIMA      LIMA            CARABAYLLO   \n",
            "\n",
            "           UBIGEO   CATEGORIA  \n",
            "0        240101.0   FALLECIDO  \n",
            "1        240101.0   FALLECIDO  \n",
            "2        230102.0   FALLECIDO  \n",
            "3        240101.0   FALLECIDO  \n",
            "4        230102.0   FALLECIDO  \n",
            "...           ...         ...  \n",
            "4803856  150113.0  CONTAGIADO  \n",
            "4803857  150111.0  CONTAGIADO  \n",
            "4803858  150103.0  CONTAGIADO  \n",
            "4803859  150135.0  CONTAGIADO  \n",
            "4803860  150106.0  CONTAGIADO  \n",
            "\n",
            "[4803861 rows x 8 columns]\n"
          ]
        }
      ],
      "source": [
        "key_columns = ['year', 'SEXO', 'EDAD', 'DEPARTAMENTO', 'PROVINCIA', 'DISTRITO', 'UBIGEO', 'CATEGORIA']\n",
        "covid = pd.concat([fallecidos[key_columns], contagiados[key_columns]], ignore_index=True)\n",
        "print(covid)"
      ]
    },
    {
      "cell_type": "code",
      "execution_count": 65,
      "id": "1f4d811f",
      "metadata": {},
      "outputs": [
        {
          "data": {
            "text/plain": [
              "CATEGORIA\n",
              "CONTAGIADO    4582943\n",
              "FALLECIDO      220918\n",
              "Name: count, dtype: int64"
            ]
          },
          "execution_count": 65,
          "metadata": {},
          "output_type": "execute_result"
        }
      ],
      "source": [
        "covid['CATEGORIA'].value_counts()"
      ]
    },
    {
      "cell_type": "markdown",
      "id": "2126e732",
      "metadata": {
        "id": "2126e732"
      },
      "source": [
        "## Reshaping to Long\n",
        "\n",
        "People per level, by distrit by year:"
      ]
    },
    {
      "cell_type": "code",
      "execution_count": 22,
      "id": "5182331a-080a-4858-a59f-1f1378dc4ad6",
      "metadata": {
        "id": "5182331a-080a-4858-a59f-1f1378dc4ad6",
        "outputId": "ae272c8a-c0be-43ba-f527-fa30aa02e7db"
      },
      "outputs": [
        {
          "data": {
            "text/html": [
              "<div>\n",
              "<style scoped>\n",
              "    .dataframe tbody tr th:only-of-type {\n",
              "        vertical-align: middle;\n",
              "    }\n",
              "\n",
              "    .dataframe tbody tr th {\n",
              "        vertical-align: top;\n",
              "    }\n",
              "\n",
              "    .dataframe thead th {\n",
              "        text-align: right;\n",
              "    }\n",
              "</style>\n",
              "<table border=\"1\" class=\"dataframe\">\n",
              "  <thead>\n",
              "    <tr style=\"text-align: right;\">\n",
              "      <th></th>\n",
              "      <th></th>\n",
              "      <th></th>\n",
              "      <th>fallecidos</th>\n",
              "    </tr>\n",
              "    <tr>\n",
              "      <th>year</th>\n",
              "      <th>DEPARTAMENTO</th>\n",
              "      <th>PROVINCIA</th>\n",
              "      <th></th>\n",
              "    </tr>\n",
              "  </thead>\n",
              "  <tbody>\n",
              "    <tr>\n",
              "      <th rowspan=\"5\" valign=\"top\">2020</th>\n",
              "      <th rowspan=\"5\" valign=\"top\">AMAZONAS</th>\n",
              "      <th>BAGUA</th>\n",
              "      <td>8126</td>\n",
              "    </tr>\n",
              "    <tr>\n",
              "      <th>BONGARA</th>\n",
              "      <td>389</td>\n",
              "    </tr>\n",
              "    <tr>\n",
              "      <th>CHACHAPOYAS</th>\n",
              "      <td>2174</td>\n",
              "    </tr>\n",
              "    <tr>\n",
              "      <th>CONDORCANQUI</th>\n",
              "      <td>3481</td>\n",
              "    </tr>\n",
              "    <tr>\n",
              "      <th>EN INVESTIGACIÓN</th>\n",
              "      <td>77</td>\n",
              "    </tr>\n",
              "    <tr>\n",
              "      <th>...</th>\n",
              "      <th>...</th>\n",
              "      <th>...</th>\n",
              "      <td>...</td>\n",
              "    </tr>\n",
              "    <tr>\n",
              "      <th rowspan=\"5\" valign=\"top\">2024</th>\n",
              "      <th rowspan=\"2\" valign=\"top\">TUMBES</th>\n",
              "      <th>TUMBES</th>\n",
              "      <td>57</td>\n",
              "    </tr>\n",
              "    <tr>\n",
              "      <th>ZARUMILLA</th>\n",
              "      <td>16</td>\n",
              "    </tr>\n",
              "    <tr>\n",
              "      <th rowspan=\"3\" valign=\"top\">UCAYALI</th>\n",
              "      <th>CORONEL PORTILLO</th>\n",
              "      <td>117</td>\n",
              "    </tr>\n",
              "    <tr>\n",
              "      <th>EN INVESTIGACIÓN</th>\n",
              "      <td>1</td>\n",
              "    </tr>\n",
              "    <tr>\n",
              "      <th>PADRE ABAD</th>\n",
              "      <td>6</td>\n",
              "    </tr>\n",
              "  </tbody>\n",
              "</table>\n",
              "<p>1074 rows × 1 columns</p>\n",
              "</div>"
            ],
            "text/plain": [
              "                                    fallecidos\n",
              "year DEPARTAMENTO PROVINCIA                   \n",
              "2020 AMAZONAS     BAGUA                   8126\n",
              "                  BONGARA                  389\n",
              "                  CHACHAPOYAS             2174\n",
              "                  CONDORCANQUI            3481\n",
              "                  EN INVESTIGACIÓN          77\n",
              "...                                        ...\n",
              "2024 TUMBES       TUMBES                    57\n",
              "                  ZARUMILLA                 16\n",
              "     UCAYALI      CORONEL PORTILLO         117\n",
              "                  EN INVESTIGACIÓN           1\n",
              "                  PADRE ABAD                 6\n",
              "\n",
              "[1074 rows x 1 columns]"
            ]
          },
          "execution_count": 22,
          "metadata": {},
          "output_type": "execute_result"
        }
      ],
      "source": [
        "indexList = ['year', 'DEPARTAMENTO', 'PROVINCIA']\n",
        "aggregator = {'id_persona': [len]}  \n",
        "fallecidos_provYear = contagiados.groupby(indexList, observed=True).agg(aggregator)\n",
        "# Renombramos len a fallecidos\n",
        "fallecidos_provYear.columns = ['fallecidos']\n",
        "fallecidos_provYear"
      ]
    },
    {
      "cell_type": "markdown",
      "id": "d5de3187",
      "metadata": {
        "id": "d5de3187"
      },
      "source": [
        "Sending the counts to wide columns:"
      ]
    },
    {
      "cell_type": "markdown",
      "id": "b571a030",
      "metadata": {
        "id": "b571a030"
      },
      "source": [
        "Computing share of dengue, level 'alarm':"
      ]
    },
    {
      "cell_type": "code",
      "execution_count": 26,
      "id": "d5263d5c-f1b1-454c-b264-8fb9d50b17bc",
      "metadata": {
        "id": "d5263d5c-f1b1-454c-b264-8fb9d50b17bc",
        "outputId": "cb1d5877-55f1-48f9-ec68-4ad85361b7dd"
      },
      "outputs": [
        {
          "ename": "IndexError",
          "evalue": "single positional indexer is out-of-bounds",
          "output_type": "error",
          "traceback": [
            "\u001b[1;31m---------------------------------------------------------------------------\u001b[0m",
            "\u001b[1;31mIndexError\u001b[0m                                Traceback (most recent call last)",
            "Cell \u001b[1;32mIn[26], line 1\u001b[0m\n\u001b[1;32m----> 1\u001b[0m fallecidos_provYear\u001b[38;5;241m=\u001b[39m\u001b[43mfallecidos_provYear\u001b[49m\u001b[38;5;241;43m.\u001b[39;49m\u001b[43miloc\u001b[49m\u001b[43m[\u001b[49m\u001b[43m:\u001b[49m\u001b[43m,\u001b[49m\u001b[38;5;241;43m1\u001b[39;49m\u001b[43m]\u001b[49m\u001b[38;5;241m/\u001b[39m(fallecidos_provYear\u001b[38;5;241m.\u001b[39miloc[:,\u001b[38;5;241m0\u001b[39m] \u001b[38;5;241m+\u001b[39m fallecidos_provYear\u001b[38;5;241m.\u001b[39miloc[:,\u001b[38;5;241m1\u001b[39m])\n\u001b[0;32m      2\u001b[0m dengue_provYear_Alarm_w\u001b[38;5;241m=\u001b[39mfallecidos_provYear\u001b[38;5;241m.\u001b[39munstack(\u001b[38;5;124m'\u001b[39m\u001b[38;5;124myear\u001b[39m\u001b[38;5;124m'\u001b[39m)\u001b[38;5;241m.\u001b[39mfillna(\u001b[38;5;241m0\u001b[39m)\n\u001b[0;32m      3\u001b[0m dengue_provYear_Alarm_w\n",
            "File \u001b[1;32mc:\\Users\\Nicolas Silva\\AppData\\Local\\Programs\\Python\\Python312\\Lib\\site-packages\\pandas\\core\\indexing.py:1184\u001b[0m, in \u001b[0;36m_LocationIndexer.__getitem__\u001b[1;34m(self, key)\u001b[0m\n\u001b[0;32m   1182\u001b[0m     \u001b[38;5;28;01mif\u001b[39;00m \u001b[38;5;28mself\u001b[39m\u001b[38;5;241m.\u001b[39m_is_scalar_access(key):\n\u001b[0;32m   1183\u001b[0m         \u001b[38;5;28;01mreturn\u001b[39;00m \u001b[38;5;28mself\u001b[39m\u001b[38;5;241m.\u001b[39mobj\u001b[38;5;241m.\u001b[39m_get_value(\u001b[38;5;241m*\u001b[39mkey, takeable\u001b[38;5;241m=\u001b[39m\u001b[38;5;28mself\u001b[39m\u001b[38;5;241m.\u001b[39m_takeable)\n\u001b[1;32m-> 1184\u001b[0m     \u001b[38;5;28;01mreturn\u001b[39;00m \u001b[38;5;28;43mself\u001b[39;49m\u001b[38;5;241;43m.\u001b[39;49m\u001b[43m_getitem_tuple\u001b[49m\u001b[43m(\u001b[49m\u001b[43mkey\u001b[49m\u001b[43m)\u001b[49m\n\u001b[0;32m   1185\u001b[0m \u001b[38;5;28;01melse\u001b[39;00m:\n\u001b[0;32m   1186\u001b[0m     \u001b[38;5;66;03m# we by definition only have the 0th axis\u001b[39;00m\n\u001b[0;32m   1187\u001b[0m     axis \u001b[38;5;241m=\u001b[39m \u001b[38;5;28mself\u001b[39m\u001b[38;5;241m.\u001b[39maxis \u001b[38;5;129;01mor\u001b[39;00m \u001b[38;5;241m0\u001b[39m\n",
            "File \u001b[1;32mc:\\Users\\Nicolas Silva\\AppData\\Local\\Programs\\Python\\Python312\\Lib\\site-packages\\pandas\\core\\indexing.py:1690\u001b[0m, in \u001b[0;36m_iLocIndexer._getitem_tuple\u001b[1;34m(self, tup)\u001b[0m\n\u001b[0;32m   1689\u001b[0m \u001b[38;5;28;01mdef\u001b[39;00m \u001b[38;5;21m_getitem_tuple\u001b[39m(\u001b[38;5;28mself\u001b[39m, tup: \u001b[38;5;28mtuple\u001b[39m):\n\u001b[1;32m-> 1690\u001b[0m     tup \u001b[38;5;241m=\u001b[39m \u001b[38;5;28;43mself\u001b[39;49m\u001b[38;5;241;43m.\u001b[39;49m\u001b[43m_validate_tuple_indexer\u001b[49m\u001b[43m(\u001b[49m\u001b[43mtup\u001b[49m\u001b[43m)\u001b[49m\n\u001b[0;32m   1691\u001b[0m     \u001b[38;5;28;01mwith\u001b[39;00m suppress(IndexingError):\n\u001b[0;32m   1692\u001b[0m         \u001b[38;5;28;01mreturn\u001b[39;00m \u001b[38;5;28mself\u001b[39m\u001b[38;5;241m.\u001b[39m_getitem_lowerdim(tup)\n",
            "File \u001b[1;32mc:\\Users\\Nicolas Silva\\AppData\\Local\\Programs\\Python\\Python312\\Lib\\site-packages\\pandas\\core\\indexing.py:966\u001b[0m, in \u001b[0;36m_LocationIndexer._validate_tuple_indexer\u001b[1;34m(self, key)\u001b[0m\n\u001b[0;32m    964\u001b[0m \u001b[38;5;28;01mfor\u001b[39;00m i, k \u001b[38;5;129;01min\u001b[39;00m \u001b[38;5;28menumerate\u001b[39m(key):\n\u001b[0;32m    965\u001b[0m     \u001b[38;5;28;01mtry\u001b[39;00m:\n\u001b[1;32m--> 966\u001b[0m         \u001b[38;5;28;43mself\u001b[39;49m\u001b[38;5;241;43m.\u001b[39;49m\u001b[43m_validate_key\u001b[49m\u001b[43m(\u001b[49m\u001b[43mk\u001b[49m\u001b[43m,\u001b[49m\u001b[43m \u001b[49m\u001b[43mi\u001b[49m\u001b[43m)\u001b[49m\n\u001b[0;32m    967\u001b[0m     \u001b[38;5;28;01mexcept\u001b[39;00m \u001b[38;5;167;01mValueError\u001b[39;00m \u001b[38;5;28;01mas\u001b[39;00m err:\n\u001b[0;32m    968\u001b[0m         \u001b[38;5;28;01mraise\u001b[39;00m \u001b[38;5;167;01mValueError\u001b[39;00m(\n\u001b[0;32m    969\u001b[0m             \u001b[38;5;124m\"\u001b[39m\u001b[38;5;124mLocation based indexing can only have \u001b[39m\u001b[38;5;124m\"\u001b[39m\n\u001b[0;32m    970\u001b[0m             \u001b[38;5;124mf\u001b[39m\u001b[38;5;124m\"\u001b[39m\u001b[38;5;124m[\u001b[39m\u001b[38;5;132;01m{\u001b[39;00m\u001b[38;5;28mself\u001b[39m\u001b[38;5;241m.\u001b[39m_valid_types\u001b[38;5;132;01m}\u001b[39;00m\u001b[38;5;124m] types\u001b[39m\u001b[38;5;124m\"\u001b[39m\n\u001b[0;32m    971\u001b[0m         ) \u001b[38;5;28;01mfrom\u001b[39;00m \u001b[38;5;21;01merr\u001b[39;00m\n",
            "File \u001b[1;32mc:\\Users\\Nicolas Silva\\AppData\\Local\\Programs\\Python\\Python312\\Lib\\site-packages\\pandas\\core\\indexing.py:1592\u001b[0m, in \u001b[0;36m_iLocIndexer._validate_key\u001b[1;34m(self, key, axis)\u001b[0m\n\u001b[0;32m   1590\u001b[0m     \u001b[38;5;28;01mreturn\u001b[39;00m\n\u001b[0;32m   1591\u001b[0m \u001b[38;5;28;01melif\u001b[39;00m is_integer(key):\n\u001b[1;32m-> 1592\u001b[0m     \u001b[38;5;28;43mself\u001b[39;49m\u001b[38;5;241;43m.\u001b[39;49m\u001b[43m_validate_integer\u001b[49m\u001b[43m(\u001b[49m\u001b[43mkey\u001b[49m\u001b[43m,\u001b[49m\u001b[43m \u001b[49m\u001b[43maxis\u001b[49m\u001b[43m)\u001b[49m\n\u001b[0;32m   1593\u001b[0m \u001b[38;5;28;01melif\u001b[39;00m \u001b[38;5;28misinstance\u001b[39m(key, \u001b[38;5;28mtuple\u001b[39m):\n\u001b[0;32m   1594\u001b[0m     \u001b[38;5;66;03m# a tuple should already have been caught by this point\u001b[39;00m\n\u001b[0;32m   1595\u001b[0m     \u001b[38;5;66;03m# so don't treat a tuple as a valid indexer\u001b[39;00m\n\u001b[0;32m   1596\u001b[0m     \u001b[38;5;28;01mraise\u001b[39;00m IndexingError(\u001b[38;5;124m\"\u001b[39m\u001b[38;5;124mToo many indexers\u001b[39m\u001b[38;5;124m\"\u001b[39m)\n",
            "File \u001b[1;32mc:\\Users\\Nicolas Silva\\AppData\\Local\\Programs\\Python\\Python312\\Lib\\site-packages\\pandas\\core\\indexing.py:1685\u001b[0m, in \u001b[0;36m_iLocIndexer._validate_integer\u001b[1;34m(self, key, axis)\u001b[0m\n\u001b[0;32m   1683\u001b[0m len_axis \u001b[38;5;241m=\u001b[39m \u001b[38;5;28mlen\u001b[39m(\u001b[38;5;28mself\u001b[39m\u001b[38;5;241m.\u001b[39mobj\u001b[38;5;241m.\u001b[39m_get_axis(axis))\n\u001b[0;32m   1684\u001b[0m \u001b[38;5;28;01mif\u001b[39;00m key \u001b[38;5;241m>\u001b[39m\u001b[38;5;241m=\u001b[39m len_axis \u001b[38;5;129;01mor\u001b[39;00m key \u001b[38;5;241m<\u001b[39m \u001b[38;5;241m-\u001b[39mlen_axis:\n\u001b[1;32m-> 1685\u001b[0m     \u001b[38;5;28;01mraise\u001b[39;00m \u001b[38;5;167;01mIndexError\u001b[39;00m(\u001b[38;5;124m\"\u001b[39m\u001b[38;5;124msingle positional indexer is out-of-bounds\u001b[39m\u001b[38;5;124m\"\u001b[39m)\n",
            "\u001b[1;31mIndexError\u001b[0m: single positional indexer is out-of-bounds"
          ]
        }
      ],
      "source": [
        "fallecidos_provYear=fallecidos_provYear.iloc[:,1]/(fallecidos_provYear.iloc[:,0] + fallecidos_provYear.iloc[:,1])\n",
        "dengue_provYear_Alarm_w=fallecidos_provYear.unstack('year').fillna(0)\n",
        "dengue_provYear_Alarm_w"
      ]
    },
    {
      "cell_type": "markdown",
      "id": "26f868bb",
      "metadata": {
        "id": "26f868bb"
      },
      "source": [
        "Notice the data type:"
      ]
    },
    {
      "cell_type": "code",
      "execution_count": null,
      "id": "f90f1042-efda-4071-b8ce-00c7ba8dfc2f",
      "metadata": {
        "id": "f90f1042-efda-4071-b8ce-00c7ba8dfc2f",
        "outputId": "a9da68dc-1a85-4420-edc7-a6ae08cf69c4"
      },
      "outputs": [
        {
          "data": {
            "text/plain": [
              "Index([2012, 2013, 2014, 2015, 2016, 2017, 2018, 2019, 2020, 2021, 2022], dtype='int64', name='ano')"
            ]
          },
          "execution_count": 10,
          "metadata": {},
          "output_type": "execute_result"
        }
      ],
      "source": [
        "dengue_provYear_Alarm_w.columns"
      ]
    },
    {
      "cell_type": "markdown",
      "id": "f811dfbe",
      "metadata": {
        "id": "f811dfbe"
      },
      "source": [
        "We should have text not numbers:"
      ]
    },
    {
      "cell_type": "code",
      "execution_count": null,
      "id": "1f9041a0-7ea7-47b6-b4bf-3f9a0ba6b620",
      "metadata": {
        "id": "1f9041a0-7ea7-47b6-b4bf-3f9a0ba6b620"
      },
      "outputs": [],
      "source": [
        "dengue_provYear_Alarm_w.columns=['year'+str(x) for x in dengue_provYear_Alarm_w.columns]"
      ]
    },
    {
      "cell_type": "code",
      "execution_count": null,
      "id": "32c27bcb-9ce5-41ff-ba0b-8616ec2c5989",
      "metadata": {
        "id": "32c27bcb-9ce5-41ff-ba0b-8616ec2c5989",
        "outputId": "c8d1ac9f-59ab-4417-9dd6-b56cb8d8b70f"
      },
      "outputs": [
        {
          "data": {
            "text/html": [
              "<div>\n",
              "<style scoped>\n",
              "    .dataframe tbody tr th:only-of-type {\n",
              "        vertical-align: middle;\n",
              "    }\n",
              "\n",
              "    .dataframe tbody tr th {\n",
              "        vertical-align: top;\n",
              "    }\n",
              "\n",
              "    .dataframe thead th {\n",
              "        text-align: right;\n",
              "    }\n",
              "</style>\n",
              "<table border=\"1\" class=\"dataframe\">\n",
              "  <thead>\n",
              "    <tr style=\"text-align: right;\">\n",
              "      <th></th>\n",
              "      <th></th>\n",
              "      <th>year2012</th>\n",
              "      <th>year2013</th>\n",
              "      <th>year2014</th>\n",
              "      <th>year2015</th>\n",
              "      <th>year2016</th>\n",
              "      <th>year2017</th>\n",
              "      <th>year2018</th>\n",
              "      <th>year2019</th>\n",
              "      <th>year2020</th>\n",
              "      <th>year2021</th>\n",
              "      <th>year2022</th>\n",
              "    </tr>\n",
              "    <tr>\n",
              "      <th>departamento</th>\n",
              "      <th>provincia</th>\n",
              "      <th></th>\n",
              "      <th></th>\n",
              "      <th></th>\n",
              "      <th></th>\n",
              "      <th></th>\n",
              "      <th></th>\n",
              "      <th></th>\n",
              "      <th></th>\n",
              "      <th></th>\n",
              "      <th></th>\n",
              "      <th></th>\n",
              "    </tr>\n",
              "  </thead>\n",
              "  <tbody>\n",
              "    <tr>\n",
              "      <th rowspan=\"5\" valign=\"top\">AMAZONAS</th>\n",
              "      <th>BAGUA</th>\n",
              "      <td>0.154519</td>\n",
              "      <td>0.015385</td>\n",
              "      <td>0.054545</td>\n",
              "      <td>0.000000</td>\n",
              "      <td>0.000000</td>\n",
              "      <td>0.000000</td>\n",
              "      <td>0.011111</td>\n",
              "      <td>0.040323</td>\n",
              "      <td>0.083333</td>\n",
              "      <td>0.075721</td>\n",
              "      <td>0.077234</td>\n",
              "    </tr>\n",
              "    <tr>\n",
              "      <th>BONGARA</th>\n",
              "      <td>0.000000</td>\n",
              "      <td>0.000000</td>\n",
              "      <td>0.000000</td>\n",
              "      <td>0.000000</td>\n",
              "      <td>0.000000</td>\n",
              "      <td>0.000000</td>\n",
              "      <td>0.000000</td>\n",
              "      <td>0.000000</td>\n",
              "      <td>0.000000</td>\n",
              "      <td>0.000000</td>\n",
              "      <td>0.000000</td>\n",
              "    </tr>\n",
              "    <tr>\n",
              "      <th>CHACHAPOYAS</th>\n",
              "      <td>0.000000</td>\n",
              "      <td>0.000000</td>\n",
              "      <td>0.000000</td>\n",
              "      <td>0.000000</td>\n",
              "      <td>0.000000</td>\n",
              "      <td>0.000000</td>\n",
              "      <td>0.000000</td>\n",
              "      <td>1.000000</td>\n",
              "      <td>0.000000</td>\n",
              "      <td>0.500000</td>\n",
              "      <td>0.125000</td>\n",
              "    </tr>\n",
              "    <tr>\n",
              "      <th>CONDORCANQUI</th>\n",
              "      <td>0.000000</td>\n",
              "      <td>0.000000</td>\n",
              "      <td>0.000000</td>\n",
              "      <td>0.000000</td>\n",
              "      <td>0.000000</td>\n",
              "      <td>0.000000</td>\n",
              "      <td>0.000000</td>\n",
              "      <td>0.000000</td>\n",
              "      <td>0.153285</td>\n",
              "      <td>0.028070</td>\n",
              "      <td>0.012500</td>\n",
              "    </tr>\n",
              "    <tr>\n",
              "      <th>UTCUBAMBA</th>\n",
              "      <td>0.047368</td>\n",
              "      <td>0.034091</td>\n",
              "      <td>0.086667</td>\n",
              "      <td>0.086957</td>\n",
              "      <td>0.121212</td>\n",
              "      <td>0.055556</td>\n",
              "      <td>0.000000</td>\n",
              "      <td>0.000000</td>\n",
              "      <td>0.065268</td>\n",
              "      <td>0.028290</td>\n",
              "      <td>0.047821</td>\n",
              "    </tr>\n",
              "    <tr>\n",
              "      <th>...</th>\n",
              "      <th>...</th>\n",
              "      <td>...</td>\n",
              "      <td>...</td>\n",
              "      <td>...</td>\n",
              "      <td>...</td>\n",
              "      <td>...</td>\n",
              "      <td>...</td>\n",
              "      <td>...</td>\n",
              "      <td>...</td>\n",
              "      <td>...</td>\n",
              "      <td>...</td>\n",
              "      <td>...</td>\n",
              "    </tr>\n",
              "    <tr>\n",
              "      <th>TUMBES</th>\n",
              "      <th>ZARUMILLA</th>\n",
              "      <td>0.121739</td>\n",
              "      <td>0.079365</td>\n",
              "      <td>0.214286</td>\n",
              "      <td>0.175325</td>\n",
              "      <td>0.009091</td>\n",
              "      <td>0.013468</td>\n",
              "      <td>0.111111</td>\n",
              "      <td>0.022727</td>\n",
              "      <td>0.029762</td>\n",
              "      <td>0.014085</td>\n",
              "      <td>0.053191</td>\n",
              "    </tr>\n",
              "    <tr>\n",
              "      <th rowspan=\"4\" valign=\"top\">UCAYALI</th>\n",
              "      <th>ATALAYA</th>\n",
              "      <td>0.200000</td>\n",
              "      <td>0.875000</td>\n",
              "      <td>0.333333</td>\n",
              "      <td>0.520000</td>\n",
              "      <td>0.318182</td>\n",
              "      <td>0.255034</td>\n",
              "      <td>0.400000</td>\n",
              "      <td>0.250000</td>\n",
              "      <td>0.169591</td>\n",
              "      <td>0.214894</td>\n",
              "      <td>0.145110</td>\n",
              "    </tr>\n",
              "    <tr>\n",
              "      <th>CORONEL PORTILLO</th>\n",
              "      <td>0.326643</td>\n",
              "      <td>0.368421</td>\n",
              "      <td>0.371471</td>\n",
              "      <td>0.614286</td>\n",
              "      <td>0.228498</td>\n",
              "      <td>0.278409</td>\n",
              "      <td>0.190083</td>\n",
              "      <td>0.195876</td>\n",
              "      <td>0.174333</td>\n",
              "      <td>0.137194</td>\n",
              "      <td>0.156968</td>\n",
              "    </tr>\n",
              "    <tr>\n",
              "      <th>PADRE ABAD</th>\n",
              "      <td>0.374332</td>\n",
              "      <td>0.310924</td>\n",
              "      <td>0.475000</td>\n",
              "      <td>0.264706</td>\n",
              "      <td>0.412371</td>\n",
              "      <td>0.264706</td>\n",
              "      <td>0.368421</td>\n",
              "      <td>0.400000</td>\n",
              "      <td>0.194489</td>\n",
              "      <td>0.117647</td>\n",
              "      <td>0.174349</td>\n",
              "    </tr>\n",
              "    <tr>\n",
              "      <th>PURUS</th>\n",
              "      <td>0.000000</td>\n",
              "      <td>0.000000</td>\n",
              "      <td>0.000000</td>\n",
              "      <td>0.000000</td>\n",
              "      <td>0.000000</td>\n",
              "      <td>0.000000</td>\n",
              "      <td>0.000000</td>\n",
              "      <td>0.000000</td>\n",
              "      <td>0.000000</td>\n",
              "      <td>0.000000</td>\n",
              "      <td>0.500000</td>\n",
              "    </tr>\n",
              "  </tbody>\n",
              "</table>\n",
              "<p>108 rows × 11 columns</p>\n",
              "</div>"
            ],
            "text/plain": [
              "                               year2012  year2013  year2014  year2015  \\\n",
              "departamento provincia                                                  \n",
              "AMAZONAS     BAGUA             0.154519  0.015385  0.054545  0.000000   \n",
              "             BONGARA           0.000000  0.000000  0.000000  0.000000   \n",
              "             CHACHAPOYAS       0.000000  0.000000  0.000000  0.000000   \n",
              "             CONDORCANQUI      0.000000  0.000000  0.000000  0.000000   \n",
              "             UTCUBAMBA         0.047368  0.034091  0.086667  0.086957   \n",
              "...                                 ...       ...       ...       ...   \n",
              "TUMBES       ZARUMILLA         0.121739  0.079365  0.214286  0.175325   \n",
              "UCAYALI      ATALAYA           0.200000  0.875000  0.333333  0.520000   \n",
              "             CORONEL PORTILLO  0.326643  0.368421  0.371471  0.614286   \n",
              "             PADRE ABAD        0.374332  0.310924  0.475000  0.264706   \n",
              "             PURUS             0.000000  0.000000  0.000000  0.000000   \n",
              "\n",
              "                               year2016  year2017  year2018  year2019  \\\n",
              "departamento provincia                                                  \n",
              "AMAZONAS     BAGUA             0.000000  0.000000  0.011111  0.040323   \n",
              "             BONGARA           0.000000  0.000000  0.000000  0.000000   \n",
              "             CHACHAPOYAS       0.000000  0.000000  0.000000  1.000000   \n",
              "             CONDORCANQUI      0.000000  0.000000  0.000000  0.000000   \n",
              "             UTCUBAMBA         0.121212  0.055556  0.000000  0.000000   \n",
              "...                                 ...       ...       ...       ...   \n",
              "TUMBES       ZARUMILLA         0.009091  0.013468  0.111111  0.022727   \n",
              "UCAYALI      ATALAYA           0.318182  0.255034  0.400000  0.250000   \n",
              "             CORONEL PORTILLO  0.228498  0.278409  0.190083  0.195876   \n",
              "             PADRE ABAD        0.412371  0.264706  0.368421  0.400000   \n",
              "             PURUS             0.000000  0.000000  0.000000  0.000000   \n",
              "\n",
              "                               year2020  year2021  year2022  \n",
              "departamento provincia                                       \n",
              "AMAZONAS     BAGUA             0.083333  0.075721  0.077234  \n",
              "             BONGARA           0.000000  0.000000  0.000000  \n",
              "             CHACHAPOYAS       0.000000  0.500000  0.125000  \n",
              "             CONDORCANQUI      0.153285  0.028070  0.012500  \n",
              "             UTCUBAMBA         0.065268  0.028290  0.047821  \n",
              "...                                 ...       ...       ...  \n",
              "TUMBES       ZARUMILLA         0.029762  0.014085  0.053191  \n",
              "UCAYALI      ATALAYA           0.169591  0.214894  0.145110  \n",
              "             CORONEL PORTILLO  0.174333  0.137194  0.156968  \n",
              "             PADRE ABAD        0.194489  0.117647  0.174349  \n",
              "             PURUS             0.000000  0.000000  0.500000  \n",
              "\n",
              "[108 rows x 11 columns]"
            ]
          },
          "execution_count": 12,
          "metadata": {},
          "output_type": "execute_result"
        }
      ],
      "source": [
        "# then\n",
        "dengue_provYear_Alarm_w"
      ]
    },
    {
      "cell_type": "code",
      "execution_count": null,
      "id": "0e6326cc-2e33-4c3d-9985-bfc955fd63c1",
      "metadata": {
        "id": "0e6326cc-2e33-4c3d-9985-bfc955fd63c1",
        "outputId": "316a3b6e-39cc-4b5c-fa9a-44c2fab5f194"
      },
      "outputs": [
        {
          "data": {
            "text/html": [
              "<div>\n",
              "<style scoped>\n",
              "    .dataframe tbody tr th:only-of-type {\n",
              "        vertical-align: middle;\n",
              "    }\n",
              "\n",
              "    .dataframe tbody tr th {\n",
              "        vertical-align: top;\n",
              "    }\n",
              "\n",
              "    .dataframe thead th {\n",
              "        text-align: right;\n",
              "    }\n",
              "</style>\n",
              "<table border=\"1\" class=\"dataframe\">\n",
              "  <thead>\n",
              "    <tr style=\"text-align: right;\">\n",
              "      <th></th>\n",
              "      <th>departamento</th>\n",
              "      <th>provincia</th>\n",
              "      <th>year2012</th>\n",
              "      <th>year2013</th>\n",
              "      <th>year2014</th>\n",
              "      <th>year2015</th>\n",
              "      <th>year2016</th>\n",
              "      <th>year2017</th>\n",
              "      <th>year2018</th>\n",
              "      <th>year2019</th>\n",
              "      <th>year2020</th>\n",
              "      <th>year2021</th>\n",
              "      <th>year2022</th>\n",
              "    </tr>\n",
              "  </thead>\n",
              "  <tbody>\n",
              "    <tr>\n",
              "      <th>0</th>\n",
              "      <td>AMAZONAS</td>\n",
              "      <td>BAGUA</td>\n",
              "      <td>0.154519</td>\n",
              "      <td>0.015385</td>\n",
              "      <td>0.054545</td>\n",
              "      <td>0.000000</td>\n",
              "      <td>0.000000</td>\n",
              "      <td>0.000000</td>\n",
              "      <td>0.011111</td>\n",
              "      <td>0.040323</td>\n",
              "      <td>0.083333</td>\n",
              "      <td>0.075721</td>\n",
              "      <td>0.077234</td>\n",
              "    </tr>\n",
              "    <tr>\n",
              "      <th>1</th>\n",
              "      <td>AMAZONAS</td>\n",
              "      <td>BONGARA</td>\n",
              "      <td>0.000000</td>\n",
              "      <td>0.000000</td>\n",
              "      <td>0.000000</td>\n",
              "      <td>0.000000</td>\n",
              "      <td>0.000000</td>\n",
              "      <td>0.000000</td>\n",
              "      <td>0.000000</td>\n",
              "      <td>0.000000</td>\n",
              "      <td>0.000000</td>\n",
              "      <td>0.000000</td>\n",
              "      <td>0.000000</td>\n",
              "    </tr>\n",
              "    <tr>\n",
              "      <th>2</th>\n",
              "      <td>AMAZONAS</td>\n",
              "      <td>CHACHAPOYAS</td>\n",
              "      <td>0.000000</td>\n",
              "      <td>0.000000</td>\n",
              "      <td>0.000000</td>\n",
              "      <td>0.000000</td>\n",
              "      <td>0.000000</td>\n",
              "      <td>0.000000</td>\n",
              "      <td>0.000000</td>\n",
              "      <td>1.000000</td>\n",
              "      <td>0.000000</td>\n",
              "      <td>0.500000</td>\n",
              "      <td>0.125000</td>\n",
              "    </tr>\n",
              "    <tr>\n",
              "      <th>3</th>\n",
              "      <td>AMAZONAS</td>\n",
              "      <td>CONDORCANQUI</td>\n",
              "      <td>0.000000</td>\n",
              "      <td>0.000000</td>\n",
              "      <td>0.000000</td>\n",
              "      <td>0.000000</td>\n",
              "      <td>0.000000</td>\n",
              "      <td>0.000000</td>\n",
              "      <td>0.000000</td>\n",
              "      <td>0.000000</td>\n",
              "      <td>0.153285</td>\n",
              "      <td>0.028070</td>\n",
              "      <td>0.012500</td>\n",
              "    </tr>\n",
              "    <tr>\n",
              "      <th>4</th>\n",
              "      <td>AMAZONAS</td>\n",
              "      <td>UTCUBAMBA</td>\n",
              "      <td>0.047368</td>\n",
              "      <td>0.034091</td>\n",
              "      <td>0.086667</td>\n",
              "      <td>0.086957</td>\n",
              "      <td>0.121212</td>\n",
              "      <td>0.055556</td>\n",
              "      <td>0.000000</td>\n",
              "      <td>0.000000</td>\n",
              "      <td>0.065268</td>\n",
              "      <td>0.028290</td>\n",
              "      <td>0.047821</td>\n",
              "    </tr>\n",
              "    <tr>\n",
              "      <th>...</th>\n",
              "      <td>...</td>\n",
              "      <td>...</td>\n",
              "      <td>...</td>\n",
              "      <td>...</td>\n",
              "      <td>...</td>\n",
              "      <td>...</td>\n",
              "      <td>...</td>\n",
              "      <td>...</td>\n",
              "      <td>...</td>\n",
              "      <td>...</td>\n",
              "      <td>...</td>\n",
              "      <td>...</td>\n",
              "      <td>...</td>\n",
              "    </tr>\n",
              "    <tr>\n",
              "      <th>103</th>\n",
              "      <td>TUMBES</td>\n",
              "      <td>ZARUMILLA</td>\n",
              "      <td>0.121739</td>\n",
              "      <td>0.079365</td>\n",
              "      <td>0.214286</td>\n",
              "      <td>0.175325</td>\n",
              "      <td>0.009091</td>\n",
              "      <td>0.013468</td>\n",
              "      <td>0.111111</td>\n",
              "      <td>0.022727</td>\n",
              "      <td>0.029762</td>\n",
              "      <td>0.014085</td>\n",
              "      <td>0.053191</td>\n",
              "    </tr>\n",
              "    <tr>\n",
              "      <th>104</th>\n",
              "      <td>UCAYALI</td>\n",
              "      <td>ATALAYA</td>\n",
              "      <td>0.200000</td>\n",
              "      <td>0.875000</td>\n",
              "      <td>0.333333</td>\n",
              "      <td>0.520000</td>\n",
              "      <td>0.318182</td>\n",
              "      <td>0.255034</td>\n",
              "      <td>0.400000</td>\n",
              "      <td>0.250000</td>\n",
              "      <td>0.169591</td>\n",
              "      <td>0.214894</td>\n",
              "      <td>0.145110</td>\n",
              "    </tr>\n",
              "    <tr>\n",
              "      <th>105</th>\n",
              "      <td>UCAYALI</td>\n",
              "      <td>CORONEL PORTILLO</td>\n",
              "      <td>0.326643</td>\n",
              "      <td>0.368421</td>\n",
              "      <td>0.371471</td>\n",
              "      <td>0.614286</td>\n",
              "      <td>0.228498</td>\n",
              "      <td>0.278409</td>\n",
              "      <td>0.190083</td>\n",
              "      <td>0.195876</td>\n",
              "      <td>0.174333</td>\n",
              "      <td>0.137194</td>\n",
              "      <td>0.156968</td>\n",
              "    </tr>\n",
              "    <tr>\n",
              "      <th>106</th>\n",
              "      <td>UCAYALI</td>\n",
              "      <td>PADRE ABAD</td>\n",
              "      <td>0.374332</td>\n",
              "      <td>0.310924</td>\n",
              "      <td>0.475000</td>\n",
              "      <td>0.264706</td>\n",
              "      <td>0.412371</td>\n",
              "      <td>0.264706</td>\n",
              "      <td>0.368421</td>\n",
              "      <td>0.400000</td>\n",
              "      <td>0.194489</td>\n",
              "      <td>0.117647</td>\n",
              "      <td>0.174349</td>\n",
              "    </tr>\n",
              "    <tr>\n",
              "      <th>107</th>\n",
              "      <td>UCAYALI</td>\n",
              "      <td>PURUS</td>\n",
              "      <td>0.000000</td>\n",
              "      <td>0.000000</td>\n",
              "      <td>0.000000</td>\n",
              "      <td>0.000000</td>\n",
              "      <td>0.000000</td>\n",
              "      <td>0.000000</td>\n",
              "      <td>0.000000</td>\n",
              "      <td>0.000000</td>\n",
              "      <td>0.000000</td>\n",
              "      <td>0.000000</td>\n",
              "      <td>0.500000</td>\n",
              "    </tr>\n",
              "  </tbody>\n",
              "</table>\n",
              "<p>108 rows × 13 columns</p>\n",
              "</div>"
            ],
            "text/plain": [
              "    departamento         provincia  year2012  year2013  year2014  year2015  \\\n",
              "0       AMAZONAS             BAGUA  0.154519  0.015385  0.054545  0.000000   \n",
              "1       AMAZONAS           BONGARA  0.000000  0.000000  0.000000  0.000000   \n",
              "2       AMAZONAS       CHACHAPOYAS  0.000000  0.000000  0.000000  0.000000   \n",
              "3       AMAZONAS      CONDORCANQUI  0.000000  0.000000  0.000000  0.000000   \n",
              "4       AMAZONAS         UTCUBAMBA  0.047368  0.034091  0.086667  0.086957   \n",
              "..           ...               ...       ...       ...       ...       ...   \n",
              "103       TUMBES         ZARUMILLA  0.121739  0.079365  0.214286  0.175325   \n",
              "104      UCAYALI           ATALAYA  0.200000  0.875000  0.333333  0.520000   \n",
              "105      UCAYALI  CORONEL PORTILLO  0.326643  0.368421  0.371471  0.614286   \n",
              "106      UCAYALI        PADRE ABAD  0.374332  0.310924  0.475000  0.264706   \n",
              "107      UCAYALI             PURUS  0.000000  0.000000  0.000000  0.000000   \n",
              "\n",
              "     year2016  year2017  year2018  year2019  year2020  year2021  year2022  \n",
              "0    0.000000  0.000000  0.011111  0.040323  0.083333  0.075721  0.077234  \n",
              "1    0.000000  0.000000  0.000000  0.000000  0.000000  0.000000  0.000000  \n",
              "2    0.000000  0.000000  0.000000  1.000000  0.000000  0.500000  0.125000  \n",
              "3    0.000000  0.000000  0.000000  0.000000  0.153285  0.028070  0.012500  \n",
              "4    0.121212  0.055556  0.000000  0.000000  0.065268  0.028290  0.047821  \n",
              "..        ...       ...       ...       ...       ...       ...       ...  \n",
              "103  0.009091  0.013468  0.111111  0.022727  0.029762  0.014085  0.053191  \n",
              "104  0.318182  0.255034  0.400000  0.250000  0.169591  0.214894  0.145110  \n",
              "105  0.228498  0.278409  0.190083  0.195876  0.174333  0.137194  0.156968  \n",
              "106  0.412371  0.264706  0.368421  0.400000  0.194489  0.117647  0.174349  \n",
              "107  0.000000  0.000000  0.000000  0.000000  0.000000  0.000000  0.500000  \n",
              "\n",
              "[108 rows x 13 columns]"
            ]
          },
          "execution_count": 13,
          "metadata": {},
          "output_type": "execute_result"
        }
      ],
      "source": [
        "# as usual\n",
        "dengue_provYear_Alarm_w.reset_index(inplace=True)\n",
        "dengue_provYear_Alarm_w"
      ]
    },
    {
      "cell_type": "markdown",
      "id": "75d02ac9",
      "metadata": {
        "id": "75d02ac9"
      },
      "source": [
        "Let's call a map:"
      ]
    },
    {
      "cell_type": "code",
      "execution_count": null,
      "id": "cba44f1e-7ba4-41be-aa74-8300c6d5ded0",
      "metadata": {
        "id": "cba44f1e-7ba4-41be-aa74-8300c6d5ded0",
        "outputId": "ad8d1fa5-5422-4de9-f98c-4d6439138cb2"
      },
      "outputs": [
        {
          "name": "stdout",
          "output_type": "stream",
          "text": [
            "<class 'geopandas.geodataframe.GeoDataFrame'>\n",
            "RangeIndex: 196 entries, 0 to 195\n",
            "Data columns (total 6 columns):\n",
            " #   Column      Non-Null Count  Dtype   \n",
            "---  ------      --------------  -----   \n",
            " 0   OBJECTID    196 non-null    float64 \n",
            " 1   CCDD        196 non-null    object  \n",
            " 2   CCPP        196 non-null    object  \n",
            " 3   DEPARTAMEN  196 non-null    object  \n",
            " 4   PROVINCIA   196 non-null    object  \n",
            " 5   geometry    196 non-null    geometry\n",
            "dtypes: float64(1), geometry(1), object(4)\n",
            "memory usage: 9.3+ KB\n"
          ]
        }
      ],
      "source": [
        "mapLink='https://github.com/SocialAnalytics-StrategicIntelligence/GeoDF_Analytics/raw/main/maps/ProvsINEI2023.zip'\n",
        "\n",
        "import geopandas as gpd\n",
        "\n",
        "provmap=gpd.read_file(mapLink)\n",
        "\n",
        "provmap.info()"
      ]
    },
    {
      "cell_type": "markdown",
      "id": "dd64a4c7",
      "metadata": {
        "id": "dd64a4c7"
      },
      "source": [
        "Let me create a column, concatenating two:"
      ]
    },
    {
      "cell_type": "code",
      "execution_count": null,
      "id": "e394243f-9e5c-4cae-a899-c593da1736dd",
      "metadata": {
        "id": "e394243f-9e5c-4cae-a899-c593da1736dd",
        "outputId": "79f97028-0f3b-4ef1-c137-b0a2932e1812"
      },
      "outputs": [
        {
          "data": {
            "text/html": [
              "<div>\n",
              "<style scoped>\n",
              "    .dataframe tbody tr th:only-of-type {\n",
              "        vertical-align: middle;\n",
              "    }\n",
              "\n",
              "    .dataframe tbody tr th {\n",
              "        vertical-align: top;\n",
              "    }\n",
              "\n",
              "    .dataframe thead th {\n",
              "        text-align: right;\n",
              "    }\n",
              "</style>\n",
              "<table border=\"1\" class=\"dataframe\">\n",
              "  <thead>\n",
              "    <tr style=\"text-align: right;\">\n",
              "      <th></th>\n",
              "      <th>OBJECTID</th>\n",
              "      <th>CCDD</th>\n",
              "      <th>CCPP</th>\n",
              "      <th>DEPARTAMEN</th>\n",
              "      <th>PROVINCIA</th>\n",
              "      <th>geometry</th>\n",
              "      <th>location</th>\n",
              "    </tr>\n",
              "  </thead>\n",
              "  <tbody>\n",
              "    <tr>\n",
              "      <th>0</th>\n",
              "      <td>1.0</td>\n",
              "      <td>01</td>\n",
              "      <td>01</td>\n",
              "      <td>AMAZONAS</td>\n",
              "      <td>CHACHAPOYAS</td>\n",
              "      <td>POLYGON ((-77.72614 -5.94354, -77.72486 -5.943...</td>\n",
              "      <td>AMAZONAS+CHACHAPOYAS</td>\n",
              "    </tr>\n",
              "    <tr>\n",
              "      <th>1</th>\n",
              "      <td>2.0</td>\n",
              "      <td>01</td>\n",
              "      <td>02</td>\n",
              "      <td>AMAZONAS</td>\n",
              "      <td>BAGUA</td>\n",
              "      <td>POLYGON ((-78.61909 -4.51001, -78.61802 -4.510...</td>\n",
              "      <td>AMAZONAS+BAGUA</td>\n",
              "    </tr>\n",
              "    <tr>\n",
              "      <th>2</th>\n",
              "      <td>3.0</td>\n",
              "      <td>01</td>\n",
              "      <td>03</td>\n",
              "      <td>AMAZONAS</td>\n",
              "      <td>BONGARA</td>\n",
              "      <td>POLYGON ((-77.72759 -5.14030, -77.72361 -5.140...</td>\n",
              "      <td>AMAZONAS+BONGARA</td>\n",
              "    </tr>\n",
              "    <tr>\n",
              "      <th>3</th>\n",
              "      <td>4.0</td>\n",
              "      <td>01</td>\n",
              "      <td>04</td>\n",
              "      <td>AMAZONAS</td>\n",
              "      <td>CONDORCANQUI</td>\n",
              "      <td>POLYGON ((-77.81399 -2.99278, -77.81483 -2.995...</td>\n",
              "      <td>AMAZONAS+CONDORCANQUI</td>\n",
              "    </tr>\n",
              "    <tr>\n",
              "      <th>4</th>\n",
              "      <td>5.0</td>\n",
              "      <td>01</td>\n",
              "      <td>05</td>\n",
              "      <td>AMAZONAS</td>\n",
              "      <td>LUYA</td>\n",
              "      <td>POLYGON ((-78.13023 -5.90370, -78.13011 -5.904...</td>\n",
              "      <td>AMAZONAS+LUYA</td>\n",
              "    </tr>\n",
              "    <tr>\n",
              "      <th>5</th>\n",
              "      <td>6.0</td>\n",
              "      <td>01</td>\n",
              "      <td>06</td>\n",
              "      <td>AMAZONAS</td>\n",
              "      <td>RODRIGUEZ DE MENDOZA</td>\n",
              "      <td>POLYGON ((-77.44452 -6.05002, -77.44387 -6.050...</td>\n",
              "      <td>AMAZONAS+RODRIGUEZ DE MENDOZA</td>\n",
              "    </tr>\n",
              "    <tr>\n",
              "      <th>6</th>\n",
              "      <td>7.0</td>\n",
              "      <td>01</td>\n",
              "      <td>07</td>\n",
              "      <td>AMAZONAS</td>\n",
              "      <td>UTCUBAMBA</td>\n",
              "      <td>POLYGON ((-78.09288 -5.36258, -78.09288 -5.364...</td>\n",
              "      <td>AMAZONAS+UTCUBAMBA</td>\n",
              "    </tr>\n",
              "    <tr>\n",
              "      <th>7</th>\n",
              "      <td>8.0</td>\n",
              "      <td>02</td>\n",
              "      <td>01</td>\n",
              "      <td>ANCASH</td>\n",
              "      <td>HUARAZ</td>\n",
              "      <td>POLYGON ((-77.39870 -9.35563, -77.39852 -9.356...</td>\n",
              "      <td>ANCASH+HUARAZ</td>\n",
              "    </tr>\n",
              "    <tr>\n",
              "      <th>8</th>\n",
              "      <td>9.0</td>\n",
              "      <td>02</td>\n",
              "      <td>02</td>\n",
              "      <td>ANCASH</td>\n",
              "      <td>AIJA</td>\n",
              "      <td>POLYGON ((-77.61368 -9.64900, -77.61241 -9.649...</td>\n",
              "      <td>ANCASH+AIJA</td>\n",
              "    </tr>\n",
              "    <tr>\n",
              "      <th>9</th>\n",
              "      <td>10.0</td>\n",
              "      <td>02</td>\n",
              "      <td>03</td>\n",
              "      <td>ANCASH</td>\n",
              "      <td>ANTONIO RAYMONDI</td>\n",
              "      <td>POLYGON ((-77.08856 -8.97496, -77.08804 -8.975...</td>\n",
              "      <td>ANCASH+ANTONIO RAYMONDI</td>\n",
              "    </tr>\n",
              "  </tbody>\n",
              "</table>\n",
              "</div>"
            ],
            "text/plain": [
              "   OBJECTID CCDD CCPP DEPARTAMEN             PROVINCIA  \\\n",
              "0       1.0   01   01   AMAZONAS           CHACHAPOYAS   \n",
              "1       2.0   01   02   AMAZONAS                 BAGUA   \n",
              "2       3.0   01   03   AMAZONAS               BONGARA   \n",
              "3       4.0   01   04   AMAZONAS          CONDORCANQUI   \n",
              "4       5.0   01   05   AMAZONAS                  LUYA   \n",
              "5       6.0   01   06   AMAZONAS  RODRIGUEZ DE MENDOZA   \n",
              "6       7.0   01   07   AMAZONAS             UTCUBAMBA   \n",
              "7       8.0   02   01     ANCASH                HUARAZ   \n",
              "8       9.0   02   02     ANCASH                  AIJA   \n",
              "9      10.0   02   03     ANCASH      ANTONIO RAYMONDI   \n",
              "\n",
              "                                            geometry  \\\n",
              "0  POLYGON ((-77.72614 -5.94354, -77.72486 -5.943...   \n",
              "1  POLYGON ((-78.61909 -4.51001, -78.61802 -4.510...   \n",
              "2  POLYGON ((-77.72759 -5.14030, -77.72361 -5.140...   \n",
              "3  POLYGON ((-77.81399 -2.99278, -77.81483 -2.995...   \n",
              "4  POLYGON ((-78.13023 -5.90370, -78.13011 -5.904...   \n",
              "5  POLYGON ((-77.44452 -6.05002, -77.44387 -6.050...   \n",
              "6  POLYGON ((-78.09288 -5.36258, -78.09288 -5.364...   \n",
              "7  POLYGON ((-77.39870 -9.35563, -77.39852 -9.356...   \n",
              "8  POLYGON ((-77.61368 -9.64900, -77.61241 -9.649...   \n",
              "9  POLYGON ((-77.08856 -8.97496, -77.08804 -8.975...   \n",
              "\n",
              "                        location  \n",
              "0           AMAZONAS+CHACHAPOYAS  \n",
              "1                 AMAZONAS+BAGUA  \n",
              "2               AMAZONAS+BONGARA  \n",
              "3          AMAZONAS+CONDORCANQUI  \n",
              "4                  AMAZONAS+LUYA  \n",
              "5  AMAZONAS+RODRIGUEZ DE MENDOZA  \n",
              "6             AMAZONAS+UTCUBAMBA  \n",
              "7                  ANCASH+HUARAZ  \n",
              "8                    ANCASH+AIJA  \n",
              "9        ANCASH+ANTONIO RAYMONDI  "
            ]
          },
          "execution_count": 15,
          "metadata": {},
          "output_type": "execute_result"
        }
      ],
      "source": [
        "provmap['location']=['+'.join(x[0]) for x in zip(provmap.iloc[:,3:5].values)]\n",
        "provmap.head(10)"
      ]
    },
    {
      "cell_type": "markdown",
      "id": "38f12dc4",
      "metadata": {
        "id": "38f12dc4"
      },
      "source": [
        "I will do the same with the data frame:"
      ]
    },
    {
      "cell_type": "code",
      "execution_count": null,
      "id": "022746a0-e0a9-42ba-949f-3e5269d503ea",
      "metadata": {
        "id": "022746a0-e0a9-42ba-949f-3e5269d503ea",
        "outputId": "b912b8ee-28e4-4bc7-d140-a91f62e0d3d1"
      },
      "outputs": [
        {
          "data": {
            "text/html": [
              "<div>\n",
              "<style scoped>\n",
              "    .dataframe tbody tr th:only-of-type {\n",
              "        vertical-align: middle;\n",
              "    }\n",
              "\n",
              "    .dataframe tbody tr th {\n",
              "        vertical-align: top;\n",
              "    }\n",
              "\n",
              "    .dataframe thead th {\n",
              "        text-align: right;\n",
              "    }\n",
              "</style>\n",
              "<table border=\"1\" class=\"dataframe\">\n",
              "  <thead>\n",
              "    <tr style=\"text-align: right;\">\n",
              "      <th></th>\n",
              "      <th>departamento</th>\n",
              "      <th>provincia</th>\n",
              "      <th>year2012</th>\n",
              "      <th>year2013</th>\n",
              "      <th>year2014</th>\n",
              "      <th>year2015</th>\n",
              "      <th>year2016</th>\n",
              "      <th>year2017</th>\n",
              "      <th>year2018</th>\n",
              "      <th>year2019</th>\n",
              "      <th>year2020</th>\n",
              "      <th>year2021</th>\n",
              "      <th>year2022</th>\n",
              "      <th>location</th>\n",
              "    </tr>\n",
              "  </thead>\n",
              "  <tbody>\n",
              "    <tr>\n",
              "      <th>0</th>\n",
              "      <td>AMAZONAS</td>\n",
              "      <td>BAGUA</td>\n",
              "      <td>0.154519</td>\n",
              "      <td>0.015385</td>\n",
              "      <td>0.054545</td>\n",
              "      <td>0.000000</td>\n",
              "      <td>0.000000</td>\n",
              "      <td>0.000000</td>\n",
              "      <td>0.011111</td>\n",
              "      <td>0.040323</td>\n",
              "      <td>0.083333</td>\n",
              "      <td>0.075721</td>\n",
              "      <td>0.077234</td>\n",
              "      <td>AMAZONAS+BAGUA</td>\n",
              "    </tr>\n",
              "    <tr>\n",
              "      <th>1</th>\n",
              "      <td>AMAZONAS</td>\n",
              "      <td>BONGARA</td>\n",
              "      <td>0.000000</td>\n",
              "      <td>0.000000</td>\n",
              "      <td>0.000000</td>\n",
              "      <td>0.000000</td>\n",
              "      <td>0.000000</td>\n",
              "      <td>0.000000</td>\n",
              "      <td>0.000000</td>\n",
              "      <td>0.000000</td>\n",
              "      <td>0.000000</td>\n",
              "      <td>0.000000</td>\n",
              "      <td>0.000000</td>\n",
              "      <td>AMAZONAS+BONGARA</td>\n",
              "    </tr>\n",
              "    <tr>\n",
              "      <th>2</th>\n",
              "      <td>AMAZONAS</td>\n",
              "      <td>CHACHAPOYAS</td>\n",
              "      <td>0.000000</td>\n",
              "      <td>0.000000</td>\n",
              "      <td>0.000000</td>\n",
              "      <td>0.000000</td>\n",
              "      <td>0.000000</td>\n",
              "      <td>0.000000</td>\n",
              "      <td>0.000000</td>\n",
              "      <td>1.000000</td>\n",
              "      <td>0.000000</td>\n",
              "      <td>0.500000</td>\n",
              "      <td>0.125000</td>\n",
              "      <td>AMAZONAS+CHACHAPOYAS</td>\n",
              "    </tr>\n",
              "    <tr>\n",
              "      <th>3</th>\n",
              "      <td>AMAZONAS</td>\n",
              "      <td>CONDORCANQUI</td>\n",
              "      <td>0.000000</td>\n",
              "      <td>0.000000</td>\n",
              "      <td>0.000000</td>\n",
              "      <td>0.000000</td>\n",
              "      <td>0.000000</td>\n",
              "      <td>0.000000</td>\n",
              "      <td>0.000000</td>\n",
              "      <td>0.000000</td>\n",
              "      <td>0.153285</td>\n",
              "      <td>0.028070</td>\n",
              "      <td>0.012500</td>\n",
              "      <td>AMAZONAS+CONDORCANQUI</td>\n",
              "    </tr>\n",
              "    <tr>\n",
              "      <th>4</th>\n",
              "      <td>AMAZONAS</td>\n",
              "      <td>UTCUBAMBA</td>\n",
              "      <td>0.047368</td>\n",
              "      <td>0.034091</td>\n",
              "      <td>0.086667</td>\n",
              "      <td>0.086957</td>\n",
              "      <td>0.121212</td>\n",
              "      <td>0.055556</td>\n",
              "      <td>0.000000</td>\n",
              "      <td>0.000000</td>\n",
              "      <td>0.065268</td>\n",
              "      <td>0.028290</td>\n",
              "      <td>0.047821</td>\n",
              "      <td>AMAZONAS+UTCUBAMBA</td>\n",
              "    </tr>\n",
              "  </tbody>\n",
              "</table>\n",
              "</div>"
            ],
            "text/plain": [
              "  departamento     provincia  year2012  year2013  year2014  year2015  \\\n",
              "0     AMAZONAS         BAGUA  0.154519  0.015385  0.054545  0.000000   \n",
              "1     AMAZONAS       BONGARA  0.000000  0.000000  0.000000  0.000000   \n",
              "2     AMAZONAS   CHACHAPOYAS  0.000000  0.000000  0.000000  0.000000   \n",
              "3     AMAZONAS  CONDORCANQUI  0.000000  0.000000  0.000000  0.000000   \n",
              "4     AMAZONAS     UTCUBAMBA  0.047368  0.034091  0.086667  0.086957   \n",
              "\n",
              "   year2016  year2017  year2018  year2019  year2020  year2021  year2022  \\\n",
              "0  0.000000  0.000000  0.011111  0.040323  0.083333  0.075721  0.077234   \n",
              "1  0.000000  0.000000  0.000000  0.000000  0.000000  0.000000  0.000000   \n",
              "2  0.000000  0.000000  0.000000  1.000000  0.000000  0.500000  0.125000   \n",
              "3  0.000000  0.000000  0.000000  0.000000  0.153285  0.028070  0.012500   \n",
              "4  0.121212  0.055556  0.000000  0.000000  0.065268  0.028290  0.047821   \n",
              "\n",
              "                location  \n",
              "0         AMAZONAS+BAGUA  \n",
              "1       AMAZONAS+BONGARA  \n",
              "2   AMAZONAS+CHACHAPOYAS  \n",
              "3  AMAZONAS+CONDORCANQUI  \n",
              "4     AMAZONAS+UTCUBAMBA  "
            ]
          },
          "execution_count": 16,
          "metadata": {},
          "output_type": "execute_result"
        }
      ],
      "source": [
        "dengue_provYear_Alarm_w['location']=['+'.join(x[0]) for x in zip(dengue_provYear_Alarm_w.iloc[:,:2].values)]\n",
        "dengue_provYear_Alarm_w.head()"
      ]
    },
    {
      "cell_type": "markdown",
      "id": "a1294312",
      "metadata": {
        "id": "a1294312"
      },
      "source": [
        "## Preprocessing\n",
        "\n"
      ]
    },
    {
      "cell_type": "markdown",
      "id": "9f85ce45",
      "metadata": {
        "id": "9f85ce45"
      },
      "source": [
        "The names from non-english speaking countries may come with some symbols that may cause trouble (', ~). Let's get rid of those:"
      ]
    },
    {
      "cell_type": "code",
      "execution_count": null,
      "id": "16981570",
      "metadata": {
        "id": "16981570",
        "outputId": "db524334-0135-4904-d66c-83e00b96e3bd"
      },
      "outputs": [
        {
          "ename": "ModuleNotFoundError",
          "evalue": "No module named 'unidecode'",
          "output_type": "error",
          "traceback": [
            "\u001b[0;31m---------------------------------------------------------------------------\u001b[0m",
            "\u001b[0;31mModuleNotFoundError\u001b[0m                       Traceback (most recent call last)",
            "Cell \u001b[0;32mIn[17], line 1\u001b[0m\n\u001b[0;32m----> 1\u001b[0m \u001b[38;5;28;01mimport\u001b[39;00m \u001b[38;5;21;01munidecode\u001b[39;00m\n\u001b[1;32m      4\u001b[0m byePunctuation\u001b[38;5;241m=\u001b[39m\u001b[38;5;28;01mlambda\u001b[39;00m x: unidecode\u001b[38;5;241m.\u001b[39munidecode(x)\n\u001b[1;32m      5\u001b[0m dengue_provYear_Alarm_w[\u001b[38;5;124m'\u001b[39m\u001b[38;5;124mlocation\u001b[39m\u001b[38;5;124m'\u001b[39m]\u001b[38;5;241m=\u001b[39mdengue_provYear_Alarm_w[\u001b[38;5;124m'\u001b[39m\u001b[38;5;124mlocation\u001b[39m\u001b[38;5;124m'\u001b[39m]\u001b[38;5;241m.\u001b[39mapply(byePunctuation)\n",
            "\u001b[0;31mModuleNotFoundError\u001b[0m: No module named 'unidecode'"
          ]
        }
      ],
      "source": [
        "import unidecode\n",
        "\n",
        "\n",
        "byePunctuation=lambda x: unidecode.unidecode(x)\n",
        "dengue_provYear_Alarm_w['location']=dengue_provYear_Alarm_w['location'].apply(byePunctuation)\n",
        "provmap['location']=provmap['location'].apply(byePunctuation)"
      ]
    },
    {
      "cell_type": "markdown",
      "id": "45a93252",
      "metadata": {
        "id": "45a93252"
      },
      "source": [
        "It would be good making sure no *ghost* appears between words:"
      ]
    },
    {
      "cell_type": "code",
      "execution_count": null,
      "id": "47cdc538",
      "metadata": {
        "id": "47cdc538"
      },
      "outputs": [],
      "source": [
        "# replacing dashes and multiple spaces by a simple space\n",
        "dengue_provYear_Alarm_w['location']=dengue_provYear_Alarm_w.location.str.replace(\"\\-|\\_|\\s+\",\"\",regex=True)\n",
        "provmap['location']=provmap.location.str.replace(\"\\-|\\_|\\s+\",\"\",regex=True)"
      ]
    },
    {
      "cell_type": "markdown",
      "id": "5406417d",
      "metadata": {
        "id": "5406417d"
      },
      "source": [
        "## Merging\n",
        "\n",
        "We need to merge both tables now. That can happen effectively if both tables have a **key** column: a column (or collection of them) whose values in one table are the same in the other one.\n",
        "\n",
        "The match need not be exact, but only common values in the *key* are merged.\n",
        "\n",
        "Let's find out what is NOT matched in each table:"
      ]
    },
    {
      "cell_type": "code",
      "execution_count": null,
      "id": "793335e5",
      "metadata": {
        "id": "793335e5"
      },
      "outputs": [],
      "source": [
        "nomatch_df=set(dengue_provYear_Alarm_w.location)- set(provmap.location)\n",
        "nomatch_gdf=set(provmap.location)-set(dengue_provYear_Alarm_w.location)"
      ]
    },
    {
      "cell_type": "markdown",
      "id": "a849b640",
      "metadata": {
        "id": "a849b640"
      },
      "source": [
        "This is what could not be matched:"
      ]
    },
    {
      "cell_type": "code",
      "execution_count": null,
      "id": "ada23390",
      "metadata": {
        "id": "ada23390"
      },
      "outputs": [],
      "source": [
        "len(nomatch_df), len(nomatch_gdf)"
      ]
    },
    {
      "cell_type": "markdown",
      "id": "261c4a60",
      "metadata": {
        "id": "261c4a60"
      },
      "source": [
        "The right way to go is using **fuzzy merging** (remember we need  _the fuzz_):"
      ]
    },
    {
      "cell_type": "code",
      "execution_count": null,
      "id": "d761c590",
      "metadata": {
        "id": "d761c590"
      },
      "outputs": [],
      "source": [
        "# pick the closest match from nomatch_gdf for a value in nomatch_df\n",
        "from thefuzz import process\n",
        "[(dis,process.extractOne(dis,nomatch_gdf)) for dis in sorted(nomatch_df)]"
      ]
    },
    {
      "cell_type": "markdown",
      "id": "6b462ab3",
      "metadata": {
        "id": "6b462ab3"
      },
      "source": [
        "If you are comfortable, you prepare a _dictionary_ of changes:"
      ]
    },
    {
      "cell_type": "code",
      "execution_count": null,
      "id": "4dac522f",
      "metadata": {
        "id": "4dac522f"
      },
      "outputs": [],
      "source": [
        "# is this OK?\n",
        "{dis:process.extractOne(dis,nomatch_gdf)[0] for dis in sorted(nomatch_df)}"
      ]
    },
    {
      "cell_type": "code",
      "execution_count": null,
      "id": "e872d7ca",
      "metadata": {
        "id": "e872d7ca"
      },
      "outputs": [],
      "source": [
        "# then:\n",
        "changesinDF={dis:process.extractOne(dis,nomatch_gdf)[0] for dis in sorted(nomatch_df)}"
      ]
    },
    {
      "cell_type": "markdown",
      "id": "940be9cd",
      "metadata": {
        "id": "940be9cd"
      },
      "source": [
        "Now, make the replacements:"
      ]
    },
    {
      "cell_type": "code",
      "execution_count": null,
      "id": "9fb1d131-12ee-40cd-99f6-8ab505abae96",
      "metadata": {
        "id": "9fb1d131-12ee-40cd-99f6-8ab505abae96"
      },
      "outputs": [],
      "source": [
        "dengue_provYear_Alarm_w.replace({'location': changesinDF}, inplace=True)"
      ]
    },
    {
      "cell_type": "markdown",
      "id": "20c8dd26",
      "metadata": {
        "id": "20c8dd26"
      },
      "source": [
        "Is it over?"
      ]
    },
    {
      "cell_type": "code",
      "execution_count": null,
      "id": "dc576d65-2d77-44dd-9c4c-0ef43b5ebe38",
      "metadata": {
        "id": "dc576d65-2d77-44dd-9c4c-0ef43b5ebe38"
      },
      "outputs": [],
      "source": [
        "nomatch_df=set(dengue_provYear_Alarm_w.location)- set(provmap.location)\n",
        "nomatch_gdf=set(provmap.location)-set(dengue_provYear_Alarm_w.location)\n",
        "\n",
        "[(dis,process.extractOne(dis,nomatch_gdf)) for dis in sorted(nomatch_df)]"
      ]
    },
    {
      "cell_type": "markdown",
      "id": "0bd65363",
      "metadata": {
        "id": "0bd65363"
      },
      "source": [
        "Now the merge can happen:"
      ]
    },
    {
      "cell_type": "code",
      "execution_count": null,
      "id": "b1d3b077",
      "metadata": {
        "id": "b1d3b077"
      },
      "outputs": [],
      "source": [
        "dengue_provYear_Alarm_map=provmap.merge(dengue_provYear_Alarm_w, on='location',how='left',indicator='flag')"
      ]
    },
    {
      "cell_type": "code",
      "execution_count": null,
      "id": "fe40f603",
      "metadata": {
        "id": "fe40f603"
      },
      "outputs": [],
      "source": [
        "# check\n",
        "dengue_provYear_Alarm_map.info()"
      ]
    },
    {
      "cell_type": "code",
      "execution_count": null,
      "id": "0ab06d8c-aafb-46a5-a3e1-5b41eb3741c8",
      "metadata": {
        "id": "0ab06d8c-aafb-46a5-a3e1-5b41eb3741c8"
      },
      "outputs": [],
      "source": [
        "# avoid poblems with fillna()\n",
        "dengue_provYear_Alarm_map['flag']=dengue_provYear_Alarm_map.flag.astype(str)"
      ]
    },
    {
      "cell_type": "markdown",
      "id": "4142c0b7",
      "metadata": {
        "id": "4142c0b7"
      },
      "source": [
        "We can get rid of some columns:"
      ]
    },
    {
      "cell_type": "code",
      "execution_count": null,
      "id": "ee2e517b",
      "metadata": {
        "id": "ee2e517b"
      },
      "outputs": [],
      "source": [
        "bye=['departamento', 'provincia', 'CCPP','CCDD']\n",
        "dengue_provYear_Alarm_map.drop(columns=bye,inplace=True)\n",
        "\n",
        "# keeping\n",
        "dengue_provYear_Alarm_map.head()"
      ]
    },
    {
      "cell_type": "code",
      "execution_count": null,
      "id": "45e4fffd-c40e-44a4-8861-7d777943f522",
      "metadata": {
        "id": "45e4fffd-c40e-44a4-8861-7d777943f522"
      },
      "outputs": [],
      "source": [
        "# filling with zeroes\n",
        "dengue_provYear_Alarm_map.fillna(0,inplace=True)"
      ]
    },
    {
      "cell_type": "markdown",
      "id": "a2ff93fc",
      "metadata": {
        "id": "a2ff93fc"
      },
      "source": [
        "We can save this geoDF:"
      ]
    },
    {
      "cell_type": "code",
      "execution_count": null,
      "id": "83c97517",
      "metadata": {
        "id": "83c97517"
      },
      "outputs": [],
      "source": [
        "import os\n",
        "dengue_provYear_Alarm_map.to_file(os.path.join('maps',\"provinciasPeru.gpkg\"), layer='provinciasDengue', driver=\"GPKG\")"
      ]
    },
    {
      "cell_type": "markdown",
      "id": "7b518c79",
      "metadata": {
        "id": "7b518c79"
      },
      "source": [
        "## Exploring one variable\n",
        "\n",
        "This time, we explore statistically one variable in the map:"
      ]
    },
    {
      "cell_type": "code",
      "execution_count": null,
      "id": "dbd7ca6a",
      "metadata": {
        "id": "dbd7ca6a"
      },
      "outputs": [],
      "source": [
        "# statistics\n",
        "dengue_provYear_Alarm_map.year2022.describe()"
      ]
    },
    {
      "cell_type": "markdown",
      "id": "26e6f260",
      "metadata": {
        "id": "26e6f260"
      },
      "source": [
        "A visual look:"
      ]
    },
    {
      "cell_type": "code",
      "execution_count": null,
      "id": "0b47a7e5",
      "metadata": {
        "id": "0b47a7e5"
      },
      "outputs": [],
      "source": [
        "import seaborn as sea\n",
        "\n",
        "sea.boxplot(dengue_provYear_Alarm_map.year2022, color='yellow',orient='h')"
      ]
    },
    {
      "cell_type": "code",
      "execution_count": null,
      "id": "051f0685-8175-43f8-b31f-40c804ce39ea",
      "metadata": {
        "id": "051f0685-8175-43f8-b31f-40c804ce39ea"
      },
      "outputs": [],
      "source": [
        "\n",
        "from sklearn.preprocessing import QuantileTransformer\n",
        "qt = QuantileTransformer(n_quantiles=100, random_state=0,output_distribution='normal')\n",
        "qt_result=qt.fit_transform(dengue_provYear_Alarm_map[['year2022']])\n",
        "sea.boxplot(qt_result, color='yellow',orient='h')"
      ]
    },
    {
      "cell_type": "code",
      "execution_count": null,
      "id": "f27262d0-1ed7-449c-99cf-818c679a3b3f",
      "metadata": {
        "id": "f27262d0-1ed7-449c-99cf-818c679a3b3f"
      },
      "outputs": [],
      "source": [
        "dengue_provYear_Alarm_map['year_2022_qt']=qt_result"
      ]
    },
    {
      "cell_type": "markdown",
      "id": "87708d4e",
      "metadata": {
        "id": "87708d4e"
      },
      "source": [
        "## Spatial Correlation\n",
        "\n",
        "### Neighboorhood\n",
        "\n",
        "We can compute the neighborhood in a map using different algorithms:"
      ]
    },
    {
      "cell_type": "code",
      "execution_count": null,
      "id": "a0152188",
      "metadata": {
        "id": "a0152188"
      },
      "outputs": [],
      "source": [
        "from libpysal.weights import Queen, Rook, KNN\n",
        "\n",
        "# rook\n",
        "\n",
        "w_rook = Rook.from_dataframe(dengue_provYear_Alarm_map,use_index=False)"
      ]
    },
    {
      "cell_type": "code",
      "execution_count": null,
      "id": "282be4af",
      "metadata": {
        "id": "282be4af"
      },
      "outputs": [],
      "source": [
        "# rook\n",
        "w_queen = Queen.from_dataframe(dengue_provYear_Alarm_map,use_index=False)"
      ]
    },
    {
      "cell_type": "code",
      "execution_count": null,
      "id": "008f5e05",
      "metadata": {
        "id": "008f5e05"
      },
      "outputs": [],
      "source": [
        "# k nearest neighbors\n",
        "w_knn = KNN.from_dataframe(dengue_provYear_Alarm_map, k=8)"
      ]
    },
    {
      "cell_type": "markdown",
      "id": "92c7c94a",
      "metadata": {
        "id": "92c7c94a"
      },
      "source": [
        "Let's understand the differences:"
      ]
    },
    {
      "cell_type": "code",
      "execution_count": null,
      "id": "d3df1a3e",
      "metadata": {
        "id": "d3df1a3e"
      },
      "outputs": [],
      "source": [
        "# first one\n",
        "dengue_provYear_Alarm_map.head(1)"
      ]
    },
    {
      "cell_type": "code",
      "execution_count": null,
      "id": "9cd010e7",
      "metadata": {
        "id": "9cd010e7"
      },
      "outputs": [],
      "source": [
        "# amount neighbors of that district\n",
        "w_rook.neighbors[0]"
      ]
    },
    {
      "cell_type": "code",
      "execution_count": null,
      "id": "fe8d9e8b",
      "metadata": {
        "id": "fe8d9e8b"
      },
      "outputs": [],
      "source": [
        "# see\n",
        "base=dengue_provYear_Alarm_map[dengue_provYear_Alarm_map.PROVINCIA==\"CHACHAPOYAS\"].plot()\n",
        "dengue_provYear_Alarm_map.iloc[w_rook.neighbors[0] ,].plot(ax=base,facecolor=\"yellow\",edgecolor='k')\n",
        "dengue_provYear_Alarm_map.head(1).plot(ax=base,facecolor=\"red\")"
      ]
    },
    {
      "cell_type": "markdown",
      "id": "8dee5594",
      "metadata": {
        "id": "8dee5594"
      },
      "source": [
        "Let's do the same:"
      ]
    },
    {
      "cell_type": "code",
      "execution_count": null,
      "id": "39a94ad6",
      "metadata": {
        "id": "39a94ad6"
      },
      "outputs": [],
      "source": [
        "w_queen.neighbors[0]"
      ]
    },
    {
      "cell_type": "code",
      "execution_count": null,
      "id": "959642c7",
      "metadata": {
        "id": "959642c7"
      },
      "outputs": [],
      "source": [
        "base=dengue_provYear_Alarm_map[dengue_provYear_Alarm_map.PROVINCIA==\"CHACHAPOYAS\"].plot()\n",
        "dengue_provYear_Alarm_map.iloc[w_queen.neighbors[0] ,].plot(ax=base,facecolor=\"yellow\",edgecolor='k')\n",
        "dengue_provYear_Alarm_map.head(1).plot(ax=base,facecolor=\"red\")"
      ]
    },
    {
      "cell_type": "code",
      "execution_count": null,
      "id": "eeaf1e44",
      "metadata": {
        "id": "eeaf1e44"
      },
      "outputs": [],
      "source": [
        "w_knn.neighbors[0]"
      ]
    },
    {
      "cell_type": "code",
      "execution_count": null,
      "id": "6143d69a",
      "metadata": {
        "id": "6143d69a"
      },
      "outputs": [],
      "source": [
        "base=dengue_provYear_Alarm_map[dengue_provYear_Alarm_map.PROVINCIA==\"CHACHAPOYAS\"].plot()\n",
        "dengue_provYear_Alarm_map.iloc[w_knn.neighbors[0] ,].plot(ax=base,facecolor=\"yellow\",edgecolor='k')\n",
        "dengue_provYear_Alarm_map.head(1).plot(ax=base,facecolor=\"red\")"
      ]
    },
    {
      "cell_type": "markdown",
      "id": "a96c4f9d",
      "metadata": {
        "id": "a96c4f9d"
      },
      "source": [
        "Let me pay attention to the queen results:"
      ]
    },
    {
      "cell_type": "code",
      "execution_count": null,
      "id": "743d91c6",
      "metadata": {
        "id": "743d91c6"
      },
      "outputs": [],
      "source": [
        "# all the neighbors by row\n",
        "w_queen.neighbors"
      ]
    },
    {
      "cell_type": "code",
      "execution_count": null,
      "id": "31f7bf1a",
      "metadata": {
        "id": "31f7bf1a"
      },
      "outputs": [],
      "source": [
        "# the matrix of neighboorhood:\n",
        "\n",
        "pd.DataFrame(*w_queen.full()).astype(int) # 1 means both are neighbors"
      ]
    },
    {
      "cell_type": "code",
      "execution_count": null,
      "id": "b4395652",
      "metadata": {
        "id": "b4395652"
      },
      "outputs": [],
      "source": [
        "# pct of neighboorhood (density)\n",
        "w_queen.pct_nonzero"
      ]
    },
    {
      "cell_type": "code",
      "execution_count": null,
      "id": "48e318d9",
      "metadata": {
        "id": "48e318d9"
      },
      "outputs": [],
      "source": [
        "# a province with NO neighbor?\n",
        "w_queen.islands"
      ]
    },
    {
      "cell_type": "markdown",
      "id": "28192fdf",
      "metadata": {
        "id": "28192fdf"
      },
      "source": [
        "## Moran's correlation\n",
        "\n",
        "We need the neighboorhood matrix (the weight matrix) to compute spatial correlation: if the variable value is correlated with the values of its neighbors - which proves a spatial effect."
      ]
    },
    {
      "cell_type": "code",
      "execution_count": null,
      "id": "2ea5e43d",
      "metadata": {
        "id": "2ea5e43d"
      },
      "outputs": [],
      "source": [
        "# needed for spatial correlation\n",
        "w_queen.transform = 'R'"
      ]
    },
    {
      "cell_type": "code",
      "execution_count": null,
      "id": "1c41c6b0",
      "metadata": {
        "id": "1c41c6b0"
      },
      "outputs": [],
      "source": [
        "pd.DataFrame(*w_queen.full()).sum(axis=1) # 1 means both are neighbors"
      ]
    },
    {
      "cell_type": "markdown",
      "id": "91941edd",
      "metadata": {
        "id": "91941edd"
      },
      "source": [
        "Spatial correlation is measured by the Moran's I statistic:"
      ]
    },
    {
      "cell_type": "code",
      "execution_count": null,
      "id": "003d47cb",
      "metadata": {
        "id": "003d47cb"
      },
      "outputs": [],
      "source": [
        "from esda.moran import Moran\n",
        "\n",
        "moranDENGUE = Moran(dengue_provYear_Alarm_map['year_2022_qt'], w_queen)\n",
        "moranDENGUE.I,moranDENGUE.p_sim"
      ]
    },
    {
      "cell_type": "markdown",
      "id": "7b80540e",
      "metadata": {
        "id": "7b80540e"
      },
      "source": [
        "The Moran's I is significant. Let's see:"
      ]
    },
    {
      "cell_type": "code",
      "execution_count": null,
      "id": "e950f7fd",
      "metadata": {
        "id": "e950f7fd"
      },
      "outputs": [],
      "source": [
        "from splot.esda import moran_scatterplot\n",
        "import matplotlib.pyplot as plt\n",
        "\n",
        "fig, ax = moran_scatterplot(moranDENGUE)\n",
        "ax.set_xlabel('Dengue_alarma_share')\n",
        "ax.set_ylabel('SpatialLag_Dengue_alarma_share')\n"
      ]
    },
    {
      "cell_type": "markdown",
      "id": "196148f8",
      "metadata": {
        "id": "196148f8"
      },
      "source": [
        "### Local Spatial Correlation\n",
        "\n",
        "We can compute a LISA (local Moran) for each case. That will help us find spatial clusters (spots) and spatial outliers:\n",
        "\n",
        "* A **hotSpot** is a polygon whose value in the variable is high AND is surrounded with polygons with also high values.\n",
        "\n",
        "* A **coldSpot** is a polygon whose value in the variable is low AND is surrounded with polygons with also low values.\n",
        "\n",
        "* A **coldOutlier** is a polygon whose value in the variable is low BUT is surrounded with polygons with  high values.\n",
        "\n",
        "* A **hotOutlier** is a polygon whose value in the variable is high BUT is surrounded with polygons with  low values.\n",
        "\n",
        "It is also possible that no significant correlation is detected. Let's see those values:"
      ]
    },
    {
      "cell_type": "code",
      "execution_count": null,
      "id": "36c6117d",
      "metadata": {
        "id": "36c6117d"
      },
      "outputs": [],
      "source": [
        "# The scatterplot with local info\n",
        "\n",
        "from esda.moran import Moran_Local\n",
        "\n",
        "# calculate Moran_Local and plot\n",
        "lisaDENGUE = Moran_Local(y=dengue_provYear_Alarm_map['year_2022_qt'], w=w_knn,seed=2022)\n",
        "fig, ax = moran_scatterplot(lisaDENGUE,p=0.05)\n",
        "ax.set_xlabel('Dengue_alarma_share')\n",
        "ax.set_ylabel('SpatialLag_Dengue_alarma_share');\n"
      ]
    },
    {
      "cell_type": "code",
      "execution_count": null,
      "id": "9126d85d",
      "metadata": {
        "id": "9126d85d"
      },
      "outputs": [],
      "source": [
        "from splot.esda import plot_local_autocorrelation\n",
        "plot_local_autocorrelation(lisaDENGUE, dengue_provYear_Alarm_map,'year_2022_qt')\n",
        "plt.show()"
      ]
    },
    {
      "cell_type": "code",
      "execution_count": null,
      "id": "44d1fb80",
      "metadata": {
        "id": "44d1fb80"
      },
      "outputs": [],
      "source": [
        "# the map with the spots and outliers\n",
        "\n",
        "from splot.esda import lisa_cluster\n",
        "f, ax = plt.subplots(1, figsize=(12, 12))\n",
        "plt.title('Spots and Outliers')\n",
        "fig = lisa_cluster(lisaDENGUE,\n",
        "                   dengue_provYear_Alarm_map,ax=ax,\n",
        "                   legend_kwds={'loc': 'center left',\n",
        "                                'bbox_to_anchor': (0.7, 0.6)})"
      ]
    },
    {
      "cell_type": "markdown",
      "id": "3c8d157e",
      "metadata": {
        "id": "3c8d157e"
      },
      "source": [
        "Let me add that data to my gdf:"
      ]
    },
    {
      "cell_type": "code",
      "execution_count": null,
      "id": "b67766a8",
      "metadata": {
        "id": "b67766a8"
      },
      "outputs": [],
      "source": [
        "# quadrant\n",
        "lisaDENGUE.q"
      ]
    },
    {
      "cell_type": "code",
      "execution_count": null,
      "id": "df8949df",
      "metadata": {
        "id": "df8949df"
      },
      "outputs": [],
      "source": [
        "# significance\n",
        "lisaDENGUE.p_sim"
      ]
    },
    {
      "cell_type": "code",
      "execution_count": null,
      "id": "8a07011f",
      "metadata": {
        "id": "8a07011f"
      },
      "outputs": [],
      "source": [
        "# quadrant: 1 HH,  2 LH,  3 LL,  4 HL\n",
        "pd.Series(lisaDENGUE.q).value_counts()"
      ]
    },
    {
      "cell_type": "markdown",
      "id": "79c4c66f",
      "metadata": {
        "id": "79c4c66f"
      },
      "source": [
        "The info in **lisaDENGUE.q** can not be used right away, we need to add if the local spatial correlation is significant:"
      ]
    },
    {
      "cell_type": "code",
      "execution_count": null,
      "id": "2e2977e6",
      "metadata": {
        "id": "2e2977e6"
      },
      "outputs": [],
      "source": [
        "dengue_provYear_Alarm_map['DENGUE_quadrant']=[l if p <0.05 else 0 for l,p in zip(lisaDENGUE.q,lisaDENGUE.p_sim)  ]\n",
        "dengue_provYear_Alarm_map['DENGUE_quadrant'].value_counts()"
      ]
    },
    {
      "cell_type": "markdown",
      "id": "f327eb6f",
      "metadata": {
        "id": "f327eb6f"
      },
      "source": [
        "Now, we recode:"
      ]
    },
    {
      "cell_type": "code",
      "execution_count": null,
      "id": "4fd49705",
      "metadata": {
        "id": "4fd49705"
      },
      "outputs": [],
      "source": [
        "labels = [ '0 no_sig', '1 hotSpot', '2 coldOutlier', '3 coldSpot', '4 hotOutlier']\n",
        "\n",
        "dengue_provYear_Alarm_map['DENGUE_quadrant_names']=[labels[i] for i in dengue_provYear_Alarm_map['DENGUE_quadrant']]\n",
        "\n",
        "dengue_provYear_Alarm_map['DENGUE_quadrant_names'].value_counts()\n"
      ]
    },
    {
      "cell_type": "markdown",
      "id": "0b662813",
      "metadata": {
        "id": "0b662813"
      },
      "source": [
        "Let's replot:"
      ]
    },
    {
      "cell_type": "code",
      "execution_count": null,
      "id": "30bad5df",
      "metadata": {
        "id": "30bad5df"
      },
      "outputs": [],
      "source": [
        "from matplotlib import colors\n",
        "myColMap = colors.ListedColormap([ 'ghostwhite', 'red', 'green', 'black','orange'])\n",
        "\n",
        "\n",
        "\n",
        "\n",
        "f, ax = plt.subplots(1, figsize=(12,12))\n",
        "\n",
        "\n",
        "plt.title('Spots and Outliers')\n",
        "\n",
        "dengue_provYear_Alarm_map.plot(column='DENGUE_quadrant_names',\n",
        "                categorical=True,\n",
        "                cmap=myColMap,\n",
        "                linewidth=0.1,\n",
        "                edgecolor='white',\n",
        "                legend=True,\n",
        "                legend_kwds={'loc': 'center left',\n",
        "                             'bbox_to_anchor': (0.7, 0.6)},\n",
        "                ax=ax)\n",
        "# Remove axis\n",
        "ax.set_axis_off()\n",
        "# Display the map\n",
        "plt.show()"
      ]
    },
    {
      "cell_type": "code",
      "execution_count": null,
      "id": "891df8b1-4902-42d4-b859-1bcb4d2f259f",
      "metadata": {
        "id": "891df8b1-4902-42d4-b859-1bcb4d2f259f"
      },
      "outputs": [],
      "source": [
        "dengue_provYear_Alarm_map.explore(\"DENGUE_quadrant_names\", categorical=True,tooltip='location',cmap=myColMap)"
      ]
    },
    {
      "cell_type": "code",
      "execution_count": null,
      "id": "f36dcf59-b630-4506-8186-eb4959722458",
      "metadata": {
        "id": "f36dcf59-b630-4506-8186-eb4959722458"
      },
      "outputs": [],
      "source": [
        "import folium\n",
        "\n",
        "map1=dengue_provYear_Alarm_map[dengue_provYear_Alarm_map.DENGUE_quadrant_names=='1 hotSpot']\n",
        "map2=dengue_provYear_Alarm_map[dengue_provYear_Alarm_map.DENGUE_quadrant_names=='2 coldOutlier']\n",
        "map3=dengue_provYear_Alarm_map[dengue_provYear_Alarm_map.DENGUE_quadrant_names=='3 coldSpot']\n",
        "map4=dengue_provYear_Alarm_map[dengue_provYear_Alarm_map.DENGUE_quadrant_names=='4 hotOutlier']\n",
        "\n",
        "m = map1.explore(\n",
        "    color=\"red\",\n",
        "    tooltip=False,  # hide tooltip\n",
        "    popup=[\"location\"],  # (on-click)\n",
        "    name=\"hotSpot\"  # name of the layer in the map\n",
        ")\n",
        "\n",
        "map2.explore(\n",
        "    m=m, # notice\n",
        "    color=\"green\",\n",
        "    tooltip=False,\n",
        "    popup=[\"location\"],\n",
        "    name=\"coldOutlier\"\n",
        ")\n",
        "\n",
        "map3.explore(\n",
        "    m=m,\n",
        "    color=\"black\",\n",
        "    tooltip=False,\n",
        "    popup=[\"location\"],\n",
        "    name=\"coldSpot\",\n",
        ")\n",
        "\n",
        "map4.explore(\n",
        "    m=m,\n",
        "    color=\"orange\",\n",
        "    tooltip=False,\n",
        "    popup=[\"location\"],\n",
        "    name=\"hotOutlier\",\n",
        ")\n",
        "\n",
        "folium.TileLayer(\"CartoDB positron\", show=False).add_to(m)  # use folium to add alternative tiles\n",
        "folium.LayerControl(collapsed=True).add_to(m)  # use folium to add layer control\n",
        "\n",
        "m  # show map"
      ]
    },
    {
      "cell_type": "markdown",
      "id": "14195e15",
      "metadata": {
        "id": "14195e15"
      },
      "source": [
        "## Bivariate LISA"
      ]
    },
    {
      "cell_type": "code",
      "execution_count": null,
      "id": "67a6ce18",
      "metadata": {
        "id": "67a6ce18"
      },
      "outputs": [],
      "source": [
        "#from esda.moran import Moran_BV, Moran_Local_BV\n",
        "from esda.moran import Moran_BV\n",
        "\n",
        "mbi = Moran_BV(dengue_provYear_Alarm_map['year2021'],  dengue_provYear_Alarm_map['year2022'],  w_queen)\n",
        "mbi.I,mbi.p_sim"
      ]
    },
    {
      "cell_type": "code",
      "execution_count": null,
      "id": "3e5e3551",
      "metadata": {
        "id": "3e5e3551"
      },
      "outputs": [],
      "source": [
        "# The scatterplot with local info\n",
        "from esda.moran import Moran_Local_BV\n",
        "\n",
        "# calculate Moran_Local and plot\n",
        "lisaDENGUE_bv = Moran_Local_BV(y=dengue_provYear_Alarm_map['year2021'],\n",
        "                               x=dengue_provYear_Alarm_map['year2022'],\n",
        "                               w=w_queen)\n",
        "\n",
        "fig, ax = moran_scatterplot(lisaDENGUE_bv, p=0.05,aspect_equal=True)\n",
        "\n",
        "ax.set_xlabel('Dengue_2022')\n",
        "ax.set_ylabel('SpatialLag_Dengue_2021')\n",
        "plt.show()"
      ]
    },
    {
      "cell_type": "code",
      "execution_count": null,
      "id": "d7e74e82",
      "metadata": {
        "id": "d7e74e82"
      },
      "outputs": [],
      "source": [
        "dengue_provYear_Alarm_map['DENGUE_quadrant_21_22']=[l if p <0.05 else 0 for l,p in zip(lisaDENGUE_bv.q,lisaDENGUE_bv.p_sim)  ]\n",
        "\n",
        "labels = [ '0 no_sig', '1 hotSpot', '2 coldOutlier', '3 coldSpot', '4 hotOutlier']\n",
        "\n",
        "dengue_provYear_Alarm_map['DENGUE_quadrant_21_22_names']=[labels[i] for i in dengue_provYear_Alarm_map['DENGUE_quadrant_21_22']]\n"
      ]
    },
    {
      "cell_type": "code",
      "execution_count": null,
      "id": "042743f0",
      "metadata": {
        "id": "042743f0"
      },
      "outputs": [],
      "source": [
        "# see new columns\n",
        "dengue_provYear_Alarm_map"
      ]
    },
    {
      "cell_type": "code",
      "execution_count": null,
      "id": "c0f5e3f9",
      "metadata": {
        "id": "c0f5e3f9"
      },
      "outputs": [],
      "source": [
        "from matplotlib import colors\n",
        "myColMap = colors.ListedColormap([ 'ghostwhite', 'red', 'green', 'black','orange'])\n",
        "\n",
        "\n",
        "\n",
        "\n",
        "f, ax = plt.subplots(1, figsize=(12,12))\n",
        "\n",
        "\n",
        "plt.title('Spots and Outliers')\n",
        "\n",
        "dengue_provYear_Alarm_map.plot(column='DENGUE_quadrant_21_22_names',\n",
        "                categorical=True,\n",
        "                cmap=myColMap,\n",
        "                linewidth=0.1,\n",
        "                edgecolor='white',\n",
        "                legend=True,\n",
        "                legend_kwds={'loc': 'center left',\n",
        "                             'bbox_to_anchor': (0.7, 0.6)},\n",
        "                ax=ax)\n",
        "# Remove axis\n",
        "ax.set_axis_off()\n",
        "# Display the map\n",
        "plt.show()"
      ]
    },
    {
      "cell_type": "code",
      "execution_count": null,
      "id": "d351c3b4",
      "metadata": {
        "id": "d351c3b4"
      },
      "outputs": [],
      "source": []
    }
  ],
  "metadata": {
    "colab": {
      "provenance": []
    },
    "hide_input": false,
    "kernelspec": {
      "display_name": "Python 3",
      "language": "python",
      "name": "python3"
    },
    "language_info": {
      "codemirror_mode": {
        "name": "ipython",
        "version": 3
      },
      "file_extension": ".py",
      "mimetype": "text/x-python",
      "name": "python",
      "nbconvert_exporter": "python",
      "pygments_lexer": "ipython3",
      "version": "3.12.5"
    }
  },
  "nbformat": 4,
  "nbformat_minor": 5
}
