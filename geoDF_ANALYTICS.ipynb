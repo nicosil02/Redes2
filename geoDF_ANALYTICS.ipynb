{
  "cells": [
    {
      "cell_type": "code",
      "execution_count": 239,
      "id": "a31450dc",
      "metadata": {
        "id": "a31450dc",
        "outputId": "6232cb2b-7f1b-45a4-ec33-bb5e85456008"
      },
      "outputs": [
        {
          "name": "stderr",
          "output_type": "stream",
          "text": [
            "INFO patool: Extracting C:/Users/maria/OneDrive/Documentos/GITHUB/Redes2/positivos_covid.rar ...\n",
            "INFO patool: running \"C:\\Program Files\\WinRAR\\rar.EXE\" x -- C:\\Users\\maria\\OneDrive\\Documentos\\GITHUB\\Redes2\\positivos_covid.rar\n",
            "INFO patool:     with cwd=C:\\Users\\maria\\AppData\\Local\\Temp\\tmp69p6cog_, input=\n"
          ]
        },
        {
          "name": "stderr",
          "output_type": "stream",
          "text": [
            "INFO patool: ... C:/Users/maria/OneDrive/Documentos/GITHUB/Redes2/positivos_covid.rar extracted to `C:\\Users\\maria\\AppData\\Local\\Temp\\tmp69p6cog_'.\n"
          ]
        },
        {
          "name": "stdout",
          "output_type": "stream",
          "text": [
            "         FECHA_CORTE DEPARTAMENTO  PROVINCIA              DISTRITO METODODX  \\\n",
            "0           20241203       TUMBES     TUMBES                TUMBES       AG   \n",
            "1           20241203         LIMA       LIMA           JESUS MARIA       AG   \n",
            "2           20241203   SAN MARTIN  MOYOBAMBA             MOYOBAMBA       AG   \n",
            "3           20241203     AREQUIPA   CAYLLOMA             COPORAQUE       AG   \n",
            "4           20241203         LIMA       LIMA           JESUS MARIA       AG   \n",
            "...              ...          ...        ...                   ...      ...   \n",
            "4585355     20241203         LIMA       LIMA           JESUS MARIA       AG   \n",
            "4585356     20241203         LIMA       LIMA           EL AGUSTINO       AG   \n",
            "4585357     20241203         LIMA       LIMA                   ATE       AG   \n",
            "4585358     20241203         LIMA       LIMA  SAN MARTIN DE PORRES       AG   \n",
            "4585359     20241203         LIMA       LIMA            CARABAYLLO       AG   \n",
            "\n",
            "         EDAD       SEXO  FECHA_RESULTADO    UBIGEO  id_persona  \n",
            "0        46.0   FEMENINO       20221207.0  240101.0    203499.0  \n",
            "1        69.0   FEMENINO       20230822.0  150113.0    221397.0  \n",
            "2        55.0   FEMENINO       20240108.0  220101.0    295651.0  \n",
            "3        50.0  MASCULINO       20230824.0   40506.0    851625.0  \n",
            "4        58.0  MASCULINO       20221217.0  150113.0    287786.0  \n",
            "...       ...        ...              ...       ...         ...  \n",
            "4585355  21.0  MASCULINO       20220105.0  150113.0         NaN  \n",
            "4585356  22.0  MASCULINO       20220107.0  150111.0         NaN  \n",
            "4585357  22.0  MASCULINO       20220107.0  150103.0         NaN  \n",
            "4585358  22.0  MASCULINO       20220107.0  150135.0         NaN  \n",
            "4585359  22.0  MASCULINO       20220107.0  150106.0         NaN  \n",
            "\n",
            "[4585360 rows x 10 columns]\n"
          ]
        }
      ],
      "source": [
        "#Data casos positivos\n",
        "\n",
        "import pandas as pd\n",
        "#!pip install patool pandas\n",
        "import patoolib\n",
        "import pandas as pd\n",
        "import os\n",
        "from tempfile import TemporaryDirectory\n",
        "\n",
        "\n",
        "rar_path = \"C:/Users/maria/OneDrive/Documentos/GITHUB/Redes2/positivos_covid.rar\"\n",
        "with TemporaryDirectory() as tmpdir:\n",
        "    patoolib.extract_archive(rar_path, outdir=tmpdir)\n",
        "    \n",
        "    csv_filename = [f for f in os.listdir(tmpdir) if f.endswith('.csv')][0]\n",
        "    csv_path = os.path.join(tmpdir, csv_filename)\n",
        "\n",
        "    contagiados = pd.read_csv(csv_path, delimiter=';')\n",
        "\n",
        "print(contagiados)\n",
        "\n"
      ]
    },
    {
      "cell_type": "code",
      "execution_count": 240,
      "id": "e0a4a89d-8f54-46b3-891f-0b9f391a5719",
      "metadata": {
        "id": "e0a4a89d-8f54-46b3-891f-0b9f391a5719",
        "outputId": "22e4ea73-ba89-44ca-91fc-6d5ce85443a5"
      },
      "outputs": [
        {
          "data": {
            "text/html": [
              "<div>\n",
              "<style scoped>\n",
              "    .dataframe tbody tr th:only-of-type {\n",
              "        vertical-align: middle;\n",
              "    }\n",
              "\n",
              "    .dataframe tbody tr th {\n",
              "        vertical-align: top;\n",
              "    }\n",
              "\n",
              "    .dataframe thead th {\n",
              "        text-align: right;\n",
              "    }\n",
              "</style>\n",
              "<table border=\"1\" class=\"dataframe\">\n",
              "  <thead>\n",
              "    <tr style=\"text-align: right;\">\n",
              "      <th></th>\n",
              "      <th>FECHA_CORTE</th>\n",
              "      <th>FECHA_FALLECIMIENTO</th>\n",
              "      <th>EDAD_DECLARADA</th>\n",
              "      <th>SEXO</th>\n",
              "      <th>CLASIFICACION_DEF</th>\n",
              "      <th>DEPARTAMENTO</th>\n",
              "      <th>PROVINCIA</th>\n",
              "      <th>DISTRITO</th>\n",
              "      <th>UBIGEO</th>\n",
              "      <th>UUID</th>\n",
              "    </tr>\n",
              "  </thead>\n",
              "  <tbody>\n",
              "    <tr>\n",
              "      <th>0</th>\n",
              "      <td>20240317</td>\n",
              "      <td>20220219</td>\n",
              "      <td>63</td>\n",
              "      <td>MASCULINO</td>\n",
              "      <td>Criterio virológico</td>\n",
              "      <td>TUMBES</td>\n",
              "      <td>TUMBES</td>\n",
              "      <td>TUMBES</td>\n",
              "      <td>240101.0</td>\n",
              "      <td>203506.0</td>\n",
              "    </tr>\n",
              "    <tr>\n",
              "      <th>1</th>\n",
              "      <td>20240317</td>\n",
              "      <td>20210529</td>\n",
              "      <td>74</td>\n",
              "      <td>MASCULINO</td>\n",
              "      <td>Criterio virológico</td>\n",
              "      <td>TUMBES</td>\n",
              "      <td>TUMBES</td>\n",
              "      <td>TUMBES</td>\n",
              "      <td>240101.0</td>\n",
              "      <td>203532.0</td>\n",
              "    </tr>\n",
              "    <tr>\n",
              "      <th>2</th>\n",
              "      <td>20240317</td>\n",
              "      <td>20210623</td>\n",
              "      <td>72</td>\n",
              "      <td>FEMENINO</td>\n",
              "      <td>Criterio SINADEF</td>\n",
              "      <td>TACNA</td>\n",
              "      <td>TACNA</td>\n",
              "      <td>ALTO DE LA ALIANZA</td>\n",
              "      <td>230102.0</td>\n",
              "      <td>203584.0</td>\n",
              "    </tr>\n",
              "    <tr>\n",
              "      <th>3</th>\n",
              "      <td>20240317</td>\n",
              "      <td>20210824</td>\n",
              "      <td>85</td>\n",
              "      <td>MASCULINO</td>\n",
              "      <td>Criterio investigación Epidemiológica</td>\n",
              "      <td>TUMBES</td>\n",
              "      <td>TUMBES</td>\n",
              "      <td>TUMBES</td>\n",
              "      <td>240101.0</td>\n",
              "      <td>212541.0</td>\n",
              "    </tr>\n",
              "    <tr>\n",
              "      <th>4</th>\n",
              "      <td>20240317</td>\n",
              "      <td>20210627</td>\n",
              "      <td>46</td>\n",
              "      <td>MASCULINO</td>\n",
              "      <td>Criterio virológico</td>\n",
              "      <td>TACNA</td>\n",
              "      <td>TACNA</td>\n",
              "      <td>ALTO DE LA ALIANZA</td>\n",
              "      <td>230102.0</td>\n",
              "      <td>203665.0</td>\n",
              "    </tr>\n",
              "  </tbody>\n",
              "</table>\n",
              "</div>"
            ],
            "text/plain": [
              "   FECHA_CORTE  FECHA_FALLECIMIENTO  EDAD_DECLARADA       SEXO  \\\n",
              "0     20240317             20220219              63  MASCULINO   \n",
              "1     20240317             20210529              74  MASCULINO   \n",
              "2     20240317             20210623              72   FEMENINO   \n",
              "3     20240317             20210824              85  MASCULINO   \n",
              "4     20240317             20210627              46  MASCULINO   \n",
              "\n",
              "                       CLASIFICACION_DEF DEPARTAMENTO PROVINCIA  \\\n",
              "0                    Criterio virológico       TUMBES    TUMBES   \n",
              "1                    Criterio virológico       TUMBES    TUMBES   \n",
              "2                       Criterio SINADEF        TACNA     TACNA   \n",
              "3  Criterio investigación Epidemiológica       TUMBES    TUMBES   \n",
              "4                    Criterio virológico        TACNA     TACNA   \n",
              "\n",
              "             DISTRITO    UBIGEO      UUID  \n",
              "0              TUMBES  240101.0  203506.0  \n",
              "1              TUMBES  240101.0  203532.0  \n",
              "2  ALTO DE LA ALIANZA  230102.0  203584.0  \n",
              "3              TUMBES  240101.0  212541.0  \n",
              "4  ALTO DE LA ALIANZA  230102.0  203665.0  "
            ]
          },
          "execution_count": 240,
          "metadata": {},
          "output_type": "execute_result"
        }
      ],
      "source": [
        "#data fallecidos\n",
        "fallecidos = pd.read_csv(\"fallecidos_covid.csv\",delimiter=';')\n",
        "fallecidos.head()\n"
      ]
    },
    {
      "cell_type": "code",
      "execution_count": 241,
      "id": "59f7b7e4",
      "metadata": {},
      "outputs": [],
      "source": [
        "fallecidos[\"FECHA_FALLECIMIENTO\"] = fallecidos[\"FECHA_FALLECIMIENTO\"].astype(str)\n",
        "fallecidos[\"year\"] = fallecidos[\"FECHA_FALLECIMIENTO\"].str[:4]\n",
        "fallecidos = fallecidos.drop(columns=[\"FECHA_FALLECIMIENTO\"])"
      ]
    },
    {
      "cell_type": "markdown",
      "id": "00eca694",
      "metadata": {},
      "source": [
        "## Contagiados"
      ]
    },
    {
      "cell_type": "markdown",
      "id": "5332de91",
      "metadata": {},
      "source": [
        "### Exploramos la data"
      ]
    },
    {
      "cell_type": "code",
      "execution_count": 242,
      "id": "a5999da7-6fbb-44c7-9b81-4f50f2adebd0",
      "metadata": {
        "id": "a5999da7-6fbb-44c7-9b81-4f50f2adebd0",
        "outputId": "8cae5095-cd71-4cb8-d510-0d5fa3b55862"
      },
      "outputs": [
        {
          "data": {
            "text/html": [
              "<div>\n",
              "<style scoped>\n",
              "    .dataframe tbody tr th:only-of-type {\n",
              "        vertical-align: middle;\n",
              "    }\n",
              "\n",
              "    .dataframe tbody tr th {\n",
              "        vertical-align: top;\n",
              "    }\n",
              "\n",
              "    .dataframe thead th {\n",
              "        text-align: right;\n",
              "    }\n",
              "</style>\n",
              "<table border=\"1\" class=\"dataframe\">\n",
              "  <thead>\n",
              "    <tr style=\"text-align: right;\">\n",
              "      <th></th>\n",
              "      <th>FECHA_CORTE</th>\n",
              "      <th>DEPARTAMENTO</th>\n",
              "      <th>PROVINCIA</th>\n",
              "      <th>DISTRITO</th>\n",
              "      <th>METODODX</th>\n",
              "      <th>EDAD</th>\n",
              "      <th>SEXO</th>\n",
              "      <th>FECHA_RESULTADO</th>\n",
              "      <th>UBIGEO</th>\n",
              "      <th>id_persona</th>\n",
              "    </tr>\n",
              "  </thead>\n",
              "  <tbody>\n",
              "    <tr>\n",
              "      <th>0</th>\n",
              "      <td>20241203</td>\n",
              "      <td>TUMBES</td>\n",
              "      <td>TUMBES</td>\n",
              "      <td>TUMBES</td>\n",
              "      <td>AG</td>\n",
              "      <td>46.0</td>\n",
              "      <td>FEMENINO</td>\n",
              "      <td>20221207.0</td>\n",
              "      <td>240101.0</td>\n",
              "      <td>203499.0</td>\n",
              "    </tr>\n",
              "    <tr>\n",
              "      <th>1</th>\n",
              "      <td>20241203</td>\n",
              "      <td>LIMA</td>\n",
              "      <td>LIMA</td>\n",
              "      <td>JESUS MARIA</td>\n",
              "      <td>AG</td>\n",
              "      <td>69.0</td>\n",
              "      <td>FEMENINO</td>\n",
              "      <td>20230822.0</td>\n",
              "      <td>150113.0</td>\n",
              "      <td>221397.0</td>\n",
              "    </tr>\n",
              "    <tr>\n",
              "      <th>2</th>\n",
              "      <td>20241203</td>\n",
              "      <td>SAN MARTIN</td>\n",
              "      <td>MOYOBAMBA</td>\n",
              "      <td>MOYOBAMBA</td>\n",
              "      <td>AG</td>\n",
              "      <td>55.0</td>\n",
              "      <td>FEMENINO</td>\n",
              "      <td>20240108.0</td>\n",
              "      <td>220101.0</td>\n",
              "      <td>295651.0</td>\n",
              "    </tr>\n",
              "    <tr>\n",
              "      <th>3</th>\n",
              "      <td>20241203</td>\n",
              "      <td>AREQUIPA</td>\n",
              "      <td>CAYLLOMA</td>\n",
              "      <td>COPORAQUE</td>\n",
              "      <td>AG</td>\n",
              "      <td>50.0</td>\n",
              "      <td>MASCULINO</td>\n",
              "      <td>20230824.0</td>\n",
              "      <td>40506.0</td>\n",
              "      <td>851625.0</td>\n",
              "    </tr>\n",
              "    <tr>\n",
              "      <th>4</th>\n",
              "      <td>20241203</td>\n",
              "      <td>LIMA</td>\n",
              "      <td>LIMA</td>\n",
              "      <td>JESUS MARIA</td>\n",
              "      <td>AG</td>\n",
              "      <td>58.0</td>\n",
              "      <td>MASCULINO</td>\n",
              "      <td>20221217.0</td>\n",
              "      <td>150113.0</td>\n",
              "      <td>287786.0</td>\n",
              "    </tr>\n",
              "  </tbody>\n",
              "</table>\n",
              "</div>"
            ],
            "text/plain": [
              "   FECHA_CORTE DEPARTAMENTO  PROVINCIA     DISTRITO METODODX  EDAD       SEXO  \\\n",
              "0     20241203       TUMBES     TUMBES       TUMBES       AG  46.0   FEMENINO   \n",
              "1     20241203         LIMA       LIMA  JESUS MARIA       AG  69.0   FEMENINO   \n",
              "2     20241203   SAN MARTIN  MOYOBAMBA    MOYOBAMBA       AG  55.0   FEMENINO   \n",
              "3     20241203     AREQUIPA   CAYLLOMA    COPORAQUE       AG  50.0  MASCULINO   \n",
              "4     20241203         LIMA       LIMA  JESUS MARIA       AG  58.0  MASCULINO   \n",
              "\n",
              "   FECHA_RESULTADO    UBIGEO  id_persona  \n",
              "0       20221207.0  240101.0    203499.0  \n",
              "1       20230822.0  150113.0    221397.0  \n",
              "2       20240108.0  220101.0    295651.0  \n",
              "3       20230824.0   40506.0    851625.0  \n",
              "4       20221217.0  150113.0    287786.0  "
            ]
          },
          "execution_count": 242,
          "metadata": {},
          "output_type": "execute_result"
        }
      ],
      "source": [
        "contagiados.head()\n"
      ]
    },
    {
      "cell_type": "code",
      "execution_count": 243,
      "id": "8f63bcae",
      "metadata": {},
      "outputs": [],
      "source": [
        "contagiados[\"FECHA_RESULTADO\"] = contagiados[\"FECHA_RESULTADO\"].astype(str)\n",
        "contagiados[\"year\"] = contagiados[\"FECHA_RESULTADO\"].str[:4]\n",
        "contagiados = contagiados.drop(columns=[\"FECHA_RESULTADO\"])"
      ]
    },
    {
      "cell_type": "code",
      "execution_count": 244,
      "id": "93e3e753",
      "metadata": {},
      "outputs": [],
      "source": [
        "#Limpiamos la variable year\n",
        "contagiados[\"year\"].unique()\n",
        "contagiados = contagiados[~contagiados[\"year\"].isin(['nan', '1899'])]\n",
        "contagiados = contagiados[contagiados[\"year\"].notna()]"
      ]
    },
    {
      "cell_type": "code",
      "execution_count": 245,
      "id": "95731345",
      "metadata": {},
      "outputs": [],
      "source": [
        "fallecidos['CATEGORIA'] = 'FALLECIDO'\n",
        "contagiados['CATEGORIA'] = 'CONTAGIADO'\n",
        "fallecidos = fallecidos.rename(columns={'EDAD_DECLARADA': 'EDAD'})"
      ]
    },
    {
      "cell_type": "code",
      "execution_count": 246,
      "id": "0b0305a6",
      "metadata": {},
      "outputs": [
        {
          "name": "stdout",
          "output_type": "stream",
          "text": [
            "         year       SEXO  EDAD DEPARTAMENTO PROVINCIA              DISTRITO  \\\n",
            "0        2022  MASCULINO  63.0       TUMBES    TUMBES                TUMBES   \n",
            "1        2021  MASCULINO  74.0       TUMBES    TUMBES                TUMBES   \n",
            "2        2021   FEMENINO  72.0        TACNA     TACNA    ALTO DE LA ALIANZA   \n",
            "3        2021  MASCULINO  85.0       TUMBES    TUMBES                TUMBES   \n",
            "4        2021  MASCULINO  46.0        TACNA     TACNA    ALTO DE LA ALIANZA   \n",
            "...       ...        ...   ...          ...       ...                   ...   \n",
            "4803856  2022  MASCULINO  21.0         LIMA      LIMA           JESUS MARIA   \n",
            "4803857  2022  MASCULINO  22.0         LIMA      LIMA           EL AGUSTINO   \n",
            "4803858  2022  MASCULINO  22.0         LIMA      LIMA                   ATE   \n",
            "4803859  2022  MASCULINO  22.0         LIMA      LIMA  SAN MARTIN DE PORRES   \n",
            "4803860  2022  MASCULINO  22.0         LIMA      LIMA            CARABAYLLO   \n",
            "\n",
            "           UBIGEO   CATEGORIA  \n",
            "0        240101.0   FALLECIDO  \n",
            "1        240101.0   FALLECIDO  \n",
            "2        230102.0   FALLECIDO  \n",
            "3        240101.0   FALLECIDO  \n",
            "4        230102.0   FALLECIDO  \n",
            "...           ...         ...  \n",
            "4803856  150113.0  CONTAGIADO  \n",
            "4803857  150111.0  CONTAGIADO  \n",
            "4803858  150103.0  CONTAGIADO  \n",
            "4803859  150135.0  CONTAGIADO  \n",
            "4803860  150106.0  CONTAGIADO  \n",
            "\n",
            "[4803861 rows x 8 columns]\n"
          ]
        }
      ],
      "source": [
        "key_columns = ['year', 'SEXO', 'EDAD', 'DEPARTAMENTO', 'PROVINCIA', 'DISTRITO', 'UBIGEO', 'CATEGORIA']\n",
        "covid = pd.concat([fallecidos[key_columns], contagiados[key_columns]], ignore_index=True)\n",
        "print(covid)"
      ]
    },
    {
      "cell_type": "code",
      "execution_count": 247,
      "id": "b9c7a267",
      "metadata": {},
      "outputs": [
        {
          "name": "stdout",
          "output_type": "stream",
          "text": [
            "PROVINCIA\n",
            "LIMA                         1972520\n",
            "AREQUIPA                      264943\n",
            "CALLAO                        173458\n",
            "TRUJILLO                      145357\n",
            "CHICLAYO                      110582\n",
            "                              ...   \n",
            "MOHO                             450\n",
            "LAURICOCHA                       445\n",
            "BOLIVAR                          411\n",
            "MARAÑON                          392\n",
            "CARLOS FERMIN FITZCARRALD        362\n",
            "Name: count, Length: 196, dtype: int64\n"
          ]
        }
      ],
      "source": [
        "# Eliminar las filas donde 'PROVINCIA' sea igual a \"Investigación\"\n",
        "covid = covid[covid['PROVINCIA'] != 'EN INVESTIGACIÓN']\n",
        "\n",
        "# Eliminar las filas donde 'PROVINCIA' sea igual a \"Investigación\"\n",
        "covid = covid[covid['DEPARTAMENTO'] != 'MASCULINO']\n",
        "\n",
        "# Verificar que se haya eliminado correctamente\n",
        "print(covid['PROVINCIA'].value_counts())"
      ]
    },
    {
      "cell_type": "code",
      "execution_count": 248,
      "id": "1f4d811f",
      "metadata": {},
      "outputs": [
        {
          "data": {
            "text/plain": [
              "CATEGORIA\n",
              "CONTAGIADO    4346340\n",
              "FALLECIDO      220916\n",
              "Name: count, dtype: int64"
            ]
          },
          "execution_count": 248,
          "metadata": {},
          "output_type": "execute_result"
        }
      ],
      "source": [
        "covid['CATEGORIA'].value_counts()"
      ]
    },
    {
      "cell_type": "markdown",
      "id": "2126e732",
      "metadata": {
        "id": "2126e732"
      },
      "source": [
        "## Reshaping to Long\n",
        "\n",
        "People per level, by distrit by year:"
      ]
    },
    {
      "cell_type": "code",
      "execution_count": 249,
      "id": "5182331a-080a-4858-a59f-1f1378dc4ad6",
      "metadata": {
        "id": "5182331a-080a-4858-a59f-1f1378dc4ad6",
        "outputId": "ae272c8a-c0be-43ba-f527-fa30aa02e7db"
      },
      "outputs": [
        {
          "data": {
            "text/html": [
              "<div>\n",
              "<style scoped>\n",
              "    .dataframe tbody tr th:only-of-type {\n",
              "        vertical-align: middle;\n",
              "    }\n",
              "\n",
              "    .dataframe tbody tr th {\n",
              "        vertical-align: top;\n",
              "    }\n",
              "\n",
              "    .dataframe thead tr th {\n",
              "        text-align: left;\n",
              "    }\n",
              "\n",
              "    .dataframe thead tr:last-of-type th {\n",
              "        text-align: right;\n",
              "    }\n",
              "</style>\n",
              "<table border=\"1\" class=\"dataframe\">\n",
              "  <thead>\n",
              "    <tr>\n",
              "      <th></th>\n",
              "      <th></th>\n",
              "      <th></th>\n",
              "      <th></th>\n",
              "      <th>CATEGORIA</th>\n",
              "    </tr>\n",
              "    <tr>\n",
              "      <th></th>\n",
              "      <th></th>\n",
              "      <th></th>\n",
              "      <th></th>\n",
              "      <th>len</th>\n",
              "    </tr>\n",
              "    <tr>\n",
              "      <th>year</th>\n",
              "      <th>DEPARTAMENTO</th>\n",
              "      <th>PROVINCIA</th>\n",
              "      <th>CATEGORIA</th>\n",
              "      <th></th>\n",
              "    </tr>\n",
              "  </thead>\n",
              "  <tbody>\n",
              "    <tr>\n",
              "      <th rowspan=\"5\" valign=\"top\">2020</th>\n",
              "      <th rowspan=\"5\" valign=\"top\">AMAZONAS</th>\n",
              "      <th rowspan=\"2\" valign=\"top\">BAGUA</th>\n",
              "      <th>CONTAGIADO</th>\n",
              "      <td>8126</td>\n",
              "    </tr>\n",
              "    <tr>\n",
              "      <th>FALLECIDO</th>\n",
              "      <td>270</td>\n",
              "    </tr>\n",
              "    <tr>\n",
              "      <th rowspan=\"2\" valign=\"top\">BONGARA</th>\n",
              "      <th>CONTAGIADO</th>\n",
              "      <td>389</td>\n",
              "    </tr>\n",
              "    <tr>\n",
              "      <th>FALLECIDO</th>\n",
              "      <td>25</td>\n",
              "    </tr>\n",
              "    <tr>\n",
              "      <th>CHACHAPOYAS</th>\n",
              "      <th>CONTAGIADO</th>\n",
              "      <td>2174</td>\n",
              "    </tr>\n",
              "    <tr>\n",
              "      <th>...</th>\n",
              "      <th>...</th>\n",
              "      <th>...</th>\n",
              "      <th>...</th>\n",
              "      <td>...</td>\n",
              "    </tr>\n",
              "    <tr>\n",
              "      <th rowspan=\"5\" valign=\"top\">2024</th>\n",
              "      <th rowspan=\"3\" valign=\"top\">TUMBES</th>\n",
              "      <th>CONTRALMIRANTE VILLAR</th>\n",
              "      <th>FALLECIDO</th>\n",
              "      <td>1</td>\n",
              "    </tr>\n",
              "    <tr>\n",
              "      <th>TUMBES</th>\n",
              "      <th>CONTAGIADO</th>\n",
              "      <td>57</td>\n",
              "    </tr>\n",
              "    <tr>\n",
              "      <th>ZARUMILLA</th>\n",
              "      <th>CONTAGIADO</th>\n",
              "      <td>16</td>\n",
              "    </tr>\n",
              "    <tr>\n",
              "      <th rowspan=\"2\" valign=\"top\">UCAYALI</th>\n",
              "      <th>CORONEL PORTILLO</th>\n",
              "      <th>CONTAGIADO</th>\n",
              "      <td>117</td>\n",
              "    </tr>\n",
              "    <tr>\n",
              "      <th>PADRE ABAD</th>\n",
              "      <th>CONTAGIADO</th>\n",
              "      <td>6</td>\n",
              "    </tr>\n",
              "  </tbody>\n",
              "</table>\n",
              "<p>1742 rows × 1 columns</p>\n",
              "</div>"
            ],
            "text/plain": [
              "                                                   CATEGORIA\n",
              "                                                         len\n",
              "year DEPARTAMENTO PROVINCIA             CATEGORIA           \n",
              "2020 AMAZONAS     BAGUA                 CONTAGIADO      8126\n",
              "                                        FALLECIDO        270\n",
              "                  BONGARA               CONTAGIADO       389\n",
              "                                        FALLECIDO         25\n",
              "                  CHACHAPOYAS           CONTAGIADO      2174\n",
              "...                                                      ...\n",
              "2024 TUMBES       CONTRALMIRANTE VILLAR FALLECIDO          1\n",
              "                  TUMBES                CONTAGIADO        57\n",
              "                  ZARUMILLA             CONTAGIADO        16\n",
              "     UCAYALI      CORONEL PORTILLO      CONTAGIADO       117\n",
              "                  PADRE ABAD            CONTAGIADO         6\n",
              "\n",
              "[1742 rows x 1 columns]"
            ]
          },
          "execution_count": 249,
          "metadata": {},
          "output_type": "execute_result"
        }
      ],
      "source": [
        "indexList = ['year', 'DEPARTAMENTO', 'PROVINCIA',\"CATEGORIA\"]\n",
        "aggregator = {'CATEGORIA': [len]}  \n",
        "covid_provYear = covid.groupby(indexList, observed=True).agg(aggregator)\n",
        "# Renombramos len a fallecidos\n",
        "covid_provYear"
      ]
    },
    {
      "cell_type": "markdown",
      "id": "d5de3187",
      "metadata": {
        "id": "d5de3187"
      },
      "source": [
        "Sending the counts to wide columns:"
      ]
    },
    {
      "cell_type": "code",
      "execution_count": 250,
      "id": "db430b4a",
      "metadata": {},
      "outputs": [
        {
          "data": {
            "text/html": [
              "<div>\n",
              "<style scoped>\n",
              "    .dataframe tbody tr th:only-of-type {\n",
              "        vertical-align: middle;\n",
              "    }\n",
              "\n",
              "    .dataframe tbody tr th {\n",
              "        vertical-align: top;\n",
              "    }\n",
              "\n",
              "    .dataframe thead tr th {\n",
              "        text-align: left;\n",
              "    }\n",
              "\n",
              "    .dataframe thead tr:last-of-type th {\n",
              "        text-align: right;\n",
              "    }\n",
              "</style>\n",
              "<table border=\"1\" class=\"dataframe\">\n",
              "  <thead>\n",
              "    <tr>\n",
              "      <th></th>\n",
              "      <th></th>\n",
              "      <th></th>\n",
              "      <th colspan=\"2\" halign=\"left\">CATEGORIA</th>\n",
              "    </tr>\n",
              "    <tr>\n",
              "      <th></th>\n",
              "      <th></th>\n",
              "      <th></th>\n",
              "      <th colspan=\"2\" halign=\"left\">len</th>\n",
              "    </tr>\n",
              "    <tr>\n",
              "      <th></th>\n",
              "      <th></th>\n",
              "      <th>CATEGORIA</th>\n",
              "      <th>CONTAGIADO</th>\n",
              "      <th>FALLECIDO</th>\n",
              "    </tr>\n",
              "    <tr>\n",
              "      <th>year</th>\n",
              "      <th>DEPARTAMENTO</th>\n",
              "      <th>PROVINCIA</th>\n",
              "      <th></th>\n",
              "      <th></th>\n",
              "    </tr>\n",
              "  </thead>\n",
              "  <tbody>\n",
              "    <tr>\n",
              "      <th rowspan=\"5\" valign=\"top\">2020</th>\n",
              "      <th rowspan=\"5\" valign=\"top\">AMAZONAS</th>\n",
              "      <th>BAGUA</th>\n",
              "      <td>8126.0</td>\n",
              "      <td>270.0</td>\n",
              "    </tr>\n",
              "    <tr>\n",
              "      <th>BONGARA</th>\n",
              "      <td>389.0</td>\n",
              "      <td>25.0</td>\n",
              "    </tr>\n",
              "    <tr>\n",
              "      <th>CHACHAPOYAS</th>\n",
              "      <td>2174.0</td>\n",
              "      <td>61.0</td>\n",
              "    </tr>\n",
              "    <tr>\n",
              "      <th>CONDORCANQUI</th>\n",
              "      <td>3481.0</td>\n",
              "      <td>79.0</td>\n",
              "    </tr>\n",
              "    <tr>\n",
              "      <th>LUYA</th>\n",
              "      <td>456.0</td>\n",
              "      <td>20.0</td>\n",
              "    </tr>\n",
              "    <tr>\n",
              "      <th>...</th>\n",
              "      <th>...</th>\n",
              "      <th>...</th>\n",
              "      <td>...</td>\n",
              "      <td>...</td>\n",
              "    </tr>\n",
              "    <tr>\n",
              "      <th rowspan=\"5\" valign=\"top\">2024</th>\n",
              "      <th rowspan=\"3\" valign=\"top\">TUMBES</th>\n",
              "      <th>CONTRALMIRANTE VILLAR</th>\n",
              "      <td>6.0</td>\n",
              "      <td>1.0</td>\n",
              "    </tr>\n",
              "    <tr>\n",
              "      <th>TUMBES</th>\n",
              "      <td>57.0</td>\n",
              "      <td>0.0</td>\n",
              "    </tr>\n",
              "    <tr>\n",
              "      <th>ZARUMILLA</th>\n",
              "      <td>16.0</td>\n",
              "      <td>0.0</td>\n",
              "    </tr>\n",
              "    <tr>\n",
              "      <th rowspan=\"2\" valign=\"top\">UCAYALI</th>\n",
              "      <th>CORONEL PORTILLO</th>\n",
              "      <td>117.0</td>\n",
              "      <td>0.0</td>\n",
              "    </tr>\n",
              "    <tr>\n",
              "      <th>PADRE ABAD</th>\n",
              "      <td>6.0</td>\n",
              "      <td>0.0</td>\n",
              "    </tr>\n",
              "  </tbody>\n",
              "</table>\n",
              "<p>954 rows × 2 columns</p>\n",
              "</div>"
            ],
            "text/plain": [
              "                                         CATEGORIA          \n",
              "                                               len          \n",
              "CATEGORIA                               CONTAGIADO FALLECIDO\n",
              "year DEPARTAMENTO PROVINCIA                                 \n",
              "2020 AMAZONAS     BAGUA                     8126.0     270.0\n",
              "                  BONGARA                    389.0      25.0\n",
              "                  CHACHAPOYAS               2174.0      61.0\n",
              "                  CONDORCANQUI              3481.0      79.0\n",
              "                  LUYA                       456.0      20.0\n",
              "...                                            ...       ...\n",
              "2024 TUMBES       CONTRALMIRANTE VILLAR        6.0       1.0\n",
              "                  TUMBES                      57.0       0.0\n",
              "                  ZARUMILLA                   16.0       0.0\n",
              "     UCAYALI      CORONEL PORTILLO           117.0       0.0\n",
              "                  PADRE ABAD                   6.0       0.0\n",
              "\n",
              "[954 rows x 2 columns]"
            ]
          },
          "execution_count": 250,
          "metadata": {},
          "output_type": "execute_result"
        }
      ],
      "source": [
        "CovidDraft=covid_provYear.unstack(3).fillna(0) #leftmost index in rows\n",
        "CovidDraft"
      ]
    },
    {
      "cell_type": "markdown",
      "id": "b571a030",
      "metadata": {
        "id": "b571a030"
      },
      "source": [
        "Computing share of covid, level 'Fallecido':"
      ]
    },
    {
      "cell_type": "code",
      "execution_count": 251,
      "id": "d5263d5c-f1b1-454c-b264-8fb9d50b17bc",
      "metadata": {
        "id": "d5263d5c-f1b1-454c-b264-8fb9d50b17bc",
        "outputId": "cb1d5877-55f1-48f9-ec68-4ad85361b7dd"
      },
      "outputs": [
        {
          "data": {
            "text/html": [
              "<div>\n",
              "<style scoped>\n",
              "    .dataframe tbody tr th:only-of-type {\n",
              "        vertical-align: middle;\n",
              "    }\n",
              "\n",
              "    .dataframe tbody tr th {\n",
              "        vertical-align: top;\n",
              "    }\n",
              "\n",
              "    .dataframe thead th {\n",
              "        text-align: right;\n",
              "    }\n",
              "</style>\n",
              "<table border=\"1\" class=\"dataframe\">\n",
              "  <thead>\n",
              "    <tr style=\"text-align: right;\">\n",
              "      <th></th>\n",
              "      <th>year</th>\n",
              "      <th>2020</th>\n",
              "      <th>2021</th>\n",
              "      <th>2022</th>\n",
              "      <th>2023</th>\n",
              "      <th>2024</th>\n",
              "    </tr>\n",
              "    <tr>\n",
              "      <th>DEPARTAMENTO</th>\n",
              "      <th>PROVINCIA</th>\n",
              "      <th></th>\n",
              "      <th></th>\n",
              "      <th></th>\n",
              "      <th></th>\n",
              "      <th></th>\n",
              "    </tr>\n",
              "  </thead>\n",
              "  <tbody>\n",
              "    <tr>\n",
              "      <th rowspan=\"5\" valign=\"top\">AMAZONAS</th>\n",
              "      <th>BAGUA</th>\n",
              "      <td>0.032158</td>\n",
              "      <td>0.043343</td>\n",
              "      <td>0.009309</td>\n",
              "      <td>0.012048</td>\n",
              "      <td>0.000000</td>\n",
              "    </tr>\n",
              "    <tr>\n",
              "      <th>BONGARA</th>\n",
              "      <td>0.060386</td>\n",
              "      <td>0.042365</td>\n",
              "      <td>0.004338</td>\n",
              "      <td>0.000000</td>\n",
              "      <td>0.000000</td>\n",
              "    </tr>\n",
              "    <tr>\n",
              "      <th>CHACHAPOYAS</th>\n",
              "      <td>0.027293</td>\n",
              "      <td>0.039357</td>\n",
              "      <td>0.003565</td>\n",
              "      <td>0.019868</td>\n",
              "      <td>0.007299</td>\n",
              "    </tr>\n",
              "    <tr>\n",
              "      <th>CONDORCANQUI</th>\n",
              "      <td>0.022191</td>\n",
              "      <td>0.046713</td>\n",
              "      <td>0.009671</td>\n",
              "      <td>0.000000</td>\n",
              "      <td>0.000000</td>\n",
              "    </tr>\n",
              "    <tr>\n",
              "      <th>LUYA</th>\n",
              "      <td>0.042017</td>\n",
              "      <td>0.054735</td>\n",
              "      <td>0.003810</td>\n",
              "      <td>0.018868</td>\n",
              "      <td>0.000000</td>\n",
              "    </tr>\n",
              "    <tr>\n",
              "      <th>...</th>\n",
              "      <th>...</th>\n",
              "      <td>...</td>\n",
              "      <td>...</td>\n",
              "      <td>...</td>\n",
              "      <td>...</td>\n",
              "      <td>...</td>\n",
              "    </tr>\n",
              "    <tr>\n",
              "      <th>TUMBES</th>\n",
              "      <th>ZARUMILLA</th>\n",
              "      <td>0.076790</td>\n",
              "      <td>0.066782</td>\n",
              "      <td>0.019383</td>\n",
              "      <td>0.074074</td>\n",
              "      <td>0.000000</td>\n",
              "    </tr>\n",
              "    <tr>\n",
              "      <th rowspan=\"4\" valign=\"top\">UCAYALI</th>\n",
              "      <th>ATALAYA</th>\n",
              "      <td>0.083491</td>\n",
              "      <td>0.230216</td>\n",
              "      <td>0.040541</td>\n",
              "      <td>0.000000</td>\n",
              "      <td>0.000000</td>\n",
              "    </tr>\n",
              "    <tr>\n",
              "      <th>CORONEL PORTILLO</th>\n",
              "      <td>0.083943</td>\n",
              "      <td>0.119762</td>\n",
              "      <td>0.010725</td>\n",
              "      <td>0.081545</td>\n",
              "      <td>0.000000</td>\n",
              "    </tr>\n",
              "    <tr>\n",
              "      <th>PADRE ABAD</th>\n",
              "      <td>0.050963</td>\n",
              "      <td>0.070412</td>\n",
              "      <td>0.009662</td>\n",
              "      <td>0.000000</td>\n",
              "      <td>0.000000</td>\n",
              "    </tr>\n",
              "    <tr>\n",
              "      <th>PURUS</th>\n",
              "      <td>0.005666</td>\n",
              "      <td>0.045455</td>\n",
              "      <td>0.000000</td>\n",
              "      <td>0.000000</td>\n",
              "      <td>0.000000</td>\n",
              "    </tr>\n",
              "  </tbody>\n",
              "</table>\n",
              "<p>198 rows × 5 columns</p>\n",
              "</div>"
            ],
            "text/plain": [
              "year                               2020      2021      2022      2023  \\\n",
              "DEPARTAMENTO PROVINCIA                                                  \n",
              "AMAZONAS     BAGUA             0.032158  0.043343  0.009309  0.012048   \n",
              "             BONGARA           0.060386  0.042365  0.004338  0.000000   \n",
              "             CHACHAPOYAS       0.027293  0.039357  0.003565  0.019868   \n",
              "             CONDORCANQUI      0.022191  0.046713  0.009671  0.000000   \n",
              "             LUYA              0.042017  0.054735  0.003810  0.018868   \n",
              "...                                 ...       ...       ...       ...   \n",
              "TUMBES       ZARUMILLA         0.076790  0.066782  0.019383  0.074074   \n",
              "UCAYALI      ATALAYA           0.083491  0.230216  0.040541  0.000000   \n",
              "             CORONEL PORTILLO  0.083943  0.119762  0.010725  0.081545   \n",
              "             PADRE ABAD        0.050963  0.070412  0.009662  0.000000   \n",
              "             PURUS             0.005666  0.045455  0.000000  0.000000   \n",
              "\n",
              "year                               2024  \n",
              "DEPARTAMENTO PROVINCIA                   \n",
              "AMAZONAS     BAGUA             0.000000  \n",
              "             BONGARA           0.000000  \n",
              "             CHACHAPOYAS       0.007299  \n",
              "             CONDORCANQUI      0.000000  \n",
              "             LUYA              0.000000  \n",
              "...                                 ...  \n",
              "TUMBES       ZARUMILLA         0.000000  \n",
              "UCAYALI      ATALAYA           0.000000  \n",
              "             CORONEL PORTILLO  0.000000  \n",
              "             PADRE ABAD        0.000000  \n",
              "             PURUS             0.000000  \n",
              "\n",
              "[198 rows x 5 columns]"
            ]
          },
          "execution_count": 251,
          "metadata": {},
          "output_type": "execute_result"
        }
      ],
      "source": [
        "CovidDraft['Fallecido_pct']=CovidDraft.iloc[:,1]/(CovidDraft.iloc[:,0] + CovidDraft.iloc[:,1])\n",
        "Covid_provYear_Fallecido_w=CovidDraft['Fallecido_pct'].unstack('year').fillna(0)\n",
        "Covid_provYear_Fallecido_w"
      ]
    },
    {
      "cell_type": "markdown",
      "id": "26f868bb",
      "metadata": {
        "id": "26f868bb"
      },
      "source": [
        "Notice the data type:"
      ]
    },
    {
      "cell_type": "code",
      "execution_count": 252,
      "id": "f90f1042-efda-4071-b8ce-00c7ba8dfc2f",
      "metadata": {
        "id": "f90f1042-efda-4071-b8ce-00c7ba8dfc2f",
        "outputId": "a9da68dc-1a85-4420-edc7-a6ae08cf69c4"
      },
      "outputs": [
        {
          "data": {
            "text/plain": [
              "Index(['2020', '2021', '2022', '2023', '2024'], dtype='object', name='year')"
            ]
          },
          "execution_count": 252,
          "metadata": {},
          "output_type": "execute_result"
        }
      ],
      "source": [
        "Covid_provYear_Fallecido_w.columns"
      ]
    },
    {
      "cell_type": "code",
      "execution_count": 253,
      "id": "1f9041a0-7ea7-47b6-b4bf-3f9a0ba6b620",
      "metadata": {
        "id": "1f9041a0-7ea7-47b6-b4bf-3f9a0ba6b620"
      },
      "outputs": [],
      "source": [
        "Covid_provYear_Fallecido_w.columns=['year'+str(x) for x in Covid_provYear_Fallecido_w.columns]"
      ]
    },
    {
      "cell_type": "code",
      "execution_count": 254,
      "id": "32c27bcb-9ce5-41ff-ba0b-8616ec2c5989",
      "metadata": {
        "id": "32c27bcb-9ce5-41ff-ba0b-8616ec2c5989",
        "outputId": "c8d1ac9f-59ab-4417-9dd6-b56cb8d8b70f"
      },
      "outputs": [
        {
          "data": {
            "text/html": [
              "<div>\n",
              "<style scoped>\n",
              "    .dataframe tbody tr th:only-of-type {\n",
              "        vertical-align: middle;\n",
              "    }\n",
              "\n",
              "    .dataframe tbody tr th {\n",
              "        vertical-align: top;\n",
              "    }\n",
              "\n",
              "    .dataframe thead th {\n",
              "        text-align: right;\n",
              "    }\n",
              "</style>\n",
              "<table border=\"1\" class=\"dataframe\">\n",
              "  <thead>\n",
              "    <tr style=\"text-align: right;\">\n",
              "      <th></th>\n",
              "      <th></th>\n",
              "      <th>year2020</th>\n",
              "      <th>year2021</th>\n",
              "      <th>year2022</th>\n",
              "      <th>year2023</th>\n",
              "      <th>year2024</th>\n",
              "    </tr>\n",
              "    <tr>\n",
              "      <th>DEPARTAMENTO</th>\n",
              "      <th>PROVINCIA</th>\n",
              "      <th></th>\n",
              "      <th></th>\n",
              "      <th></th>\n",
              "      <th></th>\n",
              "      <th></th>\n",
              "    </tr>\n",
              "  </thead>\n",
              "  <tbody>\n",
              "    <tr>\n",
              "      <th rowspan=\"5\" valign=\"top\">AMAZONAS</th>\n",
              "      <th>BAGUA</th>\n",
              "      <td>0.032158</td>\n",
              "      <td>0.043343</td>\n",
              "      <td>0.009309</td>\n",
              "      <td>0.012048</td>\n",
              "      <td>0.000000</td>\n",
              "    </tr>\n",
              "    <tr>\n",
              "      <th>BONGARA</th>\n",
              "      <td>0.060386</td>\n",
              "      <td>0.042365</td>\n",
              "      <td>0.004338</td>\n",
              "      <td>0.000000</td>\n",
              "      <td>0.000000</td>\n",
              "    </tr>\n",
              "    <tr>\n",
              "      <th>CHACHAPOYAS</th>\n",
              "      <td>0.027293</td>\n",
              "      <td>0.039357</td>\n",
              "      <td>0.003565</td>\n",
              "      <td>0.019868</td>\n",
              "      <td>0.007299</td>\n",
              "    </tr>\n",
              "    <tr>\n",
              "      <th>CONDORCANQUI</th>\n",
              "      <td>0.022191</td>\n",
              "      <td>0.046713</td>\n",
              "      <td>0.009671</td>\n",
              "      <td>0.000000</td>\n",
              "      <td>0.000000</td>\n",
              "    </tr>\n",
              "    <tr>\n",
              "      <th>LUYA</th>\n",
              "      <td>0.042017</td>\n",
              "      <td>0.054735</td>\n",
              "      <td>0.003810</td>\n",
              "      <td>0.018868</td>\n",
              "      <td>0.000000</td>\n",
              "    </tr>\n",
              "    <tr>\n",
              "      <th>...</th>\n",
              "      <th>...</th>\n",
              "      <td>...</td>\n",
              "      <td>...</td>\n",
              "      <td>...</td>\n",
              "      <td>...</td>\n",
              "      <td>...</td>\n",
              "    </tr>\n",
              "    <tr>\n",
              "      <th>TUMBES</th>\n",
              "      <th>ZARUMILLA</th>\n",
              "      <td>0.076790</td>\n",
              "      <td>0.066782</td>\n",
              "      <td>0.019383</td>\n",
              "      <td>0.074074</td>\n",
              "      <td>0.000000</td>\n",
              "    </tr>\n",
              "    <tr>\n",
              "      <th rowspan=\"4\" valign=\"top\">UCAYALI</th>\n",
              "      <th>ATALAYA</th>\n",
              "      <td>0.083491</td>\n",
              "      <td>0.230216</td>\n",
              "      <td>0.040541</td>\n",
              "      <td>0.000000</td>\n",
              "      <td>0.000000</td>\n",
              "    </tr>\n",
              "    <tr>\n",
              "      <th>CORONEL PORTILLO</th>\n",
              "      <td>0.083943</td>\n",
              "      <td>0.119762</td>\n",
              "      <td>0.010725</td>\n",
              "      <td>0.081545</td>\n",
              "      <td>0.000000</td>\n",
              "    </tr>\n",
              "    <tr>\n",
              "      <th>PADRE ABAD</th>\n",
              "      <td>0.050963</td>\n",
              "      <td>0.070412</td>\n",
              "      <td>0.009662</td>\n",
              "      <td>0.000000</td>\n",
              "      <td>0.000000</td>\n",
              "    </tr>\n",
              "    <tr>\n",
              "      <th>PURUS</th>\n",
              "      <td>0.005666</td>\n",
              "      <td>0.045455</td>\n",
              "      <td>0.000000</td>\n",
              "      <td>0.000000</td>\n",
              "      <td>0.000000</td>\n",
              "    </tr>\n",
              "  </tbody>\n",
              "</table>\n",
              "<p>198 rows × 5 columns</p>\n",
              "</div>"
            ],
            "text/plain": [
              "                               year2020  year2021  year2022  year2023  \\\n",
              "DEPARTAMENTO PROVINCIA                                                  \n",
              "AMAZONAS     BAGUA             0.032158  0.043343  0.009309  0.012048   \n",
              "             BONGARA           0.060386  0.042365  0.004338  0.000000   \n",
              "             CHACHAPOYAS       0.027293  0.039357  0.003565  0.019868   \n",
              "             CONDORCANQUI      0.022191  0.046713  0.009671  0.000000   \n",
              "             LUYA              0.042017  0.054735  0.003810  0.018868   \n",
              "...                                 ...       ...       ...       ...   \n",
              "TUMBES       ZARUMILLA         0.076790  0.066782  0.019383  0.074074   \n",
              "UCAYALI      ATALAYA           0.083491  0.230216  0.040541  0.000000   \n",
              "             CORONEL PORTILLO  0.083943  0.119762  0.010725  0.081545   \n",
              "             PADRE ABAD        0.050963  0.070412  0.009662  0.000000   \n",
              "             PURUS             0.005666  0.045455  0.000000  0.000000   \n",
              "\n",
              "                               year2024  \n",
              "DEPARTAMENTO PROVINCIA                   \n",
              "AMAZONAS     BAGUA             0.000000  \n",
              "             BONGARA           0.000000  \n",
              "             CHACHAPOYAS       0.007299  \n",
              "             CONDORCANQUI      0.000000  \n",
              "             LUYA              0.000000  \n",
              "...                                 ...  \n",
              "TUMBES       ZARUMILLA         0.000000  \n",
              "UCAYALI      ATALAYA           0.000000  \n",
              "             CORONEL PORTILLO  0.000000  \n",
              "             PADRE ABAD        0.000000  \n",
              "             PURUS             0.000000  \n",
              "\n",
              "[198 rows x 5 columns]"
            ]
          },
          "execution_count": 254,
          "metadata": {},
          "output_type": "execute_result"
        }
      ],
      "source": [
        "# then\n",
        "Covid_provYear_Fallecido_w"
      ]
    },
    {
      "cell_type": "code",
      "execution_count": 255,
      "id": "0e6326cc-2e33-4c3d-9985-bfc955fd63c1",
      "metadata": {
        "id": "0e6326cc-2e33-4c3d-9985-bfc955fd63c1",
        "outputId": "316a3b6e-39cc-4b5c-fa9a-44c2fab5f194"
      },
      "outputs": [
        {
          "data": {
            "text/html": [
              "<div>\n",
              "<style scoped>\n",
              "    .dataframe tbody tr th:only-of-type {\n",
              "        vertical-align: middle;\n",
              "    }\n",
              "\n",
              "    .dataframe tbody tr th {\n",
              "        vertical-align: top;\n",
              "    }\n",
              "\n",
              "    .dataframe thead th {\n",
              "        text-align: right;\n",
              "    }\n",
              "</style>\n",
              "<table border=\"1\" class=\"dataframe\">\n",
              "  <thead>\n",
              "    <tr style=\"text-align: right;\">\n",
              "      <th></th>\n",
              "      <th>DEPARTAMENTO</th>\n",
              "      <th>PROVINCIA</th>\n",
              "      <th>year2020</th>\n",
              "      <th>year2021</th>\n",
              "      <th>year2022</th>\n",
              "      <th>year2023</th>\n",
              "      <th>year2024</th>\n",
              "    </tr>\n",
              "  </thead>\n",
              "  <tbody>\n",
              "    <tr>\n",
              "      <th>0</th>\n",
              "      <td>AMAZONAS</td>\n",
              "      <td>BAGUA</td>\n",
              "      <td>0.032158</td>\n",
              "      <td>0.043343</td>\n",
              "      <td>0.009309</td>\n",
              "      <td>0.012048</td>\n",
              "      <td>0.000000</td>\n",
              "    </tr>\n",
              "    <tr>\n",
              "      <th>1</th>\n",
              "      <td>AMAZONAS</td>\n",
              "      <td>BONGARA</td>\n",
              "      <td>0.060386</td>\n",
              "      <td>0.042365</td>\n",
              "      <td>0.004338</td>\n",
              "      <td>0.000000</td>\n",
              "      <td>0.000000</td>\n",
              "    </tr>\n",
              "    <tr>\n",
              "      <th>2</th>\n",
              "      <td>AMAZONAS</td>\n",
              "      <td>CHACHAPOYAS</td>\n",
              "      <td>0.027293</td>\n",
              "      <td>0.039357</td>\n",
              "      <td>0.003565</td>\n",
              "      <td>0.019868</td>\n",
              "      <td>0.007299</td>\n",
              "    </tr>\n",
              "    <tr>\n",
              "      <th>3</th>\n",
              "      <td>AMAZONAS</td>\n",
              "      <td>CONDORCANQUI</td>\n",
              "      <td>0.022191</td>\n",
              "      <td>0.046713</td>\n",
              "      <td>0.009671</td>\n",
              "      <td>0.000000</td>\n",
              "      <td>0.000000</td>\n",
              "    </tr>\n",
              "    <tr>\n",
              "      <th>4</th>\n",
              "      <td>AMAZONAS</td>\n",
              "      <td>LUYA</td>\n",
              "      <td>0.042017</td>\n",
              "      <td>0.054735</td>\n",
              "      <td>0.003810</td>\n",
              "      <td>0.018868</td>\n",
              "      <td>0.000000</td>\n",
              "    </tr>\n",
              "    <tr>\n",
              "      <th>...</th>\n",
              "      <td>...</td>\n",
              "      <td>...</td>\n",
              "      <td>...</td>\n",
              "      <td>...</td>\n",
              "      <td>...</td>\n",
              "      <td>...</td>\n",
              "      <td>...</td>\n",
              "    </tr>\n",
              "    <tr>\n",
              "      <th>193</th>\n",
              "      <td>TUMBES</td>\n",
              "      <td>ZARUMILLA</td>\n",
              "      <td>0.076790</td>\n",
              "      <td>0.066782</td>\n",
              "      <td>0.019383</td>\n",
              "      <td>0.074074</td>\n",
              "      <td>0.000000</td>\n",
              "    </tr>\n",
              "    <tr>\n",
              "      <th>194</th>\n",
              "      <td>UCAYALI</td>\n",
              "      <td>ATALAYA</td>\n",
              "      <td>0.083491</td>\n",
              "      <td>0.230216</td>\n",
              "      <td>0.040541</td>\n",
              "      <td>0.000000</td>\n",
              "      <td>0.000000</td>\n",
              "    </tr>\n",
              "    <tr>\n",
              "      <th>195</th>\n",
              "      <td>UCAYALI</td>\n",
              "      <td>CORONEL PORTILLO</td>\n",
              "      <td>0.083943</td>\n",
              "      <td>0.119762</td>\n",
              "      <td>0.010725</td>\n",
              "      <td>0.081545</td>\n",
              "      <td>0.000000</td>\n",
              "    </tr>\n",
              "    <tr>\n",
              "      <th>196</th>\n",
              "      <td>UCAYALI</td>\n",
              "      <td>PADRE ABAD</td>\n",
              "      <td>0.050963</td>\n",
              "      <td>0.070412</td>\n",
              "      <td>0.009662</td>\n",
              "      <td>0.000000</td>\n",
              "      <td>0.000000</td>\n",
              "    </tr>\n",
              "    <tr>\n",
              "      <th>197</th>\n",
              "      <td>UCAYALI</td>\n",
              "      <td>PURUS</td>\n",
              "      <td>0.005666</td>\n",
              "      <td>0.045455</td>\n",
              "      <td>0.000000</td>\n",
              "      <td>0.000000</td>\n",
              "      <td>0.000000</td>\n",
              "    </tr>\n",
              "  </tbody>\n",
              "</table>\n",
              "<p>198 rows × 7 columns</p>\n",
              "</div>"
            ],
            "text/plain": [
              "    DEPARTAMENTO         PROVINCIA  year2020  year2021  year2022  year2023  \\\n",
              "0       AMAZONAS             BAGUA  0.032158  0.043343  0.009309  0.012048   \n",
              "1       AMAZONAS           BONGARA  0.060386  0.042365  0.004338  0.000000   \n",
              "2       AMAZONAS       CHACHAPOYAS  0.027293  0.039357  0.003565  0.019868   \n",
              "3       AMAZONAS      CONDORCANQUI  0.022191  0.046713  0.009671  0.000000   \n",
              "4       AMAZONAS              LUYA  0.042017  0.054735  0.003810  0.018868   \n",
              "..           ...               ...       ...       ...       ...       ...   \n",
              "193       TUMBES         ZARUMILLA  0.076790  0.066782  0.019383  0.074074   \n",
              "194      UCAYALI           ATALAYA  0.083491  0.230216  0.040541  0.000000   \n",
              "195      UCAYALI  CORONEL PORTILLO  0.083943  0.119762  0.010725  0.081545   \n",
              "196      UCAYALI        PADRE ABAD  0.050963  0.070412  0.009662  0.000000   \n",
              "197      UCAYALI             PURUS  0.005666  0.045455  0.000000  0.000000   \n",
              "\n",
              "     year2024  \n",
              "0    0.000000  \n",
              "1    0.000000  \n",
              "2    0.007299  \n",
              "3    0.000000  \n",
              "4    0.000000  \n",
              "..        ...  \n",
              "193  0.000000  \n",
              "194  0.000000  \n",
              "195  0.000000  \n",
              "196  0.000000  \n",
              "197  0.000000  \n",
              "\n",
              "[198 rows x 7 columns]"
            ]
          },
          "execution_count": 255,
          "metadata": {},
          "output_type": "execute_result"
        }
      ],
      "source": [
        "# as usual\n",
        "Covid_provYear_Fallecido_w.reset_index(inplace=True)\n",
        "Covid_provYear_Fallecido_w"
      ]
    },
    {
      "cell_type": "markdown",
      "id": "d399dad6",
      "metadata": {},
      "source": [
        "## Contagiados"
      ]
    },
    {
      "cell_type": "code",
      "execution_count": 256,
      "id": "34535135",
      "metadata": {},
      "outputs": [
        {
          "data": {
            "text/html": [
              "<div>\n",
              "<style scoped>\n",
              "    .dataframe tbody tr th:only-of-type {\n",
              "        vertical-align: middle;\n",
              "    }\n",
              "\n",
              "    .dataframe tbody tr th {\n",
              "        vertical-align: top;\n",
              "    }\n",
              "\n",
              "    .dataframe thead th {\n",
              "        text-align: right;\n",
              "    }\n",
              "</style>\n",
              "<table border=\"1\" class=\"dataframe\">\n",
              "  <thead>\n",
              "    <tr style=\"text-align: right;\">\n",
              "      <th></th>\n",
              "      <th>year</th>\n",
              "      <th>2020</th>\n",
              "      <th>2021</th>\n",
              "      <th>2022</th>\n",
              "      <th>2023</th>\n",
              "      <th>2024</th>\n",
              "    </tr>\n",
              "    <tr>\n",
              "      <th>DEPARTAMENTO</th>\n",
              "      <th>PROVINCIA</th>\n",
              "      <th></th>\n",
              "      <th></th>\n",
              "      <th></th>\n",
              "      <th></th>\n",
              "      <th></th>\n",
              "    </tr>\n",
              "  </thead>\n",
              "  <tbody>\n",
              "    <tr>\n",
              "      <th rowspan=\"5\" valign=\"top\">AMAZONAS</th>\n",
              "      <th>BAGUA</th>\n",
              "      <td>0.967842</td>\n",
              "      <td>0.956657</td>\n",
              "      <td>0.990691</td>\n",
              "      <td>0.987952</td>\n",
              "      <td>1.000000</td>\n",
              "    </tr>\n",
              "    <tr>\n",
              "      <th>BONGARA</th>\n",
              "      <td>0.939614</td>\n",
              "      <td>0.957635</td>\n",
              "      <td>0.995662</td>\n",
              "      <td>1.000000</td>\n",
              "      <td>1.000000</td>\n",
              "    </tr>\n",
              "    <tr>\n",
              "      <th>CHACHAPOYAS</th>\n",
              "      <td>0.972707</td>\n",
              "      <td>0.960643</td>\n",
              "      <td>0.996435</td>\n",
              "      <td>0.980132</td>\n",
              "      <td>0.992701</td>\n",
              "    </tr>\n",
              "    <tr>\n",
              "      <th>CONDORCANQUI</th>\n",
              "      <td>0.977809</td>\n",
              "      <td>0.953287</td>\n",
              "      <td>0.990329</td>\n",
              "      <td>1.000000</td>\n",
              "      <td>0.000000</td>\n",
              "    </tr>\n",
              "    <tr>\n",
              "      <th>LUYA</th>\n",
              "      <td>0.957983</td>\n",
              "      <td>0.945265</td>\n",
              "      <td>0.996190</td>\n",
              "      <td>0.981132</td>\n",
              "      <td>1.000000</td>\n",
              "    </tr>\n",
              "    <tr>\n",
              "      <th>...</th>\n",
              "      <th>...</th>\n",
              "      <td>...</td>\n",
              "      <td>...</td>\n",
              "      <td>...</td>\n",
              "      <td>...</td>\n",
              "      <td>...</td>\n",
              "    </tr>\n",
              "    <tr>\n",
              "      <th>TUMBES</th>\n",
              "      <th>ZARUMILLA</th>\n",
              "      <td>0.923210</td>\n",
              "      <td>0.933218</td>\n",
              "      <td>0.980617</td>\n",
              "      <td>0.925926</td>\n",
              "      <td>1.000000</td>\n",
              "    </tr>\n",
              "    <tr>\n",
              "      <th rowspan=\"4\" valign=\"top\">UCAYALI</th>\n",
              "      <th>ATALAYA</th>\n",
              "      <td>0.916509</td>\n",
              "      <td>0.769784</td>\n",
              "      <td>0.959459</td>\n",
              "      <td>1.000000</td>\n",
              "      <td>0.000000</td>\n",
              "    </tr>\n",
              "    <tr>\n",
              "      <th>CORONEL PORTILLO</th>\n",
              "      <td>0.916057</td>\n",
              "      <td>0.880238</td>\n",
              "      <td>0.989275</td>\n",
              "      <td>0.918455</td>\n",
              "      <td>1.000000</td>\n",
              "    </tr>\n",
              "    <tr>\n",
              "      <th>PADRE ABAD</th>\n",
              "      <td>0.949037</td>\n",
              "      <td>0.929588</td>\n",
              "      <td>0.990338</td>\n",
              "      <td>1.000000</td>\n",
              "      <td>1.000000</td>\n",
              "    </tr>\n",
              "    <tr>\n",
              "      <th>PURUS</th>\n",
              "      <td>0.994334</td>\n",
              "      <td>0.954545</td>\n",
              "      <td>1.000000</td>\n",
              "      <td>1.000000</td>\n",
              "      <td>0.000000</td>\n",
              "    </tr>\n",
              "  </tbody>\n",
              "</table>\n",
              "<p>198 rows × 5 columns</p>\n",
              "</div>"
            ],
            "text/plain": [
              "year                               2020      2021      2022      2023  \\\n",
              "DEPARTAMENTO PROVINCIA                                                  \n",
              "AMAZONAS     BAGUA             0.967842  0.956657  0.990691  0.987952   \n",
              "             BONGARA           0.939614  0.957635  0.995662  1.000000   \n",
              "             CHACHAPOYAS       0.972707  0.960643  0.996435  0.980132   \n",
              "             CONDORCANQUI      0.977809  0.953287  0.990329  1.000000   \n",
              "             LUYA              0.957983  0.945265  0.996190  0.981132   \n",
              "...                                 ...       ...       ...       ...   \n",
              "TUMBES       ZARUMILLA         0.923210  0.933218  0.980617  0.925926   \n",
              "UCAYALI      ATALAYA           0.916509  0.769784  0.959459  1.000000   \n",
              "             CORONEL PORTILLO  0.916057  0.880238  0.989275  0.918455   \n",
              "             PADRE ABAD        0.949037  0.929588  0.990338  1.000000   \n",
              "             PURUS             0.994334  0.954545  1.000000  1.000000   \n",
              "\n",
              "year                               2024  \n",
              "DEPARTAMENTO PROVINCIA                   \n",
              "AMAZONAS     BAGUA             1.000000  \n",
              "             BONGARA           1.000000  \n",
              "             CHACHAPOYAS       0.992701  \n",
              "             CONDORCANQUI      0.000000  \n",
              "             LUYA              1.000000  \n",
              "...                                 ...  \n",
              "TUMBES       ZARUMILLA         1.000000  \n",
              "UCAYALI      ATALAYA           0.000000  \n",
              "             CORONEL PORTILLO  1.000000  \n",
              "             PADRE ABAD        1.000000  \n",
              "             PURUS             0.000000  \n",
              "\n",
              "[198 rows x 5 columns]"
            ]
          },
          "execution_count": 256,
          "metadata": {},
          "output_type": "execute_result"
        }
      ],
      "source": [
        "CovidDraft['Contagiados_pct']=CovidDraft.iloc[:,0]/(CovidDraft.iloc[:,0] + CovidDraft.iloc[:,1])\n",
        "Covid_provYear_Contagiados_w=CovidDraft['Contagiados_pct'].unstack('year').fillna(0)\n",
        "Covid_provYear_Contagiados_w"
      ]
    },
    {
      "cell_type": "code",
      "execution_count": 257,
      "id": "c3281e87",
      "metadata": {},
      "outputs": [
        {
          "data": {
            "text/plain": [
              "Index(['2020', '2021', '2022', '2023', '2024'], dtype='object', name='year')"
            ]
          },
          "execution_count": 257,
          "metadata": {},
          "output_type": "execute_result"
        }
      ],
      "source": [
        "Covid_provYear_Contagiados_w.columns"
      ]
    },
    {
      "cell_type": "code",
      "execution_count": 258,
      "id": "efbced7d",
      "metadata": {},
      "outputs": [],
      "source": [
        "Covid_provYear_Contagiados_w.columns=['year'+str(x) for x in Covid_provYear_Contagiados_w.columns]"
      ]
    },
    {
      "cell_type": "code",
      "execution_count": 259,
      "id": "97ad9815",
      "metadata": {},
      "outputs": [
        {
          "data": {
            "text/html": [
              "<div>\n",
              "<style scoped>\n",
              "    .dataframe tbody tr th:only-of-type {\n",
              "        vertical-align: middle;\n",
              "    }\n",
              "\n",
              "    .dataframe tbody tr th {\n",
              "        vertical-align: top;\n",
              "    }\n",
              "\n",
              "    .dataframe thead th {\n",
              "        text-align: right;\n",
              "    }\n",
              "</style>\n",
              "<table border=\"1\" class=\"dataframe\">\n",
              "  <thead>\n",
              "    <tr style=\"text-align: right;\">\n",
              "      <th></th>\n",
              "      <th></th>\n",
              "      <th>year2020</th>\n",
              "      <th>year2021</th>\n",
              "      <th>year2022</th>\n",
              "      <th>year2023</th>\n",
              "      <th>year2024</th>\n",
              "    </tr>\n",
              "    <tr>\n",
              "      <th>DEPARTAMENTO</th>\n",
              "      <th>PROVINCIA</th>\n",
              "      <th></th>\n",
              "      <th></th>\n",
              "      <th></th>\n",
              "      <th></th>\n",
              "      <th></th>\n",
              "    </tr>\n",
              "  </thead>\n",
              "  <tbody>\n",
              "    <tr>\n",
              "      <th rowspan=\"5\" valign=\"top\">AMAZONAS</th>\n",
              "      <th>BAGUA</th>\n",
              "      <td>0.967842</td>\n",
              "      <td>0.956657</td>\n",
              "      <td>0.990691</td>\n",
              "      <td>0.987952</td>\n",
              "      <td>1.000000</td>\n",
              "    </tr>\n",
              "    <tr>\n",
              "      <th>BONGARA</th>\n",
              "      <td>0.939614</td>\n",
              "      <td>0.957635</td>\n",
              "      <td>0.995662</td>\n",
              "      <td>1.000000</td>\n",
              "      <td>1.000000</td>\n",
              "    </tr>\n",
              "    <tr>\n",
              "      <th>CHACHAPOYAS</th>\n",
              "      <td>0.972707</td>\n",
              "      <td>0.960643</td>\n",
              "      <td>0.996435</td>\n",
              "      <td>0.980132</td>\n",
              "      <td>0.992701</td>\n",
              "    </tr>\n",
              "    <tr>\n",
              "      <th>CONDORCANQUI</th>\n",
              "      <td>0.977809</td>\n",
              "      <td>0.953287</td>\n",
              "      <td>0.990329</td>\n",
              "      <td>1.000000</td>\n",
              "      <td>0.000000</td>\n",
              "    </tr>\n",
              "    <tr>\n",
              "      <th>LUYA</th>\n",
              "      <td>0.957983</td>\n",
              "      <td>0.945265</td>\n",
              "      <td>0.996190</td>\n",
              "      <td>0.981132</td>\n",
              "      <td>1.000000</td>\n",
              "    </tr>\n",
              "    <tr>\n",
              "      <th>...</th>\n",
              "      <th>...</th>\n",
              "      <td>...</td>\n",
              "      <td>...</td>\n",
              "      <td>...</td>\n",
              "      <td>...</td>\n",
              "      <td>...</td>\n",
              "    </tr>\n",
              "    <tr>\n",
              "      <th>TUMBES</th>\n",
              "      <th>ZARUMILLA</th>\n",
              "      <td>0.923210</td>\n",
              "      <td>0.933218</td>\n",
              "      <td>0.980617</td>\n",
              "      <td>0.925926</td>\n",
              "      <td>1.000000</td>\n",
              "    </tr>\n",
              "    <tr>\n",
              "      <th rowspan=\"4\" valign=\"top\">UCAYALI</th>\n",
              "      <th>ATALAYA</th>\n",
              "      <td>0.916509</td>\n",
              "      <td>0.769784</td>\n",
              "      <td>0.959459</td>\n",
              "      <td>1.000000</td>\n",
              "      <td>0.000000</td>\n",
              "    </tr>\n",
              "    <tr>\n",
              "      <th>CORONEL PORTILLO</th>\n",
              "      <td>0.916057</td>\n",
              "      <td>0.880238</td>\n",
              "      <td>0.989275</td>\n",
              "      <td>0.918455</td>\n",
              "      <td>1.000000</td>\n",
              "    </tr>\n",
              "    <tr>\n",
              "      <th>PADRE ABAD</th>\n",
              "      <td>0.949037</td>\n",
              "      <td>0.929588</td>\n",
              "      <td>0.990338</td>\n",
              "      <td>1.000000</td>\n",
              "      <td>1.000000</td>\n",
              "    </tr>\n",
              "    <tr>\n",
              "      <th>PURUS</th>\n",
              "      <td>0.994334</td>\n",
              "      <td>0.954545</td>\n",
              "      <td>1.000000</td>\n",
              "      <td>1.000000</td>\n",
              "      <td>0.000000</td>\n",
              "    </tr>\n",
              "  </tbody>\n",
              "</table>\n",
              "<p>198 rows × 5 columns</p>\n",
              "</div>"
            ],
            "text/plain": [
              "                               year2020  year2021  year2022  year2023  \\\n",
              "DEPARTAMENTO PROVINCIA                                                  \n",
              "AMAZONAS     BAGUA             0.967842  0.956657  0.990691  0.987952   \n",
              "             BONGARA           0.939614  0.957635  0.995662  1.000000   \n",
              "             CHACHAPOYAS       0.972707  0.960643  0.996435  0.980132   \n",
              "             CONDORCANQUI      0.977809  0.953287  0.990329  1.000000   \n",
              "             LUYA              0.957983  0.945265  0.996190  0.981132   \n",
              "...                                 ...       ...       ...       ...   \n",
              "TUMBES       ZARUMILLA         0.923210  0.933218  0.980617  0.925926   \n",
              "UCAYALI      ATALAYA           0.916509  0.769784  0.959459  1.000000   \n",
              "             CORONEL PORTILLO  0.916057  0.880238  0.989275  0.918455   \n",
              "             PADRE ABAD        0.949037  0.929588  0.990338  1.000000   \n",
              "             PURUS             0.994334  0.954545  1.000000  1.000000   \n",
              "\n",
              "                               year2024  \n",
              "DEPARTAMENTO PROVINCIA                   \n",
              "AMAZONAS     BAGUA             1.000000  \n",
              "             BONGARA           1.000000  \n",
              "             CHACHAPOYAS       0.992701  \n",
              "             CONDORCANQUI      0.000000  \n",
              "             LUYA              1.000000  \n",
              "...                                 ...  \n",
              "TUMBES       ZARUMILLA         1.000000  \n",
              "UCAYALI      ATALAYA           0.000000  \n",
              "             CORONEL PORTILLO  1.000000  \n",
              "             PADRE ABAD        1.000000  \n",
              "             PURUS             0.000000  \n",
              "\n",
              "[198 rows x 5 columns]"
            ]
          },
          "execution_count": 259,
          "metadata": {},
          "output_type": "execute_result"
        }
      ],
      "source": [
        "Covid_provYear_Contagiados_w"
      ]
    },
    {
      "cell_type": "code",
      "execution_count": 260,
      "id": "959b0b0e",
      "metadata": {},
      "outputs": [
        {
          "data": {
            "text/html": [
              "<div>\n",
              "<style scoped>\n",
              "    .dataframe tbody tr th:only-of-type {\n",
              "        vertical-align: middle;\n",
              "    }\n",
              "\n",
              "    .dataframe tbody tr th {\n",
              "        vertical-align: top;\n",
              "    }\n",
              "\n",
              "    .dataframe thead th {\n",
              "        text-align: right;\n",
              "    }\n",
              "</style>\n",
              "<table border=\"1\" class=\"dataframe\">\n",
              "  <thead>\n",
              "    <tr style=\"text-align: right;\">\n",
              "      <th></th>\n",
              "      <th>DEPARTAMENTO</th>\n",
              "      <th>PROVINCIA</th>\n",
              "      <th>year2020</th>\n",
              "      <th>year2021</th>\n",
              "      <th>year2022</th>\n",
              "      <th>year2023</th>\n",
              "      <th>year2024</th>\n",
              "    </tr>\n",
              "  </thead>\n",
              "  <tbody>\n",
              "    <tr>\n",
              "      <th>0</th>\n",
              "      <td>AMAZONAS</td>\n",
              "      <td>BAGUA</td>\n",
              "      <td>0.967842</td>\n",
              "      <td>0.956657</td>\n",
              "      <td>0.990691</td>\n",
              "      <td>0.987952</td>\n",
              "      <td>1.000000</td>\n",
              "    </tr>\n",
              "    <tr>\n",
              "      <th>1</th>\n",
              "      <td>AMAZONAS</td>\n",
              "      <td>BONGARA</td>\n",
              "      <td>0.939614</td>\n",
              "      <td>0.957635</td>\n",
              "      <td>0.995662</td>\n",
              "      <td>1.000000</td>\n",
              "      <td>1.000000</td>\n",
              "    </tr>\n",
              "    <tr>\n",
              "      <th>2</th>\n",
              "      <td>AMAZONAS</td>\n",
              "      <td>CHACHAPOYAS</td>\n",
              "      <td>0.972707</td>\n",
              "      <td>0.960643</td>\n",
              "      <td>0.996435</td>\n",
              "      <td>0.980132</td>\n",
              "      <td>0.992701</td>\n",
              "    </tr>\n",
              "    <tr>\n",
              "      <th>3</th>\n",
              "      <td>AMAZONAS</td>\n",
              "      <td>CONDORCANQUI</td>\n",
              "      <td>0.977809</td>\n",
              "      <td>0.953287</td>\n",
              "      <td>0.990329</td>\n",
              "      <td>1.000000</td>\n",
              "      <td>0.000000</td>\n",
              "    </tr>\n",
              "    <tr>\n",
              "      <th>4</th>\n",
              "      <td>AMAZONAS</td>\n",
              "      <td>LUYA</td>\n",
              "      <td>0.957983</td>\n",
              "      <td>0.945265</td>\n",
              "      <td>0.996190</td>\n",
              "      <td>0.981132</td>\n",
              "      <td>1.000000</td>\n",
              "    </tr>\n",
              "    <tr>\n",
              "      <th>...</th>\n",
              "      <td>...</td>\n",
              "      <td>...</td>\n",
              "      <td>...</td>\n",
              "      <td>...</td>\n",
              "      <td>...</td>\n",
              "      <td>...</td>\n",
              "      <td>...</td>\n",
              "    </tr>\n",
              "    <tr>\n",
              "      <th>193</th>\n",
              "      <td>TUMBES</td>\n",
              "      <td>ZARUMILLA</td>\n",
              "      <td>0.923210</td>\n",
              "      <td>0.933218</td>\n",
              "      <td>0.980617</td>\n",
              "      <td>0.925926</td>\n",
              "      <td>1.000000</td>\n",
              "    </tr>\n",
              "    <tr>\n",
              "      <th>194</th>\n",
              "      <td>UCAYALI</td>\n",
              "      <td>ATALAYA</td>\n",
              "      <td>0.916509</td>\n",
              "      <td>0.769784</td>\n",
              "      <td>0.959459</td>\n",
              "      <td>1.000000</td>\n",
              "      <td>0.000000</td>\n",
              "    </tr>\n",
              "    <tr>\n",
              "      <th>195</th>\n",
              "      <td>UCAYALI</td>\n",
              "      <td>CORONEL PORTILLO</td>\n",
              "      <td>0.916057</td>\n",
              "      <td>0.880238</td>\n",
              "      <td>0.989275</td>\n",
              "      <td>0.918455</td>\n",
              "      <td>1.000000</td>\n",
              "    </tr>\n",
              "    <tr>\n",
              "      <th>196</th>\n",
              "      <td>UCAYALI</td>\n",
              "      <td>PADRE ABAD</td>\n",
              "      <td>0.949037</td>\n",
              "      <td>0.929588</td>\n",
              "      <td>0.990338</td>\n",
              "      <td>1.000000</td>\n",
              "      <td>1.000000</td>\n",
              "    </tr>\n",
              "    <tr>\n",
              "      <th>197</th>\n",
              "      <td>UCAYALI</td>\n",
              "      <td>PURUS</td>\n",
              "      <td>0.994334</td>\n",
              "      <td>0.954545</td>\n",
              "      <td>1.000000</td>\n",
              "      <td>1.000000</td>\n",
              "      <td>0.000000</td>\n",
              "    </tr>\n",
              "  </tbody>\n",
              "</table>\n",
              "<p>198 rows × 7 columns</p>\n",
              "</div>"
            ],
            "text/plain": [
              "    DEPARTAMENTO         PROVINCIA  year2020  year2021  year2022  year2023  \\\n",
              "0       AMAZONAS             BAGUA  0.967842  0.956657  0.990691  0.987952   \n",
              "1       AMAZONAS           BONGARA  0.939614  0.957635  0.995662  1.000000   \n",
              "2       AMAZONAS       CHACHAPOYAS  0.972707  0.960643  0.996435  0.980132   \n",
              "3       AMAZONAS      CONDORCANQUI  0.977809  0.953287  0.990329  1.000000   \n",
              "4       AMAZONAS              LUYA  0.957983  0.945265  0.996190  0.981132   \n",
              "..           ...               ...       ...       ...       ...       ...   \n",
              "193       TUMBES         ZARUMILLA  0.923210  0.933218  0.980617  0.925926   \n",
              "194      UCAYALI           ATALAYA  0.916509  0.769784  0.959459  1.000000   \n",
              "195      UCAYALI  CORONEL PORTILLO  0.916057  0.880238  0.989275  0.918455   \n",
              "196      UCAYALI        PADRE ABAD  0.949037  0.929588  0.990338  1.000000   \n",
              "197      UCAYALI             PURUS  0.994334  0.954545  1.000000  1.000000   \n",
              "\n",
              "     year2024  \n",
              "0    1.000000  \n",
              "1    1.000000  \n",
              "2    0.992701  \n",
              "3    0.000000  \n",
              "4    1.000000  \n",
              "..        ...  \n",
              "193  1.000000  \n",
              "194  0.000000  \n",
              "195  1.000000  \n",
              "196  1.000000  \n",
              "197  0.000000  \n",
              "\n",
              "[198 rows x 7 columns]"
            ]
          },
          "execution_count": 260,
          "metadata": {},
          "output_type": "execute_result"
        }
      ],
      "source": [
        "Covid_provYear_Contagiados_w.reset_index(inplace=True)\n",
        "Covid_provYear_Contagiados_w"
      ]
    },
    {
      "cell_type": "markdown",
      "id": "75d02ac9",
      "metadata": {
        "id": "75d02ac9"
      },
      "source": [
        "Let's call a map:"
      ]
    },
    {
      "cell_type": "code",
      "execution_count": 261,
      "id": "cba44f1e-7ba4-41be-aa74-8300c6d5ded0",
      "metadata": {
        "id": "cba44f1e-7ba4-41be-aa74-8300c6d5ded0",
        "outputId": "ad8d1fa5-5422-4de9-f98c-4d6439138cb2"
      },
      "outputs": [
        {
          "name": "stdout",
          "output_type": "stream",
          "text": [
            "<class 'geopandas.geodataframe.GeoDataFrame'>\n",
            "RangeIndex: 196 entries, 0 to 195\n",
            "Data columns (total 6 columns):\n",
            " #   Column      Non-Null Count  Dtype   \n",
            "---  ------      --------------  -----   \n",
            " 0   OBJECTID    196 non-null    float64 \n",
            " 1   CCDD        196 non-null    object  \n",
            " 2   CCPP        196 non-null    object  \n",
            " 3   DEPARTAMEN  196 non-null    object  \n",
            " 4   PROVINCIA   196 non-null    object  \n",
            " 5   geometry    196 non-null    geometry\n",
            "dtypes: float64(1), geometry(1), object(4)\n",
            "memory usage: 9.3+ KB\n"
          ]
        }
      ],
      "source": [
        "mapLink='https://github.com/SocialAnalytics-StrategicIntelligence/GeoDF_Analytics/raw/main/maps/ProvsINEI2023.zip'\n",
        "\n",
        "import geopandas as gpd\n",
        "\n",
        "provmap=gpd.read_file(mapLink)\n",
        "\n",
        "provmap.info()"
      ]
    },
    {
      "cell_type": "markdown",
      "id": "dd64a4c7",
      "metadata": {
        "id": "dd64a4c7"
      },
      "source": [
        "Let me create a column, concatenating two:"
      ]
    },
    {
      "cell_type": "code",
      "execution_count": 262,
      "id": "e394243f-9e5c-4cae-a899-c593da1736dd",
      "metadata": {
        "id": "e394243f-9e5c-4cae-a899-c593da1736dd",
        "outputId": "79f97028-0f3b-4ef1-c137-b0a2932e1812"
      },
      "outputs": [
        {
          "data": {
            "text/html": [
              "<div>\n",
              "<style scoped>\n",
              "    .dataframe tbody tr th:only-of-type {\n",
              "        vertical-align: middle;\n",
              "    }\n",
              "\n",
              "    .dataframe tbody tr th {\n",
              "        vertical-align: top;\n",
              "    }\n",
              "\n",
              "    .dataframe thead th {\n",
              "        text-align: right;\n",
              "    }\n",
              "</style>\n",
              "<table border=\"1\" class=\"dataframe\">\n",
              "  <thead>\n",
              "    <tr style=\"text-align: right;\">\n",
              "      <th></th>\n",
              "      <th>OBJECTID</th>\n",
              "      <th>CCDD</th>\n",
              "      <th>CCPP</th>\n",
              "      <th>DEPARTAMEN</th>\n",
              "      <th>PROVINCIA</th>\n",
              "      <th>geometry</th>\n",
              "      <th>location</th>\n",
              "    </tr>\n",
              "  </thead>\n",
              "  <tbody>\n",
              "    <tr>\n",
              "      <th>0</th>\n",
              "      <td>1.0</td>\n",
              "      <td>01</td>\n",
              "      <td>01</td>\n",
              "      <td>AMAZONAS</td>\n",
              "      <td>CHACHAPOYAS</td>\n",
              "      <td>POLYGON ((-77.72614 -5.94354, -77.72486 -5.943...</td>\n",
              "      <td>AMAZONAS+CHACHAPOYAS</td>\n",
              "    </tr>\n",
              "    <tr>\n",
              "      <th>1</th>\n",
              "      <td>2.0</td>\n",
              "      <td>01</td>\n",
              "      <td>02</td>\n",
              "      <td>AMAZONAS</td>\n",
              "      <td>BAGUA</td>\n",
              "      <td>POLYGON ((-78.61909 -4.51001, -78.61802 -4.510...</td>\n",
              "      <td>AMAZONAS+BAGUA</td>\n",
              "    </tr>\n",
              "    <tr>\n",
              "      <th>2</th>\n",
              "      <td>3.0</td>\n",
              "      <td>01</td>\n",
              "      <td>03</td>\n",
              "      <td>AMAZONAS</td>\n",
              "      <td>BONGARA</td>\n",
              "      <td>POLYGON ((-77.72759 -5.1403, -77.72361 -5.1406...</td>\n",
              "      <td>AMAZONAS+BONGARA</td>\n",
              "    </tr>\n",
              "    <tr>\n",
              "      <th>3</th>\n",
              "      <td>4.0</td>\n",
              "      <td>01</td>\n",
              "      <td>04</td>\n",
              "      <td>AMAZONAS</td>\n",
              "      <td>CONDORCANQUI</td>\n",
              "      <td>POLYGON ((-77.81399 -2.99278, -77.81483 -2.995...</td>\n",
              "      <td>AMAZONAS+CONDORCANQUI</td>\n",
              "    </tr>\n",
              "    <tr>\n",
              "      <th>4</th>\n",
              "      <td>5.0</td>\n",
              "      <td>01</td>\n",
              "      <td>05</td>\n",
              "      <td>AMAZONAS</td>\n",
              "      <td>LUYA</td>\n",
              "      <td>POLYGON ((-78.13023 -5.9037, -78.13011 -5.9041...</td>\n",
              "      <td>AMAZONAS+LUYA</td>\n",
              "    </tr>\n",
              "    <tr>\n",
              "      <th>5</th>\n",
              "      <td>6.0</td>\n",
              "      <td>01</td>\n",
              "      <td>06</td>\n",
              "      <td>AMAZONAS</td>\n",
              "      <td>RODRIGUEZ DE MENDOZA</td>\n",
              "      <td>POLYGON ((-77.44452 -6.05002, -77.44387 -6.050...</td>\n",
              "      <td>AMAZONAS+RODRIGUEZ DE MENDOZA</td>\n",
              "    </tr>\n",
              "    <tr>\n",
              "      <th>6</th>\n",
              "      <td>7.0</td>\n",
              "      <td>01</td>\n",
              "      <td>07</td>\n",
              "      <td>AMAZONAS</td>\n",
              "      <td>UTCUBAMBA</td>\n",
              "      <td>POLYGON ((-78.09288 -5.36258, -78.09288 -5.364...</td>\n",
              "      <td>AMAZONAS+UTCUBAMBA</td>\n",
              "    </tr>\n",
              "    <tr>\n",
              "      <th>7</th>\n",
              "      <td>8.0</td>\n",
              "      <td>02</td>\n",
              "      <td>01</td>\n",
              "      <td>ANCASH</td>\n",
              "      <td>HUARAZ</td>\n",
              "      <td>POLYGON ((-77.3987 -9.35563, -77.39852 -9.3560...</td>\n",
              "      <td>ANCASH+HUARAZ</td>\n",
              "    </tr>\n",
              "    <tr>\n",
              "      <th>8</th>\n",
              "      <td>9.0</td>\n",
              "      <td>02</td>\n",
              "      <td>02</td>\n",
              "      <td>ANCASH</td>\n",
              "      <td>AIJA</td>\n",
              "      <td>POLYGON ((-77.61368 -9.649, -77.61241 -9.64975...</td>\n",
              "      <td>ANCASH+AIJA</td>\n",
              "    </tr>\n",
              "    <tr>\n",
              "      <th>9</th>\n",
              "      <td>10.0</td>\n",
              "      <td>02</td>\n",
              "      <td>03</td>\n",
              "      <td>ANCASH</td>\n",
              "      <td>ANTONIO RAYMONDI</td>\n",
              "      <td>POLYGON ((-77.08856 -8.97496, -77.08804 -8.975...</td>\n",
              "      <td>ANCASH+ANTONIO RAYMONDI</td>\n",
              "    </tr>\n",
              "  </tbody>\n",
              "</table>\n",
              "</div>"
            ],
            "text/plain": [
              "   OBJECTID CCDD CCPP DEPARTAMEN             PROVINCIA  \\\n",
              "0       1.0   01   01   AMAZONAS           CHACHAPOYAS   \n",
              "1       2.0   01   02   AMAZONAS                 BAGUA   \n",
              "2       3.0   01   03   AMAZONAS               BONGARA   \n",
              "3       4.0   01   04   AMAZONAS          CONDORCANQUI   \n",
              "4       5.0   01   05   AMAZONAS                  LUYA   \n",
              "5       6.0   01   06   AMAZONAS  RODRIGUEZ DE MENDOZA   \n",
              "6       7.0   01   07   AMAZONAS             UTCUBAMBA   \n",
              "7       8.0   02   01     ANCASH                HUARAZ   \n",
              "8       9.0   02   02     ANCASH                  AIJA   \n",
              "9      10.0   02   03     ANCASH      ANTONIO RAYMONDI   \n",
              "\n",
              "                                            geometry  \\\n",
              "0  POLYGON ((-77.72614 -5.94354, -77.72486 -5.943...   \n",
              "1  POLYGON ((-78.61909 -4.51001, -78.61802 -4.510...   \n",
              "2  POLYGON ((-77.72759 -5.1403, -77.72361 -5.1406...   \n",
              "3  POLYGON ((-77.81399 -2.99278, -77.81483 -2.995...   \n",
              "4  POLYGON ((-78.13023 -5.9037, -78.13011 -5.9041...   \n",
              "5  POLYGON ((-77.44452 -6.05002, -77.44387 -6.050...   \n",
              "6  POLYGON ((-78.09288 -5.36258, -78.09288 -5.364...   \n",
              "7  POLYGON ((-77.3987 -9.35563, -77.39852 -9.3560...   \n",
              "8  POLYGON ((-77.61368 -9.649, -77.61241 -9.64975...   \n",
              "9  POLYGON ((-77.08856 -8.97496, -77.08804 -8.975...   \n",
              "\n",
              "                        location  \n",
              "0           AMAZONAS+CHACHAPOYAS  \n",
              "1                 AMAZONAS+BAGUA  \n",
              "2               AMAZONAS+BONGARA  \n",
              "3          AMAZONAS+CONDORCANQUI  \n",
              "4                  AMAZONAS+LUYA  \n",
              "5  AMAZONAS+RODRIGUEZ DE MENDOZA  \n",
              "6             AMAZONAS+UTCUBAMBA  \n",
              "7                  ANCASH+HUARAZ  \n",
              "8                    ANCASH+AIJA  \n",
              "9        ANCASH+ANTONIO RAYMONDI  "
            ]
          },
          "execution_count": 262,
          "metadata": {},
          "output_type": "execute_result"
        }
      ],
      "source": [
        "provmap['location']=['+'.join(x[0]) for x in zip(provmap.iloc[:,3:5].values)]\n",
        "provmap.head(10)"
      ]
    },
    {
      "cell_type": "markdown",
      "id": "38f12dc4",
      "metadata": {
        "id": "38f12dc4"
      },
      "source": [
        "I will do the same with the data frame:"
      ]
    },
    {
      "cell_type": "code",
      "execution_count": 263,
      "id": "022746a0-e0a9-42ba-949f-3e5269d503ea",
      "metadata": {
        "id": "022746a0-e0a9-42ba-949f-3e5269d503ea",
        "outputId": "b912b8ee-28e4-4bc7-d140-a91f62e0d3d1"
      },
      "outputs": [
        {
          "data": {
            "text/html": [
              "<div>\n",
              "<style scoped>\n",
              "    .dataframe tbody tr th:only-of-type {\n",
              "        vertical-align: middle;\n",
              "    }\n",
              "\n",
              "    .dataframe tbody tr th {\n",
              "        vertical-align: top;\n",
              "    }\n",
              "\n",
              "    .dataframe thead th {\n",
              "        text-align: right;\n",
              "    }\n",
              "</style>\n",
              "<table border=\"1\" class=\"dataframe\">\n",
              "  <thead>\n",
              "    <tr style=\"text-align: right;\">\n",
              "      <th></th>\n",
              "      <th>DEPARTAMENTO</th>\n",
              "      <th>PROVINCIA</th>\n",
              "      <th>year2020</th>\n",
              "      <th>year2021</th>\n",
              "      <th>year2022</th>\n",
              "      <th>year2023</th>\n",
              "      <th>year2024</th>\n",
              "      <th>location</th>\n",
              "    </tr>\n",
              "  </thead>\n",
              "  <tbody>\n",
              "    <tr>\n",
              "      <th>0</th>\n",
              "      <td>AMAZONAS</td>\n",
              "      <td>BAGUA</td>\n",
              "      <td>0.032158</td>\n",
              "      <td>0.043343</td>\n",
              "      <td>0.009309</td>\n",
              "      <td>0.012048</td>\n",
              "      <td>0.000000</td>\n",
              "      <td>AMAZONAS+BAGUA</td>\n",
              "    </tr>\n",
              "    <tr>\n",
              "      <th>1</th>\n",
              "      <td>AMAZONAS</td>\n",
              "      <td>BONGARA</td>\n",
              "      <td>0.060386</td>\n",
              "      <td>0.042365</td>\n",
              "      <td>0.004338</td>\n",
              "      <td>0.000000</td>\n",
              "      <td>0.000000</td>\n",
              "      <td>AMAZONAS+BONGARA</td>\n",
              "    </tr>\n",
              "    <tr>\n",
              "      <th>2</th>\n",
              "      <td>AMAZONAS</td>\n",
              "      <td>CHACHAPOYAS</td>\n",
              "      <td>0.027293</td>\n",
              "      <td>0.039357</td>\n",
              "      <td>0.003565</td>\n",
              "      <td>0.019868</td>\n",
              "      <td>0.007299</td>\n",
              "      <td>AMAZONAS+CHACHAPOYAS</td>\n",
              "    </tr>\n",
              "    <tr>\n",
              "      <th>3</th>\n",
              "      <td>AMAZONAS</td>\n",
              "      <td>CONDORCANQUI</td>\n",
              "      <td>0.022191</td>\n",
              "      <td>0.046713</td>\n",
              "      <td>0.009671</td>\n",
              "      <td>0.000000</td>\n",
              "      <td>0.000000</td>\n",
              "      <td>AMAZONAS+CONDORCANQUI</td>\n",
              "    </tr>\n",
              "    <tr>\n",
              "      <th>4</th>\n",
              "      <td>AMAZONAS</td>\n",
              "      <td>LUYA</td>\n",
              "      <td>0.042017</td>\n",
              "      <td>0.054735</td>\n",
              "      <td>0.003810</td>\n",
              "      <td>0.018868</td>\n",
              "      <td>0.000000</td>\n",
              "      <td>AMAZONAS+LUYA</td>\n",
              "    </tr>\n",
              "  </tbody>\n",
              "</table>\n",
              "</div>"
            ],
            "text/plain": [
              "  DEPARTAMENTO     PROVINCIA  year2020  year2021  year2022  year2023  \\\n",
              "0     AMAZONAS         BAGUA  0.032158  0.043343  0.009309  0.012048   \n",
              "1     AMAZONAS       BONGARA  0.060386  0.042365  0.004338  0.000000   \n",
              "2     AMAZONAS   CHACHAPOYAS  0.027293  0.039357  0.003565  0.019868   \n",
              "3     AMAZONAS  CONDORCANQUI  0.022191  0.046713  0.009671  0.000000   \n",
              "4     AMAZONAS          LUYA  0.042017  0.054735  0.003810  0.018868   \n",
              "\n",
              "   year2024               location  \n",
              "0  0.000000         AMAZONAS+BAGUA  \n",
              "1  0.000000       AMAZONAS+BONGARA  \n",
              "2  0.007299   AMAZONAS+CHACHAPOYAS  \n",
              "3  0.000000  AMAZONAS+CONDORCANQUI  \n",
              "4  0.000000          AMAZONAS+LUYA  "
            ]
          },
          "execution_count": 263,
          "metadata": {},
          "output_type": "execute_result"
        }
      ],
      "source": [
        "Covid_provYear_Fallecido_w['location']=['+'.join(x[0]) for x in zip(Covid_provYear_Fallecido_w.iloc[:,:2].values)]\n",
        "Covid_provYear_Fallecido_w.head()"
      ]
    },
    {
      "cell_type": "code",
      "execution_count": 264,
      "id": "3a4a8c76",
      "metadata": {},
      "outputs": [
        {
          "data": {
            "text/html": [
              "<div>\n",
              "<style scoped>\n",
              "    .dataframe tbody tr th:only-of-type {\n",
              "        vertical-align: middle;\n",
              "    }\n",
              "\n",
              "    .dataframe tbody tr th {\n",
              "        vertical-align: top;\n",
              "    }\n",
              "\n",
              "    .dataframe thead th {\n",
              "        text-align: right;\n",
              "    }\n",
              "</style>\n",
              "<table border=\"1\" class=\"dataframe\">\n",
              "  <thead>\n",
              "    <tr style=\"text-align: right;\">\n",
              "      <th></th>\n",
              "      <th>DEPARTAMENTO</th>\n",
              "      <th>PROVINCIA</th>\n",
              "      <th>year2020</th>\n",
              "      <th>year2021</th>\n",
              "      <th>year2022</th>\n",
              "      <th>year2023</th>\n",
              "      <th>year2024</th>\n",
              "      <th>location</th>\n",
              "    </tr>\n",
              "  </thead>\n",
              "  <tbody>\n",
              "    <tr>\n",
              "      <th>0</th>\n",
              "      <td>AMAZONAS</td>\n",
              "      <td>BAGUA</td>\n",
              "      <td>0.967842</td>\n",
              "      <td>0.956657</td>\n",
              "      <td>0.990691</td>\n",
              "      <td>0.987952</td>\n",
              "      <td>1.000000</td>\n",
              "      <td>AMAZONAS+BAGUA</td>\n",
              "    </tr>\n",
              "    <tr>\n",
              "      <th>1</th>\n",
              "      <td>AMAZONAS</td>\n",
              "      <td>BONGARA</td>\n",
              "      <td>0.939614</td>\n",
              "      <td>0.957635</td>\n",
              "      <td>0.995662</td>\n",
              "      <td>1.000000</td>\n",
              "      <td>1.000000</td>\n",
              "      <td>AMAZONAS+BONGARA</td>\n",
              "    </tr>\n",
              "    <tr>\n",
              "      <th>2</th>\n",
              "      <td>AMAZONAS</td>\n",
              "      <td>CHACHAPOYAS</td>\n",
              "      <td>0.972707</td>\n",
              "      <td>0.960643</td>\n",
              "      <td>0.996435</td>\n",
              "      <td>0.980132</td>\n",
              "      <td>0.992701</td>\n",
              "      <td>AMAZONAS+CHACHAPOYAS</td>\n",
              "    </tr>\n",
              "    <tr>\n",
              "      <th>3</th>\n",
              "      <td>AMAZONAS</td>\n",
              "      <td>CONDORCANQUI</td>\n",
              "      <td>0.977809</td>\n",
              "      <td>0.953287</td>\n",
              "      <td>0.990329</td>\n",
              "      <td>1.000000</td>\n",
              "      <td>0.000000</td>\n",
              "      <td>AMAZONAS+CONDORCANQUI</td>\n",
              "    </tr>\n",
              "    <tr>\n",
              "      <th>4</th>\n",
              "      <td>AMAZONAS</td>\n",
              "      <td>LUYA</td>\n",
              "      <td>0.957983</td>\n",
              "      <td>0.945265</td>\n",
              "      <td>0.996190</td>\n",
              "      <td>0.981132</td>\n",
              "      <td>1.000000</td>\n",
              "      <td>AMAZONAS+LUYA</td>\n",
              "    </tr>\n",
              "  </tbody>\n",
              "</table>\n",
              "</div>"
            ],
            "text/plain": [
              "  DEPARTAMENTO     PROVINCIA  year2020  year2021  year2022  year2023  \\\n",
              "0     AMAZONAS         BAGUA  0.967842  0.956657  0.990691  0.987952   \n",
              "1     AMAZONAS       BONGARA  0.939614  0.957635  0.995662  1.000000   \n",
              "2     AMAZONAS   CHACHAPOYAS  0.972707  0.960643  0.996435  0.980132   \n",
              "3     AMAZONAS  CONDORCANQUI  0.977809  0.953287  0.990329  1.000000   \n",
              "4     AMAZONAS          LUYA  0.957983  0.945265  0.996190  0.981132   \n",
              "\n",
              "   year2024               location  \n",
              "0  1.000000         AMAZONAS+BAGUA  \n",
              "1  1.000000       AMAZONAS+BONGARA  \n",
              "2  0.992701   AMAZONAS+CHACHAPOYAS  \n",
              "3  0.000000  AMAZONAS+CONDORCANQUI  \n",
              "4  1.000000          AMAZONAS+LUYA  "
            ]
          },
          "execution_count": 264,
          "metadata": {},
          "output_type": "execute_result"
        }
      ],
      "source": [
        "Covid_provYear_Contagiados_w['location']=['+'.join(x[0]) for x in zip(Covid_provYear_Contagiados_w.iloc[:,:2].values)]\n",
        "Covid_provYear_Contagiados_w.head()"
      ]
    },
    {
      "cell_type": "markdown",
      "id": "a1294312",
      "metadata": {
        "id": "a1294312"
      },
      "source": [
        "## Preprocessing\n",
        "\n"
      ]
    },
    {
      "cell_type": "markdown",
      "id": "9f85ce45",
      "metadata": {
        "id": "9f85ce45"
      },
      "source": [
        "The names from non-english speaking countries may come with some symbols that may cause trouble (', ~). Let's get rid of those:"
      ]
    },
    {
      "cell_type": "code",
      "execution_count": 265,
      "id": "16981570",
      "metadata": {
        "id": "16981570",
        "outputId": "db524334-0135-4904-d66c-83e00b96e3bd"
      },
      "outputs": [],
      "source": [
        "#!pip install unidecode\n",
        "import unidecode\n",
        "\n",
        "\n",
        "byePunctuation=lambda x: unidecode.unidecode(x)\n",
        "Covid_provYear_Fallecido_w['location']=Covid_provYear_Fallecido_w['location'].apply(byePunctuation)\n",
        "provmap['location']=provmap['location'].apply(byePunctuation)"
      ]
    },
    {
      "cell_type": "markdown",
      "id": "45a93252",
      "metadata": {
        "id": "45a93252"
      },
      "source": [
        "It would be good making sure no *ghost* appears between words:"
      ]
    },
    {
      "cell_type": "code",
      "execution_count": 266,
      "id": "47cdc538",
      "metadata": {
        "id": "47cdc538"
      },
      "outputs": [
        {
          "name": "stderr",
          "output_type": "stream",
          "text": [
            "<>:2: SyntaxWarning: invalid escape sequence '\\-'\n",
            "<>:3: SyntaxWarning: invalid escape sequence '\\-'\n",
            "<>:2: SyntaxWarning: invalid escape sequence '\\-'\n",
            "<>:3: SyntaxWarning: invalid escape sequence '\\-'\n",
            "C:\\Users\\maria\\AppData\\Local\\Temp\\ipykernel_21972\\1316211407.py:2: SyntaxWarning: invalid escape sequence '\\-'\n",
            "  Covid_provYear_Fallecido_w['location']=Covid_provYear_Fallecido_w.location.str.replace(\"\\-|\\_|\\s+\",\"\",regex=True)\n",
            "C:\\Users\\maria\\AppData\\Local\\Temp\\ipykernel_21972\\1316211407.py:3: SyntaxWarning: invalid escape sequence '\\-'\n",
            "  provmap['location']=provmap.location.str.replace(\"\\-|\\_|\\s+\",\"\",regex=True)\n"
          ]
        }
      ],
      "source": [
        "# replacing dashes and multiple spaces by a simple space\n",
        "Covid_provYear_Fallecido_w['location']=Covid_provYear_Fallecido_w.location.str.replace(\"\\-|\\_|\\s+\",\"\",regex=True)\n",
        "provmap['location']=provmap.location.str.replace(\"\\-|\\_|\\s+\",\"\",regex=True)"
      ]
    },
    {
      "cell_type": "markdown",
      "id": "9162291f",
      "metadata": {},
      "source": [
        "## contagiados"
      ]
    },
    {
      "cell_type": "code",
      "execution_count": 267,
      "id": "6503b7ca",
      "metadata": {},
      "outputs": [],
      "source": [
        "#!pip install unidecode\n",
        "import unidecode\n",
        "\n",
        "\n",
        "byePunctuation=lambda x: unidecode.unidecode(x)\n",
        "Covid_provYear_Contagiados_w['location']=Covid_provYear_Contagiados_w['location'].apply(byePunctuation)\n",
        "provmap['location']=provmap['location'].apply(byePunctuation)"
      ]
    },
    {
      "cell_type": "code",
      "execution_count": 268,
      "id": "2c7b9f2c",
      "metadata": {},
      "outputs": [
        {
          "name": "stderr",
          "output_type": "stream",
          "text": [
            "<>:2: SyntaxWarning: invalid escape sequence '\\-'\n",
            "<>:3: SyntaxWarning: invalid escape sequence '\\-'\n",
            "<>:2: SyntaxWarning: invalid escape sequence '\\-'\n",
            "<>:3: SyntaxWarning: invalid escape sequence '\\-'\n",
            "C:\\Users\\maria\\AppData\\Local\\Temp\\ipykernel_21972\\1579885440.py:2: SyntaxWarning: invalid escape sequence '\\-'\n",
            "  Covid_provYear_Contagiados_w['location']=Covid_provYear_Contagiados_w.location.str.replace(\"\\-|\\_|\\s+\",\"\",regex=True)\n",
            "C:\\Users\\maria\\AppData\\Local\\Temp\\ipykernel_21972\\1579885440.py:3: SyntaxWarning: invalid escape sequence '\\-'\n",
            "  provmap['location']=provmap.location.str.replace(\"\\-|\\_|\\s+\",\"\",regex=True)\n"
          ]
        }
      ],
      "source": [
        "# replacing dashes and multiple spaces by a simple space\n",
        "Covid_provYear_Contagiados_w['location']=Covid_provYear_Contagiados_w.location.str.replace(\"\\-|\\_|\\s+\",\"\",regex=True)\n",
        "provmap['location']=provmap.location.str.replace(\"\\-|\\_|\\s+\",\"\",regex=True)"
      ]
    },
    {
      "cell_type": "markdown",
      "id": "5406417d",
      "metadata": {
        "id": "5406417d"
      },
      "source": [
        "## Merging\n",
        "\n",
        "We need to merge both tables now. That can happen effectively if both tables have a **key** column: a column (or collection of them) whose values in one table are the same in the other one.\n",
        "\n",
        "The match need not be exact, but only common values in the *key* are merged.\n",
        "\n",
        "Let's find out what is NOT matched in each table:"
      ]
    },
    {
      "cell_type": "code",
      "execution_count": 269,
      "id": "793335e5",
      "metadata": {
        "id": "793335e5"
      },
      "outputs": [],
      "source": [
        "nomatch_df=set(Covid_provYear_Fallecido_w.location)- set(provmap.location)\n",
        "nomatch_gdf=set(provmap.location)-set(Covid_provYear_Fallecido_w.location)"
      ]
    },
    {
      "cell_type": "markdown",
      "id": "a849b640",
      "metadata": {
        "id": "a849b640"
      },
      "source": [
        "This is what could not be matched:"
      ]
    },
    {
      "cell_type": "code",
      "execution_count": 270,
      "id": "ada23390",
      "metadata": {
        "id": "ada23390"
      },
      "outputs": [
        {
          "data": {
            "text/plain": [
              "(4, 2)"
            ]
          },
          "execution_count": 270,
          "metadata": {},
          "output_type": "execute_result"
        }
      ],
      "source": [
        "len(nomatch_df), len(nomatch_gdf)"
      ]
    },
    {
      "cell_type": "markdown",
      "id": "261c4a60",
      "metadata": {
        "id": "261c4a60"
      },
      "source": [
        "The right way to go is using **fuzzy merging** (remember we need  _the fuzz_):"
      ]
    },
    {
      "cell_type": "code",
      "execution_count": null,
      "id": "2f5ceb9d",
      "metadata": {},
      "outputs": [],
      "source": []
    },
    {
      "cell_type": "code",
      "execution_count": 271,
      "id": "d761c590",
      "metadata": {
        "id": "d761c590"
      },
      "outputs": [
        {
          "data": {
            "text/plain": [
              "[('ANCASH+ANTONIORAIMONDI', ('ANCASH+ANTONIORAYMONDI', 95)),\n",
              " ('ICA+NAZCA', ('ICA+NASCA', 89)),\n",
              " ('LIMAMETROPOLITANA+CANETE', ('ICA+NASCA', 60)),\n",
              " ('LIMAMETROPOLITANA+LIMA', ('ICA+NASCA', 49))]"
            ]
          },
          "execution_count": 271,
          "metadata": {},
          "output_type": "execute_result"
        }
      ],
      "source": [
        "#!pip install thefuzz\n",
        "# pick the closest match from nomatch_gdf for a value in nomatch_df\n",
        "from thefuzz import process\n",
        "[(dis,process.extractOne(dis,nomatch_gdf)) for dis in sorted(nomatch_df)]"
      ]
    },
    {
      "cell_type": "code",
      "execution_count": 272,
      "id": "107bb694",
      "metadata": {},
      "outputs": [
        {
          "name": "stdout",
          "output_type": "stream",
          "text": [
            "Diccionario de cambios: {'ANCASH+ANTONIORAIMONDI': 'ANCASH+ANTONIORAYMONDI', 'ICA+NAZCA': 'ICA+NASCA', 'LIMAMETROPOLITANA+CANETE': 'ICA+NASCA', 'LIMAMETROPOLITANA+LIMA': 'ICA+NASCA'}\n"
          ]
        }
      ],
      "source": [
        "from thefuzz import process\n",
        "\n",
        "# Crear un diccionario con las coincidencias más cercanas entre nomatch_df y nomatch_gdf\n",
        "changesinDF = {dis: process.extractOne(dis, nomatch_gdf)[0] for dis in sorted(nomatch_df)}\n",
        "\n",
        "# Mostrar el diccionario de cambios para asegurarse que está correcto\n",
        "print(\"Diccionario de cambios:\", changesinDF)\n",
        "\n"
      ]
    },
    {
      "cell_type": "code",
      "execution_count": 273,
      "id": "cf35d324",
      "metadata": {},
      "outputs": [
        {
          "name": "stdout",
          "output_type": "stream",
          "text": [
            "['AMAZONAS+BAGUA' 'AMAZONAS+BONGARA' 'AMAZONAS+CHACHAPOYAS'\n",
            " 'AMAZONAS+CONDORCANQUI' 'AMAZONAS+LUYA' 'AMAZONAS+RODRIGUEZDEMENDOZA'\n",
            " 'AMAZONAS+UTCUBAMBA' 'ANCASH+AIJA' 'ANCASH+ANTONIORAYMONDI'\n",
            " 'ANCASH+ASUNCION' 'ANCASH+BOLOGNESI' 'ANCASH+CARHUAZ'\n",
            " 'ANCASH+CARLOSFERMINFITZCARRALD' 'ANCASH+CASMA' 'ANCASH+CORONGO'\n",
            " 'ANCASH+HUARAZ' 'ANCASH+HUARI' 'ANCASH+HUARMEY' 'ANCASH+HUAYLAS'\n",
            " 'ANCASH+MARISCALLUZURIAGA' 'ANCASH+OCROS' 'ANCASH+PALLASCA'\n",
            " 'ANCASH+POMABAMBA' 'ANCASH+RECUAY' 'ANCASH+SANTA' 'ANCASH+SIHUAS'\n",
            " 'ANCASH+YUNGAY' 'APURIMAC+ABANCAY' 'APURIMAC+ANDAHUAYLAS'\n",
            " 'APURIMAC+ANTABAMBA' 'APURIMAC+AYMARAES' 'APURIMAC+CHINCHEROS'\n",
            " 'APURIMAC+COTABAMBAS' 'APURIMAC+GRAU' 'AREQUIPA+AREQUIPA'\n",
            " 'AREQUIPA+CAMANA' 'AREQUIPA+CARAVELI' 'AREQUIPA+CASTILLA'\n",
            " 'AREQUIPA+CAYLLOMA' 'AREQUIPA+CONDESUYOS' 'AREQUIPA+ISLAY'\n",
            " 'AREQUIPA+LAUNION' 'AYACUCHO+CANGALLO' 'AYACUCHO+HUAMANGA'\n",
            " 'AYACUCHO+HUANCASANCOS' 'AYACUCHO+HUANTA' 'AYACUCHO+LAMAR'\n",
            " 'AYACUCHO+LUCANAS' 'AYACUCHO+PARINACOCHAS' 'AYACUCHO+PAUCARDELSARASARA'\n",
            " 'AYACUCHO+SUCRE' 'AYACUCHO+VICTORFAJARDO' 'AYACUCHO+VILCASHUAMAN'\n",
            " 'CAJAMARCA+CAJABAMBA' 'CAJAMARCA+CAJAMARCA' 'CAJAMARCA+CELENDIN'\n",
            " 'CAJAMARCA+CHOTA' 'CAJAMARCA+CONTUMAZA' 'CAJAMARCA+CUTERVO'\n",
            " 'CAJAMARCA+HUALGAYOC' 'CAJAMARCA+JAEN' 'CAJAMARCA+SANIGNACIO'\n",
            " 'CAJAMARCA+SANMARCOS' 'CAJAMARCA+SANMIGUEL' 'CAJAMARCA+SANPABLO'\n",
            " 'CAJAMARCA+SANTACRUZ' 'CALLAO+CALLAO' 'CUSCO+ACOMAYO' 'CUSCO+ANTA'\n",
            " 'CUSCO+CALCA' 'CUSCO+CANAS' 'CUSCO+CANCHIS' 'CUSCO+CHUMBIVILCAS'\n",
            " 'CUSCO+CUSCO' 'CUSCO+ESPINAR' 'CUSCO+LACONVENCION' 'CUSCO+PARURO'\n",
            " 'CUSCO+PAUCARTAMBO' 'CUSCO+QUISPICANCHI' 'CUSCO+URUBAMBA'\n",
            " 'HUANCAVELICA+ACOBAMBA' 'HUANCAVELICA+ANGARAES'\n",
            " 'HUANCAVELICA+CASTROVIRREYNA' 'HUANCAVELICA+CHURCAMPA'\n",
            " 'HUANCAVELICA+HUANCAVELICA' 'HUANCAVELICA+HUAYTARA'\n",
            " 'HUANCAVELICA+TAYACAJA' 'HUANUCO+AMBO' 'HUANUCO+DOSDEMAYO'\n",
            " 'HUANUCO+HUACAYBAMBA' 'HUANUCO+HUAMALIES' 'HUANUCO+HUANUCO'\n",
            " 'HUANUCO+LAURICOCHA' 'HUANUCO+LEONCIOPRADO' 'HUANUCO+MARANON'\n",
            " 'HUANUCO+PACHITEA' 'HUANUCO+PUERTOINCA' 'HUANUCO+YAROWILCA' 'ICA+CHINCHA'\n",
            " 'ICA+ICA' 'ICA+NASCA' 'ICA+PALPA' 'ICA+PISCO' 'JUNIN+CHANCHAMAYO'\n",
            " 'JUNIN+CHUPACA' 'JUNIN+CONCEPCION' 'JUNIN+HUANCAYO' 'JUNIN+JAUJA'\n",
            " 'JUNIN+JUNIN' 'JUNIN+SATIPO' 'JUNIN+TARMA' 'JUNIN+YAULI'\n",
            " 'LALIBERTAD+ASCOPE' 'LALIBERTAD+BOLIVAR' 'LALIBERTAD+CHEPEN'\n",
            " 'LALIBERTAD+GRANCHIMU' 'LALIBERTAD+JULCAN' 'LALIBERTAD+OTUZCO'\n",
            " 'LALIBERTAD+PACASMAYO' 'LALIBERTAD+PATAZ' 'LALIBERTAD+SANCHEZCARRION'\n",
            " 'LALIBERTAD+SANTIAGODECHUCO' 'LALIBERTAD+TRUJILLO' 'LALIBERTAD+VIRU'\n",
            " 'LAMBAYEQUE+CHICLAYO' 'LAMBAYEQUE+FERRENAFE' 'LAMBAYEQUE+LAMBAYEQUE'\n",
            " 'LIMA+BARRANCA' 'LIMA+CAJATAMBO' 'LIMA+CANTA' 'LIMA+CANETE' 'LIMA+HUARAL'\n",
            " 'LIMA+HUAROCHIRI' 'LIMA+HUAURA' 'LIMA+LIMA' 'LIMA+OYON' 'LIMA+YAUYOS'\n",
            " 'LORETO+ALTOAMAZONAS' 'LORETO+DATEMDELMARANON' 'LORETO+LORETO'\n",
            " 'LORETO+MARISCALRAMONCASTILLA' 'LORETO+MAYNAS' 'LORETO+PUTUMAYO'\n",
            " 'LORETO+REQUENA' 'LORETO+UCAYALI' 'MADREDEDIOS+MANU'\n",
            " 'MADREDEDIOS+TAHUAMANU' 'MADREDEDIOS+TAMBOPATA'\n",
            " 'MOQUEGUA+GENERALSANCHEZCERRO' 'MOQUEGUA+ILO' 'MOQUEGUA+MARISCALNIETO'\n",
            " 'PASCO+DANIELALCIDESCARRION' 'PASCO+OXAPAMPA' 'PASCO+PASCO'\n",
            " 'PIURA+AYABACA' 'PIURA+HUANCABAMBA' 'PIURA+MORROPON' 'PIURA+PAITA'\n",
            " 'PIURA+PIURA' 'PIURA+SECHURA' 'PIURA+SULLANA' 'PIURA+TALARA'\n",
            " 'PUNO+AZANGARO' 'PUNO+CARABAYA' 'PUNO+CHUCUITO' 'PUNO+ELCOLLAO'\n",
            " 'PUNO+HUANCANE' 'PUNO+LAMPA' 'PUNO+MELGAR' 'PUNO+MOHO' 'PUNO+PUNO'\n",
            " 'PUNO+SANANTONIODEPUTINA' 'PUNO+SANROMAN' 'PUNO+SANDIA' 'PUNO+YUNGUYO'\n",
            " 'SANMARTIN+BELLAVISTA' 'SANMARTIN+ELDORADO' 'SANMARTIN+HUALLAGA'\n",
            " 'SANMARTIN+LAMAS' 'SANMARTIN+MARISCALCACERES' 'SANMARTIN+MOYOBAMBA'\n",
            " 'SANMARTIN+PICOTA' 'SANMARTIN+RIOJA' 'SANMARTIN+SANMARTIN'\n",
            " 'SANMARTIN+TOCACHE' 'TACNA+CANDARAVE' 'TACNA+JORGEBASADRE' 'TACNA+TACNA'\n",
            " 'TACNA+TARATA' 'TUMBES+CONTRALMIRANTEVILLAR' 'TUMBES+TUMBES'\n",
            " 'TUMBES+ZARUMILLA' 'UCAYALI+ATALAYA' 'UCAYALI+CORONELPORTILLO'\n",
            " 'UCAYALI+PADREABAD' 'UCAYALI+PURUS']\n"
          ]
        }
      ],
      "source": [
        "# Aplicar los cambios en la columna 'location' del GeoDataFrame\n",
        "Covid_provYear_Fallecido_w.replace({'location': changesinDF}, inplace=True)\n",
        "\n",
        "# Verificar si se aplicaron correctamente\n",
        "print(Covid_provYear_Fallecido_w['location'].unique())\n"
      ]
    },
    {
      "cell_type": "code",
      "execution_count": 274,
      "id": "39ee4008",
      "metadata": {},
      "outputs": [
        {
          "name": "stdout",
          "output_type": "stream",
          "text": [
            "Diferencias en nomatch_df: set()\n",
            "Diferencias en nomatch_gdf: set()\n"
          ]
        }
      ],
      "source": [
        "# Verificar nuevamente las diferencias entre ambos GeoDataFrames\n",
        "nomatch_df = set(Covid_provYear_Fallecido_w.location) - set(provmap.location)\n",
        "nomatch_gdf = set(provmap.location) - set(Covid_provYear_Fallecido_w.location)\n",
        "\n",
        "# Mostrar las diferencias restantes\n",
        "print(\"Diferencias en nomatch_df:\", nomatch_df)\n",
        "print(\"Diferencias en nomatch_gdf:\", nomatch_gdf)\n"
      ]
    },
    {
      "cell_type": "markdown",
      "id": "6b462ab3",
      "metadata": {
        "id": "6b462ab3"
      },
      "source": [
        "If you are comfortable, you prepare a _dictionary_ of changes:"
      ]
    },
    {
      "cell_type": "markdown",
      "id": "20c8dd26",
      "metadata": {
        "id": "20c8dd26"
      },
      "source": [
        "Is it over?"
      ]
    },
    {
      "cell_type": "markdown",
      "id": "0bd65363",
      "metadata": {
        "id": "0bd65363"
      },
      "source": [
        "Now the merge can happen:"
      ]
    },
    {
      "cell_type": "code",
      "execution_count": 278,
      "id": "b1d3b077",
      "metadata": {
        "id": "b1d3b077"
      },
      "outputs": [],
      "source": [
        "Covid_provYear_Contagiados_map=provmap.merge(Covid_provYear_Contagiados_w, on='location',how='left',indicator='flag')"
      ]
    },
    {
      "cell_type": "code",
      "execution_count": 279,
      "id": "fe40f603",
      "metadata": {
        "id": "fe40f603"
      },
      "outputs": [
        {
          "name": "stdout",
          "output_type": "stream",
          "text": [
            "<class 'geopandas.geodataframe.GeoDataFrame'>\n",
            "RangeIndex: 196 entries, 0 to 195\n",
            "Data columns (total 15 columns):\n",
            " #   Column        Non-Null Count  Dtype   \n",
            "---  ------        --------------  -----   \n",
            " 0   OBJECTID      196 non-null    float64 \n",
            " 1   CCDD          196 non-null    object  \n",
            " 2   CCPP          196 non-null    object  \n",
            " 3   DEPARTAMEN    196 non-null    object  \n",
            " 4   PROVINCIA_x   196 non-null    object  \n",
            " 5   geometry      196 non-null    geometry\n",
            " 6   location      196 non-null    object  \n",
            " 7   DEPARTAMENTO  194 non-null    object  \n",
            " 8   PROVINCIA_y   194 non-null    object  \n",
            " 9   year2020      194 non-null    float64 \n",
            " 10  year2021      194 non-null    float64 \n",
            " 11  year2022      194 non-null    float64 \n",
            " 12  year2023      194 non-null    float64 \n",
            " 13  year2024      194 non-null    float64 \n",
            " 14  flag          196 non-null    category\n",
            "dtypes: category(1), float64(6), geometry(1), object(7)\n",
            "memory usage: 21.9+ KB\n"
          ]
        }
      ],
      "source": [
        "# check\n",
        "Covid_provYear_Contagiados_map.info()"
      ]
    },
    {
      "cell_type": "code",
      "execution_count": 280,
      "id": "0ab06d8c-aafb-46a5-a3e1-5b41eb3741c8",
      "metadata": {
        "id": "0ab06d8c-aafb-46a5-a3e1-5b41eb3741c8"
      },
      "outputs": [],
      "source": [
        "# avoid poblems with fillna()\n",
        "Covid_provYear_Contagiados_map['flag']=Covid_provYear_Contagiados_map.flag.astype(str)"
      ]
    },
    {
      "cell_type": "markdown",
      "id": "4142c0b7",
      "metadata": {
        "id": "4142c0b7"
      },
      "source": [
        "We can get rid of some columns:"
      ]
    },
    {
      "cell_type": "code",
      "execution_count": 281,
      "id": "ee2e517b",
      "metadata": {
        "id": "ee2e517b"
      },
      "outputs": [
        {
          "ename": "KeyError",
          "evalue": "\"['departamento', 'provincia'] not found in axis\"",
          "output_type": "error",
          "traceback": [
            "\u001b[1;31m---------------------------------------------------------------------------\u001b[0m",
            "\u001b[1;31mKeyError\u001b[0m                                  Traceback (most recent call last)",
            "Cell \u001b[1;32mIn[281], line 2\u001b[0m\n\u001b[0;32m      1\u001b[0m bye\u001b[38;5;241m=\u001b[39m[\u001b[38;5;124m'\u001b[39m\u001b[38;5;124mdepartamento\u001b[39m\u001b[38;5;124m'\u001b[39m, \u001b[38;5;124m'\u001b[39m\u001b[38;5;124mprovincia\u001b[39m\u001b[38;5;124m'\u001b[39m, \u001b[38;5;124m'\u001b[39m\u001b[38;5;124mCCPP\u001b[39m\u001b[38;5;124m'\u001b[39m,\u001b[38;5;124m'\u001b[39m\u001b[38;5;124mCCDD\u001b[39m\u001b[38;5;124m'\u001b[39m]\n\u001b[1;32m----> 2\u001b[0m \u001b[43mCovid_provYear_Contagiados_map\u001b[49m\u001b[38;5;241;43m.\u001b[39;49m\u001b[43mdrop\u001b[49m\u001b[43m(\u001b[49m\u001b[43mcolumns\u001b[49m\u001b[38;5;241;43m=\u001b[39;49m\u001b[43mbye\u001b[49m\u001b[43m,\u001b[49m\u001b[43minplace\u001b[49m\u001b[38;5;241;43m=\u001b[39;49m\u001b[38;5;28;43;01mTrue\u001b[39;49;00m\u001b[43m)\u001b[49m\n\u001b[0;32m      4\u001b[0m \u001b[38;5;66;03m# keeping\u001b[39;00m\n\u001b[0;32m      5\u001b[0m Covid_provYear_Contagiados_map\u001b[38;5;241m.\u001b[39mhead()\n",
            "File \u001b[1;32mc:\\Users\\maria\\AppData\\Local\\Programs\\Python\\Python312\\Lib\\site-packages\\pandas\\core\\frame.py:5581\u001b[0m, in \u001b[0;36mDataFrame.drop\u001b[1;34m(self, labels, axis, index, columns, level, inplace, errors)\u001b[0m\n\u001b[0;32m   5433\u001b[0m \u001b[38;5;28;01mdef\u001b[39;00m \u001b[38;5;21mdrop\u001b[39m(\n\u001b[0;32m   5434\u001b[0m     \u001b[38;5;28mself\u001b[39m,\n\u001b[0;32m   5435\u001b[0m     labels: IndexLabel \u001b[38;5;241m|\u001b[39m \u001b[38;5;28;01mNone\u001b[39;00m \u001b[38;5;241m=\u001b[39m \u001b[38;5;28;01mNone\u001b[39;00m,\n\u001b[1;32m   (...)\u001b[0m\n\u001b[0;32m   5442\u001b[0m     errors: IgnoreRaise \u001b[38;5;241m=\u001b[39m \u001b[38;5;124m\"\u001b[39m\u001b[38;5;124mraise\u001b[39m\u001b[38;5;124m\"\u001b[39m,\n\u001b[0;32m   5443\u001b[0m ) \u001b[38;5;241m-\u001b[39m\u001b[38;5;241m>\u001b[39m DataFrame \u001b[38;5;241m|\u001b[39m \u001b[38;5;28;01mNone\u001b[39;00m:\n\u001b[0;32m   5444\u001b[0m \u001b[38;5;250m    \u001b[39m\u001b[38;5;124;03m\"\"\"\u001b[39;00m\n\u001b[0;32m   5445\u001b[0m \u001b[38;5;124;03m    Drop specified labels from rows or columns.\u001b[39;00m\n\u001b[0;32m   5446\u001b[0m \n\u001b[1;32m   (...)\u001b[0m\n\u001b[0;32m   5579\u001b[0m \u001b[38;5;124;03m            weight  1.0     0.8\u001b[39;00m\n\u001b[0;32m   5580\u001b[0m \u001b[38;5;124;03m    \"\"\"\u001b[39;00m\n\u001b[1;32m-> 5581\u001b[0m     \u001b[38;5;28;01mreturn\u001b[39;00m \u001b[38;5;28;43msuper\u001b[39;49m\u001b[43m(\u001b[49m\u001b[43m)\u001b[49m\u001b[38;5;241;43m.\u001b[39;49m\u001b[43mdrop\u001b[49m\u001b[43m(\u001b[49m\n\u001b[0;32m   5582\u001b[0m \u001b[43m        \u001b[49m\u001b[43mlabels\u001b[49m\u001b[38;5;241;43m=\u001b[39;49m\u001b[43mlabels\u001b[49m\u001b[43m,\u001b[49m\n\u001b[0;32m   5583\u001b[0m \u001b[43m        \u001b[49m\u001b[43maxis\u001b[49m\u001b[38;5;241;43m=\u001b[39;49m\u001b[43maxis\u001b[49m\u001b[43m,\u001b[49m\n\u001b[0;32m   5584\u001b[0m \u001b[43m        \u001b[49m\u001b[43mindex\u001b[49m\u001b[38;5;241;43m=\u001b[39;49m\u001b[43mindex\u001b[49m\u001b[43m,\u001b[49m\n\u001b[0;32m   5585\u001b[0m \u001b[43m        \u001b[49m\u001b[43mcolumns\u001b[49m\u001b[38;5;241;43m=\u001b[39;49m\u001b[43mcolumns\u001b[49m\u001b[43m,\u001b[49m\n\u001b[0;32m   5586\u001b[0m \u001b[43m        \u001b[49m\u001b[43mlevel\u001b[49m\u001b[38;5;241;43m=\u001b[39;49m\u001b[43mlevel\u001b[49m\u001b[43m,\u001b[49m\n\u001b[0;32m   5587\u001b[0m \u001b[43m        \u001b[49m\u001b[43minplace\u001b[49m\u001b[38;5;241;43m=\u001b[39;49m\u001b[43minplace\u001b[49m\u001b[43m,\u001b[49m\n\u001b[0;32m   5588\u001b[0m \u001b[43m        \u001b[49m\u001b[43merrors\u001b[49m\u001b[38;5;241;43m=\u001b[39;49m\u001b[43merrors\u001b[49m\u001b[43m,\u001b[49m\n\u001b[0;32m   5589\u001b[0m \u001b[43m    \u001b[49m\u001b[43m)\u001b[49m\n",
            "File \u001b[1;32mc:\\Users\\maria\\AppData\\Local\\Programs\\Python\\Python312\\Lib\\site-packages\\pandas\\core\\generic.py:4788\u001b[0m, in \u001b[0;36mNDFrame.drop\u001b[1;34m(self, labels, axis, index, columns, level, inplace, errors)\u001b[0m\n\u001b[0;32m   4786\u001b[0m \u001b[38;5;28;01mfor\u001b[39;00m axis, labels \u001b[38;5;129;01min\u001b[39;00m axes\u001b[38;5;241m.\u001b[39mitems():\n\u001b[0;32m   4787\u001b[0m     \u001b[38;5;28;01mif\u001b[39;00m labels \u001b[38;5;129;01mis\u001b[39;00m \u001b[38;5;129;01mnot\u001b[39;00m \u001b[38;5;28;01mNone\u001b[39;00m:\n\u001b[1;32m-> 4788\u001b[0m         obj \u001b[38;5;241m=\u001b[39m \u001b[43mobj\u001b[49m\u001b[38;5;241;43m.\u001b[39;49m\u001b[43m_drop_axis\u001b[49m\u001b[43m(\u001b[49m\u001b[43mlabels\u001b[49m\u001b[43m,\u001b[49m\u001b[43m \u001b[49m\u001b[43maxis\u001b[49m\u001b[43m,\u001b[49m\u001b[43m \u001b[49m\u001b[43mlevel\u001b[49m\u001b[38;5;241;43m=\u001b[39;49m\u001b[43mlevel\u001b[49m\u001b[43m,\u001b[49m\u001b[43m \u001b[49m\u001b[43merrors\u001b[49m\u001b[38;5;241;43m=\u001b[39;49m\u001b[43merrors\u001b[49m\u001b[43m)\u001b[49m\n\u001b[0;32m   4790\u001b[0m \u001b[38;5;28;01mif\u001b[39;00m inplace:\n\u001b[0;32m   4791\u001b[0m     \u001b[38;5;28mself\u001b[39m\u001b[38;5;241m.\u001b[39m_update_inplace(obj)\n",
            "File \u001b[1;32mc:\\Users\\maria\\AppData\\Local\\Programs\\Python\\Python312\\Lib\\site-packages\\pandas\\core\\generic.py:4830\u001b[0m, in \u001b[0;36mNDFrame._drop_axis\u001b[1;34m(self, labels, axis, level, errors, only_slice)\u001b[0m\n\u001b[0;32m   4828\u001b[0m         new_axis \u001b[38;5;241m=\u001b[39m axis\u001b[38;5;241m.\u001b[39mdrop(labels, level\u001b[38;5;241m=\u001b[39mlevel, errors\u001b[38;5;241m=\u001b[39merrors)\n\u001b[0;32m   4829\u001b[0m     \u001b[38;5;28;01melse\u001b[39;00m:\n\u001b[1;32m-> 4830\u001b[0m         new_axis \u001b[38;5;241m=\u001b[39m \u001b[43maxis\u001b[49m\u001b[38;5;241;43m.\u001b[39;49m\u001b[43mdrop\u001b[49m\u001b[43m(\u001b[49m\u001b[43mlabels\u001b[49m\u001b[43m,\u001b[49m\u001b[43m \u001b[49m\u001b[43merrors\u001b[49m\u001b[38;5;241;43m=\u001b[39;49m\u001b[43merrors\u001b[49m\u001b[43m)\u001b[49m\n\u001b[0;32m   4831\u001b[0m     indexer \u001b[38;5;241m=\u001b[39m axis\u001b[38;5;241m.\u001b[39mget_indexer(new_axis)\n\u001b[0;32m   4833\u001b[0m \u001b[38;5;66;03m# Case for non-unique axis\u001b[39;00m\n\u001b[0;32m   4834\u001b[0m \u001b[38;5;28;01melse\u001b[39;00m:\n",
            "File \u001b[1;32mc:\\Users\\maria\\AppData\\Local\\Programs\\Python\\Python312\\Lib\\site-packages\\pandas\\core\\indexes\\base.py:7070\u001b[0m, in \u001b[0;36mIndex.drop\u001b[1;34m(self, labels, errors)\u001b[0m\n\u001b[0;32m   7068\u001b[0m \u001b[38;5;28;01mif\u001b[39;00m mask\u001b[38;5;241m.\u001b[39many():\n\u001b[0;32m   7069\u001b[0m     \u001b[38;5;28;01mif\u001b[39;00m errors \u001b[38;5;241m!=\u001b[39m \u001b[38;5;124m\"\u001b[39m\u001b[38;5;124mignore\u001b[39m\u001b[38;5;124m\"\u001b[39m:\n\u001b[1;32m-> 7070\u001b[0m         \u001b[38;5;28;01mraise\u001b[39;00m \u001b[38;5;167;01mKeyError\u001b[39;00m(\u001b[38;5;124mf\u001b[39m\u001b[38;5;124m\"\u001b[39m\u001b[38;5;132;01m{\u001b[39;00mlabels[mask]\u001b[38;5;241m.\u001b[39mtolist()\u001b[38;5;132;01m}\u001b[39;00m\u001b[38;5;124m not found in axis\u001b[39m\u001b[38;5;124m\"\u001b[39m)\n\u001b[0;32m   7071\u001b[0m     indexer \u001b[38;5;241m=\u001b[39m indexer[\u001b[38;5;241m~\u001b[39mmask]\n\u001b[0;32m   7072\u001b[0m \u001b[38;5;28;01mreturn\u001b[39;00m \u001b[38;5;28mself\u001b[39m\u001b[38;5;241m.\u001b[39mdelete(indexer)\n",
            "\u001b[1;31mKeyError\u001b[0m: \"['departamento', 'provincia'] not found in axis\""
          ]
        }
      ],
      "source": [
        "bye=['departamento', 'provincia', 'CCPP','CCDD']\n",
        "Covid_provYear_Contagiados_map.drop(columns=bye,inplace=True)\n",
        "\n",
        "# keeping\n",
        "Covid_provYear_Contagiados_map.head()"
      ]
    },
    {
      "cell_type": "code",
      "execution_count": null,
      "id": "45e4fffd-c40e-44a4-8861-7d777943f522",
      "metadata": {
        "id": "45e4fffd-c40e-44a4-8861-7d777943f522"
      },
      "outputs": [],
      "source": [
        "# filling with zeroes\n",
        "dengue_provYear_Alarm_map.fillna(0,inplace=True)"
      ]
    },
    {
      "cell_type": "markdown",
      "id": "a2ff93fc",
      "metadata": {
        "id": "a2ff93fc"
      },
      "source": [
        "We can save this geoDF:"
      ]
    },
    {
      "cell_type": "code",
      "execution_count": null,
      "id": "83c97517",
      "metadata": {
        "id": "83c97517"
      },
      "outputs": [],
      "source": [
        "import os\n",
        "dengue_provYear_Alarm_map.to_file(os.path.join('maps',\"provinciasPeru.gpkg\"), layer='provinciasDengue', driver=\"GPKG\")"
      ]
    },
    {
      "cell_type": "markdown",
      "id": "7b518c79",
      "metadata": {
        "id": "7b518c79"
      },
      "source": [
        "## Exploring one variable\n",
        "\n",
        "This time, we explore statistically one variable in the map:"
      ]
    },
    {
      "cell_type": "code",
      "execution_count": null,
      "id": "dbd7ca6a",
      "metadata": {
        "id": "dbd7ca6a"
      },
      "outputs": [],
      "source": [
        "# statistics\n",
        "dengue_provYear_Alarm_map.year2022.describe()"
      ]
    },
    {
      "cell_type": "markdown",
      "id": "26e6f260",
      "metadata": {
        "id": "26e6f260"
      },
      "source": [
        "A visual look:"
      ]
    },
    {
      "cell_type": "code",
      "execution_count": null,
      "id": "0b47a7e5",
      "metadata": {
        "id": "0b47a7e5"
      },
      "outputs": [],
      "source": [
        "import seaborn as sea\n",
        "\n",
        "sea.boxplot(dengue_provYear_Alarm_map.year2022, color='yellow',orient='h')"
      ]
    },
    {
      "cell_type": "code",
      "execution_count": null,
      "id": "051f0685-8175-43f8-b31f-40c804ce39ea",
      "metadata": {
        "id": "051f0685-8175-43f8-b31f-40c804ce39ea"
      },
      "outputs": [],
      "source": [
        "\n",
        "from sklearn.preprocessing import QuantileTransformer\n",
        "qt = QuantileTransformer(n_quantiles=100, random_state=0,output_distribution='normal')\n",
        "qt_result=qt.fit_transform(dengue_provYear_Alarm_map[['year2022']])\n",
        "sea.boxplot(qt_result, color='yellow',orient='h')"
      ]
    },
    {
      "cell_type": "code",
      "execution_count": null,
      "id": "f27262d0-1ed7-449c-99cf-818c679a3b3f",
      "metadata": {
        "id": "f27262d0-1ed7-449c-99cf-818c679a3b3f"
      },
      "outputs": [],
      "source": [
        "dengue_provYear_Alarm_map['year_2022_qt']=qt_result"
      ]
    },
    {
      "cell_type": "markdown",
      "id": "87708d4e",
      "metadata": {
        "id": "87708d4e"
      },
      "source": [
        "## Spatial Correlation\n",
        "\n",
        "### Neighboorhood\n",
        "\n",
        "We can compute the neighborhood in a map using different algorithms:"
      ]
    },
    {
      "cell_type": "code",
      "execution_count": null,
      "id": "a0152188",
      "metadata": {
        "id": "a0152188"
      },
      "outputs": [],
      "source": [
        "from libpysal.weights import Queen, Rook, KNN\n",
        "\n",
        "# rook\n",
        "\n",
        "w_rook = Rook.from_dataframe(dengue_provYear_Alarm_map,use_index=False)"
      ]
    },
    {
      "cell_type": "code",
      "execution_count": null,
      "id": "282be4af",
      "metadata": {
        "id": "282be4af"
      },
      "outputs": [],
      "source": [
        "# rook\n",
        "w_queen = Queen.from_dataframe(dengue_provYear_Alarm_map,use_index=False)"
      ]
    },
    {
      "cell_type": "code",
      "execution_count": null,
      "id": "008f5e05",
      "metadata": {
        "id": "008f5e05"
      },
      "outputs": [],
      "source": [
        "# k nearest neighbors\n",
        "w_knn = KNN.from_dataframe(dengue_provYear_Alarm_map, k=8)"
      ]
    },
    {
      "cell_type": "markdown",
      "id": "92c7c94a",
      "metadata": {
        "id": "92c7c94a"
      },
      "source": [
        "Let's understand the differences:"
      ]
    },
    {
      "cell_type": "code",
      "execution_count": null,
      "id": "d3df1a3e",
      "metadata": {
        "id": "d3df1a3e"
      },
      "outputs": [],
      "source": [
        "# first one\n",
        "dengue_provYear_Alarm_map.head(1)"
      ]
    },
    {
      "cell_type": "code",
      "execution_count": null,
      "id": "9cd010e7",
      "metadata": {
        "id": "9cd010e7"
      },
      "outputs": [],
      "source": [
        "# amount neighbors of that district\n",
        "w_rook.neighbors[0]"
      ]
    },
    {
      "cell_type": "code",
      "execution_count": null,
      "id": "fe8d9e8b",
      "metadata": {
        "id": "fe8d9e8b"
      },
      "outputs": [],
      "source": [
        "# see\n",
        "base=dengue_provYear_Alarm_map[dengue_provYear_Alarm_map.PROVINCIA==\"CHACHAPOYAS\"].plot()\n",
        "dengue_provYear_Alarm_map.iloc[w_rook.neighbors[0] ,].plot(ax=base,facecolor=\"yellow\",edgecolor='k')\n",
        "dengue_provYear_Alarm_map.head(1).plot(ax=base,facecolor=\"red\")"
      ]
    },
    {
      "cell_type": "markdown",
      "id": "8dee5594",
      "metadata": {
        "id": "8dee5594"
      },
      "source": [
        "Let's do the same:"
      ]
    },
    {
      "cell_type": "code",
      "execution_count": null,
      "id": "39a94ad6",
      "metadata": {
        "id": "39a94ad6"
      },
      "outputs": [],
      "source": [
        "w_queen.neighbors[0]"
      ]
    },
    {
      "cell_type": "code",
      "execution_count": null,
      "id": "959642c7",
      "metadata": {
        "id": "959642c7"
      },
      "outputs": [],
      "source": [
        "base=dengue_provYear_Alarm_map[dengue_provYear_Alarm_map.PROVINCIA==\"CHACHAPOYAS\"].plot()\n",
        "dengue_provYear_Alarm_map.iloc[w_queen.neighbors[0] ,].plot(ax=base,facecolor=\"yellow\",edgecolor='k')\n",
        "dengue_provYear_Alarm_map.head(1).plot(ax=base,facecolor=\"red\")"
      ]
    },
    {
      "cell_type": "code",
      "execution_count": null,
      "id": "eeaf1e44",
      "metadata": {
        "id": "eeaf1e44"
      },
      "outputs": [],
      "source": [
        "w_knn.neighbors[0]"
      ]
    },
    {
      "cell_type": "code",
      "execution_count": null,
      "id": "6143d69a",
      "metadata": {
        "id": "6143d69a"
      },
      "outputs": [],
      "source": [
        "base=dengue_provYear_Alarm_map[dengue_provYear_Alarm_map.PROVINCIA==\"CHACHAPOYAS\"].plot()\n",
        "dengue_provYear_Alarm_map.iloc[w_knn.neighbors[0] ,].plot(ax=base,facecolor=\"yellow\",edgecolor='k')\n",
        "dengue_provYear_Alarm_map.head(1).plot(ax=base,facecolor=\"red\")"
      ]
    },
    {
      "cell_type": "markdown",
      "id": "a96c4f9d",
      "metadata": {
        "id": "a96c4f9d"
      },
      "source": [
        "Let me pay attention to the queen results:"
      ]
    },
    {
      "cell_type": "code",
      "execution_count": null,
      "id": "743d91c6",
      "metadata": {
        "id": "743d91c6"
      },
      "outputs": [],
      "source": [
        "# all the neighbors by row\n",
        "w_queen.neighbors"
      ]
    },
    {
      "cell_type": "code",
      "execution_count": null,
      "id": "31f7bf1a",
      "metadata": {
        "id": "31f7bf1a"
      },
      "outputs": [],
      "source": [
        "# the matrix of neighboorhood:\n",
        "\n",
        "pd.DataFrame(*w_queen.full()).astype(int) # 1 means both are neighbors"
      ]
    },
    {
      "cell_type": "code",
      "execution_count": null,
      "id": "b4395652",
      "metadata": {
        "id": "b4395652"
      },
      "outputs": [],
      "source": [
        "# pct of neighboorhood (density)\n",
        "w_queen.pct_nonzero"
      ]
    },
    {
      "cell_type": "code",
      "execution_count": null,
      "id": "48e318d9",
      "metadata": {
        "id": "48e318d9"
      },
      "outputs": [],
      "source": [
        "# a province with NO neighbor?\n",
        "w_queen.islands"
      ]
    },
    {
      "cell_type": "markdown",
      "id": "28192fdf",
      "metadata": {
        "id": "28192fdf"
      },
      "source": [
        "## Moran's correlation\n",
        "\n",
        "We need the neighboorhood matrix (the weight matrix) to compute spatial correlation: if the variable value is correlated with the values of its neighbors - which proves a spatial effect."
      ]
    },
    {
      "cell_type": "code",
      "execution_count": null,
      "id": "2ea5e43d",
      "metadata": {
        "id": "2ea5e43d"
      },
      "outputs": [],
      "source": [
        "# needed for spatial correlation\n",
        "w_queen.transform = 'R'"
      ]
    },
    {
      "cell_type": "code",
      "execution_count": null,
      "id": "1c41c6b0",
      "metadata": {
        "id": "1c41c6b0"
      },
      "outputs": [],
      "source": [
        "pd.DataFrame(*w_queen.full()).sum(axis=1) # 1 means both are neighbors"
      ]
    },
    {
      "cell_type": "markdown",
      "id": "91941edd",
      "metadata": {
        "id": "91941edd"
      },
      "source": [
        "Spatial correlation is measured by the Moran's I statistic:"
      ]
    },
    {
      "cell_type": "code",
      "execution_count": null,
      "id": "003d47cb",
      "metadata": {
        "id": "003d47cb"
      },
      "outputs": [],
      "source": [
        "from esda.moran import Moran\n",
        "\n",
        "moranDENGUE = Moran(dengue_provYear_Alarm_map['year_2022_qt'], w_queen)\n",
        "moranDENGUE.I,moranDENGUE.p_sim"
      ]
    },
    {
      "cell_type": "markdown",
      "id": "7b80540e",
      "metadata": {
        "id": "7b80540e"
      },
      "source": [
        "The Moran's I is significant. Let's see:"
      ]
    },
    {
      "cell_type": "code",
      "execution_count": null,
      "id": "e950f7fd",
      "metadata": {
        "id": "e950f7fd"
      },
      "outputs": [],
      "source": [
        "from splot.esda import moran_scatterplot\n",
        "import matplotlib.pyplot as plt\n",
        "\n",
        "fig, ax = moran_scatterplot(moranDENGUE)\n",
        "ax.set_xlabel('Dengue_alarma_share')\n",
        "ax.set_ylabel('SpatialLag_Dengue_alarma_share')\n"
      ]
    },
    {
      "cell_type": "markdown",
      "id": "196148f8",
      "metadata": {
        "id": "196148f8"
      },
      "source": [
        "### Local Spatial Correlation\n",
        "\n",
        "We can compute a LISA (local Moran) for each case. That will help us find spatial clusters (spots) and spatial outliers:\n",
        "\n",
        "* A **hotSpot** is a polygon whose value in the variable is high AND is surrounded with polygons with also high values.\n",
        "\n",
        "* A **coldSpot** is a polygon whose value in the variable is low AND is surrounded with polygons with also low values.\n",
        "\n",
        "* A **coldOutlier** is a polygon whose value in the variable is low BUT is surrounded with polygons with  high values.\n",
        "\n",
        "* A **hotOutlier** is a polygon whose value in the variable is high BUT is surrounded with polygons with  low values.\n",
        "\n",
        "It is also possible that no significant correlation is detected. Let's see those values:"
      ]
    },
    {
      "cell_type": "code",
      "execution_count": null,
      "id": "36c6117d",
      "metadata": {
        "id": "36c6117d"
      },
      "outputs": [],
      "source": [
        "# The scatterplot with local info\n",
        "\n",
        "from esda.moran import Moran_Local\n",
        "\n",
        "# calculate Moran_Local and plot\n",
        "lisaDENGUE = Moran_Local(y=dengue_provYear_Alarm_map['year_2022_qt'], w=w_knn,seed=2022)\n",
        "fig, ax = moran_scatterplot(lisaDENGUE,p=0.05)\n",
        "ax.set_xlabel('Dengue_alarma_share')\n",
        "ax.set_ylabel('SpatialLag_Dengue_alarma_share');\n"
      ]
    },
    {
      "cell_type": "code",
      "execution_count": null,
      "id": "9126d85d",
      "metadata": {
        "id": "9126d85d"
      },
      "outputs": [],
      "source": [
        "from splot.esda import plot_local_autocorrelation\n",
        "plot_local_autocorrelation(lisaDENGUE, dengue_provYear_Alarm_map,'year_2022_qt')\n",
        "plt.show()"
      ]
    },
    {
      "cell_type": "code",
      "execution_count": null,
      "id": "44d1fb80",
      "metadata": {
        "id": "44d1fb80"
      },
      "outputs": [],
      "source": [
        "# the map with the spots and outliers\n",
        "\n",
        "from splot.esda import lisa_cluster\n",
        "f, ax = plt.subplots(1, figsize=(12, 12))\n",
        "plt.title('Spots and Outliers')\n",
        "fig = lisa_cluster(lisaDENGUE,\n",
        "                   dengue_provYear_Alarm_map,ax=ax,\n",
        "                   legend_kwds={'loc': 'center left',\n",
        "                                'bbox_to_anchor': (0.7, 0.6)})"
      ]
    },
    {
      "cell_type": "markdown",
      "id": "3c8d157e",
      "metadata": {
        "id": "3c8d157e"
      },
      "source": [
        "Let me add that data to my gdf:"
      ]
    },
    {
      "cell_type": "code",
      "execution_count": null,
      "id": "b67766a8",
      "metadata": {
        "id": "b67766a8"
      },
      "outputs": [],
      "source": [
        "# quadrant\n",
        "lisaDENGUE.q"
      ]
    },
    {
      "cell_type": "code",
      "execution_count": null,
      "id": "df8949df",
      "metadata": {
        "id": "df8949df"
      },
      "outputs": [],
      "source": [
        "# significance\n",
        "lisaDENGUE.p_sim"
      ]
    },
    {
      "cell_type": "code",
      "execution_count": null,
      "id": "8a07011f",
      "metadata": {
        "id": "8a07011f"
      },
      "outputs": [],
      "source": [
        "# quadrant: 1 HH,  2 LH,  3 LL,  4 HL\n",
        "pd.Series(lisaDENGUE.q).value_counts()"
      ]
    },
    {
      "cell_type": "markdown",
      "id": "79c4c66f",
      "metadata": {
        "id": "79c4c66f"
      },
      "source": [
        "The info in **lisaDENGUE.q** can not be used right away, we need to add if the local spatial correlation is significant:"
      ]
    },
    {
      "cell_type": "code",
      "execution_count": null,
      "id": "2e2977e6",
      "metadata": {
        "id": "2e2977e6"
      },
      "outputs": [],
      "source": [
        "dengue_provYear_Alarm_map['DENGUE_quadrant']=[l if p <0.05 else 0 for l,p in zip(lisaDENGUE.q,lisaDENGUE.p_sim)  ]\n",
        "dengue_provYear_Alarm_map['DENGUE_quadrant'].value_counts()"
      ]
    },
    {
      "cell_type": "markdown",
      "id": "f327eb6f",
      "metadata": {
        "id": "f327eb6f"
      },
      "source": [
        "Now, we recode:"
      ]
    },
    {
      "cell_type": "code",
      "execution_count": null,
      "id": "4fd49705",
      "metadata": {
        "id": "4fd49705"
      },
      "outputs": [],
      "source": [
        "labels = [ '0 no_sig', '1 hotSpot', '2 coldOutlier', '3 coldSpot', '4 hotOutlier']\n",
        "\n",
        "dengue_provYear_Alarm_map['DENGUE_quadrant_names']=[labels[i] for i in dengue_provYear_Alarm_map['DENGUE_quadrant']]\n",
        "\n",
        "dengue_provYear_Alarm_map['DENGUE_quadrant_names'].value_counts()\n"
      ]
    },
    {
      "cell_type": "markdown",
      "id": "0b662813",
      "metadata": {
        "id": "0b662813"
      },
      "source": [
        "Let's replot:"
      ]
    },
    {
      "cell_type": "code",
      "execution_count": null,
      "id": "30bad5df",
      "metadata": {
        "id": "30bad5df"
      },
      "outputs": [],
      "source": [
        "from matplotlib import colors\n",
        "myColMap = colors.ListedColormap([ 'ghostwhite', 'red', 'green', 'black','orange'])\n",
        "\n",
        "\n",
        "\n",
        "\n",
        "f, ax = plt.subplots(1, figsize=(12,12))\n",
        "\n",
        "\n",
        "plt.title('Spots and Outliers')\n",
        "\n",
        "dengue_provYear_Alarm_map.plot(column='DENGUE_quadrant_names',\n",
        "                categorical=True,\n",
        "                cmap=myColMap,\n",
        "                linewidth=0.1,\n",
        "                edgecolor='white',\n",
        "                legend=True,\n",
        "                legend_kwds={'loc': 'center left',\n",
        "                             'bbox_to_anchor': (0.7, 0.6)},\n",
        "                ax=ax)\n",
        "# Remove axis\n",
        "ax.set_axis_off()\n",
        "# Display the map\n",
        "plt.show()"
      ]
    },
    {
      "cell_type": "code",
      "execution_count": null,
      "id": "891df8b1-4902-42d4-b859-1bcb4d2f259f",
      "metadata": {
        "id": "891df8b1-4902-42d4-b859-1bcb4d2f259f"
      },
      "outputs": [],
      "source": [
        "dengue_provYear_Alarm_map.explore(\"DENGUE_quadrant_names\", categorical=True,tooltip='location',cmap=myColMap)"
      ]
    },
    {
      "cell_type": "code",
      "execution_count": null,
      "id": "f36dcf59-b630-4506-8186-eb4959722458",
      "metadata": {
        "id": "f36dcf59-b630-4506-8186-eb4959722458"
      },
      "outputs": [],
      "source": [
        "import folium\n",
        "\n",
        "map1=dengue_provYear_Alarm_map[dengue_provYear_Alarm_map.DENGUE_quadrant_names=='1 hotSpot']\n",
        "map2=dengue_provYear_Alarm_map[dengue_provYear_Alarm_map.DENGUE_quadrant_names=='2 coldOutlier']\n",
        "map3=dengue_provYear_Alarm_map[dengue_provYear_Alarm_map.DENGUE_quadrant_names=='3 coldSpot']\n",
        "map4=dengue_provYear_Alarm_map[dengue_provYear_Alarm_map.DENGUE_quadrant_names=='4 hotOutlier']\n",
        "\n",
        "m = map1.explore(\n",
        "    color=\"red\",\n",
        "    tooltip=False,  # hide tooltip\n",
        "    popup=[\"location\"],  # (on-click)\n",
        "    name=\"hotSpot\"  # name of the layer in the map\n",
        ")\n",
        "\n",
        "map2.explore(\n",
        "    m=m, # notice\n",
        "    color=\"green\",\n",
        "    tooltip=False,\n",
        "    popup=[\"location\"],\n",
        "    name=\"coldOutlier\"\n",
        ")\n",
        "\n",
        "map3.explore(\n",
        "    m=m,\n",
        "    color=\"black\",\n",
        "    tooltip=False,\n",
        "    popup=[\"location\"],\n",
        "    name=\"coldSpot\",\n",
        ")\n",
        "\n",
        "map4.explore(\n",
        "    m=m,\n",
        "    color=\"orange\",\n",
        "    tooltip=False,\n",
        "    popup=[\"location\"],\n",
        "    name=\"hotOutlier\",\n",
        ")\n",
        "\n",
        "folium.TileLayer(\"CartoDB positron\", show=False).add_to(m)  # use folium to add alternative tiles\n",
        "folium.LayerControl(collapsed=True).add_to(m)  # use folium to add layer control\n",
        "\n",
        "m  # show map"
      ]
    },
    {
      "cell_type": "markdown",
      "id": "14195e15",
      "metadata": {
        "id": "14195e15"
      },
      "source": [
        "## Bivariate LISA"
      ]
    },
    {
      "cell_type": "code",
      "execution_count": null,
      "id": "67a6ce18",
      "metadata": {
        "id": "67a6ce18"
      },
      "outputs": [],
      "source": [
        "#from esda.moran import Moran_BV, Moran_Local_BV\n",
        "from esda.moran import Moran_BV\n",
        "\n",
        "mbi = Moran_BV(dengue_provYear_Alarm_map['year2021'],  dengue_provYear_Alarm_map['year2022'],  w_queen)\n",
        "mbi.I,mbi.p_sim"
      ]
    },
    {
      "cell_type": "code",
      "execution_count": null,
      "id": "3e5e3551",
      "metadata": {
        "id": "3e5e3551"
      },
      "outputs": [],
      "source": [
        "# The scatterplot with local info\n",
        "from esda.moran import Moran_Local_BV\n",
        "\n",
        "# calculate Moran_Local and plot\n",
        "lisaDENGUE_bv = Moran_Local_BV(y=dengue_provYear_Alarm_map['year2021'],\n",
        "                               x=dengue_provYear_Alarm_map['year2022'],\n",
        "                               w=w_queen)\n",
        "\n",
        "fig, ax = moran_scatterplot(lisaDENGUE_bv, p=0.05,aspect_equal=True)\n",
        "\n",
        "ax.set_xlabel('Dengue_2022')\n",
        "ax.set_ylabel('SpatialLag_Dengue_2021')\n",
        "plt.show()"
      ]
    },
    {
      "cell_type": "code",
      "execution_count": null,
      "id": "d7e74e82",
      "metadata": {
        "id": "d7e74e82"
      },
      "outputs": [],
      "source": [
        "dengue_provYear_Alarm_map['DENGUE_quadrant_21_22']=[l if p <0.05 else 0 for l,p in zip(lisaDENGUE_bv.q,lisaDENGUE_bv.p_sim)  ]\n",
        "\n",
        "labels = [ '0 no_sig', '1 hotSpot', '2 coldOutlier', '3 coldSpot', '4 hotOutlier']\n",
        "\n",
        "dengue_provYear_Alarm_map['DENGUE_quadrant_21_22_names']=[labels[i] for i in dengue_provYear_Alarm_map['DENGUE_quadrant_21_22']]\n"
      ]
    },
    {
      "cell_type": "code",
      "execution_count": null,
      "id": "042743f0",
      "metadata": {
        "id": "042743f0"
      },
      "outputs": [],
      "source": [
        "# see new columns\n",
        "dengue_provYear_Alarm_map"
      ]
    },
    {
      "cell_type": "code",
      "execution_count": null,
      "id": "c0f5e3f9",
      "metadata": {
        "id": "c0f5e3f9"
      },
      "outputs": [],
      "source": [
        "from matplotlib import colors\n",
        "myColMap = colors.ListedColormap([ 'ghostwhite', 'red', 'green', 'black','orange'])\n",
        "\n",
        "\n",
        "\n",
        "\n",
        "f, ax = plt.subplots(1, figsize=(12,12))\n",
        "\n",
        "\n",
        "plt.title('Spots and Outliers')\n",
        "\n",
        "dengue_provYear_Alarm_map.plot(column='DENGUE_quadrant_21_22_names',\n",
        "                categorical=True,\n",
        "                cmap=myColMap,\n",
        "                linewidth=0.1,\n",
        "                edgecolor='white',\n",
        "                legend=True,\n",
        "                legend_kwds={'loc': 'center left',\n",
        "                             'bbox_to_anchor': (0.7, 0.6)},\n",
        "                ax=ax)\n",
        "# Remove axis\n",
        "ax.set_axis_off()\n",
        "# Display the map\n",
        "plt.show()"
      ]
    },
    {
      "cell_type": "code",
      "execution_count": null,
      "id": "d351c3b4",
      "metadata": {
        "id": "d351c3b4"
      },
      "outputs": [],
      "source": []
    }
  ],
  "metadata": {
    "colab": {
      "provenance": []
    },
    "hide_input": false,
    "kernelspec": {
      "display_name": "Python 3",
      "language": "python",
      "name": "python3"
    },
    "language_info": {
      "codemirror_mode": {
        "name": "ipython",
        "version": 3
      },
      "file_extension": ".py",
      "mimetype": "text/x-python",
      "name": "python",
      "nbconvert_exporter": "python",
      "pygments_lexer": "ipython3",
      "version": "3.12.5"
    }
  },
  "nbformat": 4,
  "nbformat_minor": 5
}
